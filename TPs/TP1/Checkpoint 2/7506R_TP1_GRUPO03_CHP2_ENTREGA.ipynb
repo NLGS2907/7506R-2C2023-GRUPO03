{
  "cells": [
    {
      "cell_type": "markdown",
      "metadata": {
        "id": "-T2x6o1Vw_oT"
      },
      "source": [
        "# Trabajo Práctico 1: Reservas de Hotel\n",
        "\n",
        "<hr width=\"50%\" align=\"left\"/>\n",
        "\n",
        "<br/>\n",
        "\n",
        "# Clasificación - Entrenamiento y Predicción\n",
        "## **Checkpoint 2 - \"Árbol de Decisión\"**\n",
        "\n",
        "<br/>\n",
        "\n",
        "## **Grupo:** 03 - **_\"Hackers Panas\"_**\n",
        "\n",
        "<br/>\n",
        "\n",
        "## **Integrantes:**\n",
        "\n",
        "<p>\n",
        "<img align=\"left\" src=\"https://github.com/NLGS2907.png\" height=50 width=50 />\n",
        "\n",
        "### [Franco Lighterman Reismann](https://github.com/NLGS2907) (106714)\n",
        "<br/>\n",
        "</p>\n",
        "\n",
        "<p>\n",
        "<img align=\"left\" src=\"https://github.com/MarcosGN.png\" height=50 width=50 />\n",
        "\n",
        "### [Marcos García Neira](https://github.com/MarcosGN) (110363)\n",
        "<br/>\n",
        "</p>\n",
        "\n",
        "<p>\n",
        "<img align=\"left\" src=\"https://github.com/mmaddalena.png\" height=50 width=50 />\n",
        "\n",
        "### [Martín Andrés Madalena](https://github.com/mmaddalena) (107610)\n",
        "</p>\n",
        "\n",
        "<br/><br/><br/><br/>\n",
        "<hr/>"
      ]
    },
    {
      "cell_type": "markdown",
      "metadata": {
        "id": "wrGJMXUtxrhn"
      },
      "source": [
        "# **Instalaciones e _imports_ de librerías y otras dependencias.**\n",
        "\n",
        "Instalaciones con `pip`, y otros _imports_ de uso global, para que estén en un sólo lado."
      ]
    },
    {
      "cell_type": "code",
      "execution_count": 2,
      "metadata": {
        "id": "Jy2B8p5Ixk5d"
      },
      "outputs": [],
      "source": [
        "# Procesamiento de datos\n",
        "import numpy as np\n",
        "import pandas as pd\n",
        "\n",
        "# Herramientas para graficar\n",
        "import matplotlib.pyplot as plt\n",
        "import seaborn as sns"
      ]
    },
    {
      "cell_type": "markdown",
      "metadata": {
        "id": "LeWmm0cfycY1"
      },
      "source": [
        "<hr width=\"50%\" align=\"left\"/>"
      ]
    },
    {
      "cell_type": "markdown",
      "metadata": {
        "id": "Z0SnW7ruy0Im"
      },
      "source": [
        "# **Preprocesamiento de Datos**"
      ]
    },
    {
      "cell_type": "markdown",
      "metadata": {
        "id": "h6UUvQSgye5F"
      },
      "source": [
        "Primero importamos del dataset:"
      ]
    },
    {
      "cell_type": "code",
      "execution_count": 3,
      "metadata": {
        "id": "h6Db4LumydA4"
      },
      "outputs": [],
      "source": [
        "# original = pd.read_csv(\"../Datasets/hotels_train.csv\")\n",
        "original = pd.read_csv(\"https://raw.githubusercontent.com/NLGS2907/7506R-2C2023-GRUPO03/master/TPs/TP1/Datasets/hotels_train.csv\")\n",
        "df_trabajo = original.copy()"
      ]
    },
    {
      "cell_type": "markdown",
      "metadata": {
        "id": "ID8Ve2qWy6_i"
      },
      "source": [
        "Y luego le aplicamos rápidamente todos los tratamientos explicados en detalle en la [notebook](https://github.com/NLGS2907/7506R-2C2023-GRUPO03/blob/master/TPs/TP1/7506R_TP1_GRUPO03_CHP1_ENTREGA.ipynb) y el [reporte](https://github.com/NLGS2907/7506R-2C2023-GRUPO03/blob/master/TPs/TP1/7506R_TP1_GRUPO03_CHP1_REPORTE.pdf) del _checkpoint_ 1."
      ]
    }
  ],
  "metadata": {
    "colab": {
      "provenance": []
    },
    "kernelspec": {
      "display_name": "Python 3",
      "name": "python3"
    },
    "language_info": {
      "name": "python"
    }
  },
  "nbformat": 4,
  "nbformat_minor": 0
}
