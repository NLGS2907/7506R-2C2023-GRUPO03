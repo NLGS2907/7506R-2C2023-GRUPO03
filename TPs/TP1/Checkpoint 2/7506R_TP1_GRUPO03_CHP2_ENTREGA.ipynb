{
  "cells": [
    {
      "cell_type": "markdown",
      "metadata": {
        "id": "-T2x6o1Vw_oT"
      },
      "source": [
        "# Trabajo Práctico 1: Reservas de Hotel\n",
        "\n",
        "<hr width=\"50%\" align=\"left\"/>\n",
        "\n",
        "<br/>\n",
        "\n",
        "# Clasificación - Entrenamiento y Predicción\n",
        "## **Checkpoint 2 - \"Árbol de Decisión\"**\n",
        "\n",
        "<br/>\n",
        "\n",
        "## **Grupo:** 03 - **_\"Hackers Panas\"_**\n",
        "\n",
        "<br/>\n",
        "\n",
        "## **Integrantes:**\n",
        "\n",
        "<p>\n",
        "<img align=\"left\" src=\"https://github.com/NLGS2907.png\" height=50 width=50 />\n",
        "\n",
        "### [Franco Lighterman Reismann](https://github.com/NLGS2907) (106714)\n",
        "<br/>\n",
        "</p>\n",
        "\n",
        "<p>\n",
        "<img align=\"left\" src=\"https://github.com/MarcosGN.png\" height=50 width=50 />\n",
        "\n",
        "### [Marcos García Neira](https://github.com/MarcosGN) (110363)\n",
        "<br/>\n",
        "</p>\n",
        "\n",
        "<p>\n",
        "<img align=\"left\" src=\"https://github.com/mmaddalena.png\" height=50 width=50 />\n",
        "\n",
        "### [Martín Andrés Madalena](https://github.com/mmaddalena) (107610)\n",
        "</p>\n",
        "\n",
        "<br/><br/><br/><br/>\n",
        "<hr/>"
      ]
    },
    {
      "cell_type": "markdown",
      "metadata": {
        "id": "wrGJMXUtxrhn"
      },
      "source": [
        "# **Instalaciones e _imports_ de librerías y otras dependencias.**\n",
        "\n",
        "Instalaciones con `pip`, y otros _imports_ de uso global, para que estén en un sólo lado."
      ]
    },
    {
      "cell_type": "code",
      "execution_count": 25,
      "metadata": {
        "id": "5hfOfdE088Vm"
      },
      "outputs": [],
      "source": [
        "# No queremos ver la salida de pip\n",
        "%%capture\n",
        "# ---------- #\n",
        "\n",
        "%pip install \"dtreeviz\""
      ]
    },
    {
      "cell_type": "code",
      "execution_count": 26,
      "metadata": {
        "id": "Jy2B8p5Ixk5d",
        "colab": {
          "base_uri": "https://localhost:8080/"
        },
        "outputId": "066dcdef-8324-41da-d1b2-3ed0ee22c1d1"
      },
      "outputs": [
        {
          "output_type": "stream",
          "name": "stdout",
          "text": [
            "Drive already mounted at /content/drive; to attempt to forcibly remount, call drive.mount(\"/content/drive\", force_remount=True).\n"
          ]
        }
      ],
      "source": [
        "# Procesamiento de datos\n",
        "import numpy as np\n",
        "import pandas as pd\n",
        "\n",
        "# Herramientas de visualización\n",
        "import matplotlib.pyplot as plt\n",
        "import seaborn as sns\n",
        "import dtreeviz\n",
        "\n",
        "# sklearn\n",
        "from sklearn.tree import DecisionTreeClassifier, plot_tree\n",
        "from sklearn.impute import SimpleImputer\n",
        "from sklearn.model_selection import train_test_split, KFold, StratifiedKFold, RandomizedSearchCV, GridSearchCV\n",
        "from sklearn.metrics import (precision_score, recall_score, accuracy_score, f1_score, make_scorer,\n",
        "                             confusion_matrix, classification_report)\n",
        "from sklearn.preprocessing import OneHotEncoder\n",
        "\n",
        "# type hinting\n",
        "from typing import Literal, Optional, TYPE_CHECKING, Union\n",
        "if TYPE_CHECKING:\n",
        "    from os import PathLike\n",
        "\n",
        "# Otros\n",
        "from IPython.display import display # preferible a print()\n",
        "from pathlib import Path\n",
        "from warnings import simplefilter\n",
        "from google.colab import drive\n",
        "\n",
        "simplefilter(action='ignore', category=FutureWarning)\n",
        "simplefilter(action='ignore', category=UserWarning)\n",
        "drive.mount('/content/drive')"
      ]
    },
    {
      "cell_type": "markdown",
      "metadata": {
        "id": "LeWmm0cfycY1"
      },
      "source": [
        "<hr/>"
      ]
    },
    {
      "cell_type": "markdown",
      "metadata": {
        "id": "Z0SnW7ruy0Im"
      },
      "source": [
        "# **Preprocesamiento de Datos**"
      ]
    },
    {
      "cell_type": "markdown",
      "metadata": {
        "id": "h6UUvQSgye5F"
      },
      "source": [
        "Primero importamos el dataset:"
      ]
    },
    {
      "cell_type": "code",
      "execution_count": 27,
      "metadata": {
        "id": "h6Db4LumydA4"
      },
      "outputs": [],
      "source": [
        "# train = pd.read_csv(\"../Datasets/hotels_train.csv\")\n",
        "# tests = pd.read_csv(\"../Datasets/hotels_test.csv\")\n",
        "train = pd.read_csv(\"https://raw.githubusercontent.com/NLGS2907/7506R-2C2023-GRUPO03/master/TPs/TP1/Datasets/hotels_train.csv\")\n",
        "tests = pd.read_csv(\"https://raw.githubusercontent.com/NLGS2907/7506R-2C2023-GRUPO03/master/TPs/TP1/Datasets/hotels_test.csv\")"
      ]
    },
    {
      "cell_type": "code",
      "execution_count": 28,
      "metadata": {
        "id": "KOTmADnPCgVo"
      },
      "outputs": [],
      "source": [
        "# Variables de uso global\n",
        "variables_categoricas = [\"hotel\", \"arrival_date_month\", \"meal\", \"country\", \"market_segment\", \"distribution_channel\",\n",
        "                         \"is_repeated_guest\", \"reserved_room_type\", \"assigned_room_type\", \"deposit_type\", \"agent\",\n",
        "                         \"company\", \"customer_type\", \"is_canceled\"] # id no se deja a propósito\n",
        "variables_cuantitativas = [categoria for categoria in train.columns if categoria not in variables_categoricas + [\"id\"]]"
      ]
    },
    {
      "cell_type": "markdown",
      "metadata": {
        "id": "ID8Ve2qWy6_i"
      },
      "source": [
        "Y luego le aplicamos rápidamente todos los tratamientos explicados en detalle en la [notebook](https://github.com/NLGS2907/7506R-2C2023-GRUPO03/blob/4426ce7a86d5d9d53d44b14116cc443c6f27f016/TPs/TP1/Checkpoint%201/7506R_TP1_GRUPO03_CHP1_ENTREGA.ipynb) y el [reporte](https://github.com/NLGS2907/7506R-2C2023-GRUPO03/blob/4426ce7a86d5d9d53d44b14116cc443c6f27f016/TPs/TP1/Checkpoint%201/7506R_TP1_GRUPO03_CHP1_REPORTE.pdf) del _checkpoint_ 1 a ambos datasets:"
      ]
    },
    {
      "cell_type": "code",
      "execution_count": 29,
      "metadata": {
        "id": "CWLy3iwq3lBM"
      },
      "outputs": [],
      "source": [
        "def tratamiento_chp1(df: pd.DataFrame,\n",
        "                     *,\n",
        "                     borrar_filas: bool=True,\n",
        "                     borrar_columnas: bool=True,\n",
        "                     imputaciones: bool=True) -> pd.DataFrame:\n",
        "    \"\"\"\n",
        "    Realiza en forma rápida un resumen de todos los tratamientos explicados en el checkpoint 1\n",
        "    a un DataFrame. Devuelve una copia sin afectar el original.\n",
        "    -\n",
        "    'borrar_filas': Si realizar los trabajos que borran filas o no.\n",
        "\n",
        "    'borrar_columnas': Si realizar los trabajos que borran columnas o no.\n",
        "\n",
        "    'imputaciones': Si realizar trabajos de imputaciones con el valor más frecuente.\n",
        "    \"\"\"\n",
        "\n",
        "    df_copia = df.copy()\n",
        "\n",
        "    # Eliminación de registros incompletos\n",
        "    if borrar_columnas:\n",
        "        df_copia = df_copia.drop(columns=[\"company\"])\n",
        "\n",
        "    if borrar_filas:\n",
        "        df_copia = df_copia.dropna(axis=\"index\", subset=[\"children\", \"country\"])\n",
        "    # ------------------------------ #\n",
        "\n",
        "    # Imputación simple de datos\n",
        "    if imputaciones:\n",
        "        columnas_con_nulos = df.columns[df.isna().any()].tolist()\n",
        "        imputador = SimpleImputer(missing_values=np.nan, strategy=\"most_frequent\")\n",
        "        datos_imputados = imputador.fit_transform(df_copia)\n",
        "        df_imp = pd.DataFrame(data=datos_imputados,\n",
        "                            index=df_copia.index,\n",
        "                            columns=df_copia.columns)\n",
        "        for col in columnas_con_nulos:\n",
        "            if col in df_copia.columns: # que no llore si ya fue borrado\n",
        "                df_copia[col] = df_imp[col]\n",
        "        df_copia.reset_index(drop=True) # para hacer coincidir de nuevo los números del índice\n",
        "    # ------------------------------ #\n",
        "\n",
        "    # Creación de columnas personalizadas\n",
        "    if \"people\" not in df_copia.columns:\n",
        "        df_copia.insert(11, \"people\", (df_copia[\"adults\"] + df_copia[\"children\"] + df_copia[\"babies\"]).astype(int))\n",
        "    # ------------------------------ #\n",
        "\n",
        "    # Conversión a enteros de columnas pertinentes\n",
        "    for categoria in [\"children\", \"agent\"]:\n",
        "        df_copia[categoria] = df_copia[categoria].astype(int)\n",
        "    # ------------------------------ #\n",
        "\n",
        "    # Valores Atípicos\n",
        "    if borrar_filas:\n",
        "        if df_copia[\"adr\"][df_copia[\"adr\"] <= 0].count() != 0:\n",
        "            df_copia.drop(df_copia[df_copia[\"adr\"] <= 0].index, inplace=True)\n",
        "\n",
        "        if df_copia[\"adults\"][df_copia[\"adults\"] == 0].count() != 0:\n",
        "            df_copia.drop(df_copia[df_copia[\"adults\"] == 0].index, inplace=True)\n",
        "\n",
        "        if df_copia[\"people\"][df_copia[\"people\"] > 5].count() != 0:\n",
        "            df_copia.drop(df_copia[df_copia[\"people\"] > 5].index, inplace=True)\n",
        "\n",
        "        if df_copia[(df_copia[\"is_repeated_guest\"] == 0) &\n",
        "                    (df_copia[\"previous_bookings_not_canceled\"] != 0)].shape[0] != 0:\n",
        "            df_copia.drop(df_copia[(df_copia[\"is_repeated_guest\"] == 0) &\n",
        "                                   (df_copia[\"previous_bookings_not_canceled\"] != 0)].index, inplace=True)\n",
        "    # ------------------------------ #\n",
        "\n",
        "    return df_copia"
      ]
    },
    {
      "cell_type": "code",
      "execution_count": 30,
      "metadata": {
        "id": "9bR77QB_4d7M"
      },
      "outputs": [],
      "source": [
        "df_chp2 = tratamiento_chp1(train)"
      ]
    },
    {
      "cell_type": "markdown",
      "metadata": {
        "id": "dm4Kxf62D5Q2"
      },
      "source": [
        "Al dataset de testeo es pertinente hacerle un análisis exploratorio propio igual, pues podría contener características distintas al de entrenamiento."
      ]
    },
    {
      "cell_type": "code",
      "execution_count": 31,
      "metadata": {
        "id": "W15anT0gEI8i",
        "colab": {
          "base_uri": "https://localhost:8080/",
          "height": 933
        },
        "outputId": "b24016ec-3b5d-420d-d876-05461a6d68b6"
      },
      "outputs": [
        {
          "output_type": "display_data",
          "data": {
            "text/plain": [
              "          hotel  lead_time  arrival_date_year arrival_date_month  \\\n",
              "0    City Hotel        277               2016           November   \n",
              "1    City Hotel        286               2016                May   \n",
              "2    City Hotel          0               2016             August   \n",
              "3  Resort Hotel        196               2016            October   \n",
              "4  Resort Hotel        232               2016           November   \n",
              "\n",
              "   arrival_date_week_number  arrival_date_day_of_month  \\\n",
              "0                        46                          7   \n",
              "1                        20                         11   \n",
              "2                        35                         23   \n",
              "3                        44                         29   \n",
              "4                        48                         26   \n",
              "\n",
              "   stays_in_weekend_nights  stays_in_week_nights  adults  children  ...  \\\n",
              "0                        1                     2       2       0.0  ...   \n",
              "1                        0                     4       2       0.0  ...   \n",
              "2                        0                     1       3       0.0  ...   \n",
              "3                        2                     5       2       2.0  ...   \n",
              "4                        2                     1       2       0.0  ...   \n",
              "\n",
              "   deposit_type  agent company days_in_waiting_list    customer_type    adr  \\\n",
              "0    Non Refund    NaN     NaN                    0        Transient  100.0   \n",
              "1    No Deposit   30.0     NaN                  176  Transient-Party  101.0   \n",
              "2    No Deposit    NaN     NaN                    0        Transient  225.0   \n",
              "3    No Deposit  240.0     NaN                    0        Transient   96.0   \n",
              "4    Non Refund   11.0     NaN                    0        Transient   30.0   \n",
              "\n",
              "   required_car_parking_spaces  total_of_special_requests  \\\n",
              "0                            0                          0   \n",
              "1                            0                          0   \n",
              "2                            0                          2   \n",
              "3                            0                          0   \n",
              "4                            0                          0   \n",
              "\n",
              "  reservation_status_date                                    id  \n",
              "0              2016-04-04  e6d0d58a-ab96-44d3-b28f-85df1cc15f1e  \n",
              "1              2016-01-22  aba9aac2-4495-4645-a60e-90328713c999  \n",
              "2              2016-08-24  b345b5dc-c804-4d77-a39f-1f4e65d1f1ad  \n",
              "3              2016-11-05  ce1b400e-afa1-4946-bdff-004b859eb61c  \n",
              "4              2016-10-18  c4fbec0d-8e2e-4db2-9d4f-a6ccb9f51214  \n",
              "\n",
              "[5 rows x 31 columns]"
            ],
            "text/html": [
              "\n",
              "  <div id=\"df-1646021d-29e8-49bf-8a1f-04b5680bbd05\" class=\"colab-df-container\">\n",
              "    <div>\n",
              "<style scoped>\n",
              "    .dataframe tbody tr th:only-of-type {\n",
              "        vertical-align: middle;\n",
              "    }\n",
              "\n",
              "    .dataframe tbody tr th {\n",
              "        vertical-align: top;\n",
              "    }\n",
              "\n",
              "    .dataframe thead th {\n",
              "        text-align: right;\n",
              "    }\n",
              "</style>\n",
              "<table border=\"1\" class=\"dataframe\">\n",
              "  <thead>\n",
              "    <tr style=\"text-align: right;\">\n",
              "      <th></th>\n",
              "      <th>hotel</th>\n",
              "      <th>lead_time</th>\n",
              "      <th>arrival_date_year</th>\n",
              "      <th>arrival_date_month</th>\n",
              "      <th>arrival_date_week_number</th>\n",
              "      <th>arrival_date_day_of_month</th>\n",
              "      <th>stays_in_weekend_nights</th>\n",
              "      <th>stays_in_week_nights</th>\n",
              "      <th>adults</th>\n",
              "      <th>children</th>\n",
              "      <th>...</th>\n",
              "      <th>deposit_type</th>\n",
              "      <th>agent</th>\n",
              "      <th>company</th>\n",
              "      <th>days_in_waiting_list</th>\n",
              "      <th>customer_type</th>\n",
              "      <th>adr</th>\n",
              "      <th>required_car_parking_spaces</th>\n",
              "      <th>total_of_special_requests</th>\n",
              "      <th>reservation_status_date</th>\n",
              "      <th>id</th>\n",
              "    </tr>\n",
              "  </thead>\n",
              "  <tbody>\n",
              "    <tr>\n",
              "      <th>0</th>\n",
              "      <td>City Hotel</td>\n",
              "      <td>277</td>\n",
              "      <td>2016</td>\n",
              "      <td>November</td>\n",
              "      <td>46</td>\n",
              "      <td>7</td>\n",
              "      <td>1</td>\n",
              "      <td>2</td>\n",
              "      <td>2</td>\n",
              "      <td>0.0</td>\n",
              "      <td>...</td>\n",
              "      <td>Non Refund</td>\n",
              "      <td>NaN</td>\n",
              "      <td>NaN</td>\n",
              "      <td>0</td>\n",
              "      <td>Transient</td>\n",
              "      <td>100.0</td>\n",
              "      <td>0</td>\n",
              "      <td>0</td>\n",
              "      <td>2016-04-04</td>\n",
              "      <td>e6d0d58a-ab96-44d3-b28f-85df1cc15f1e</td>\n",
              "    </tr>\n",
              "    <tr>\n",
              "      <th>1</th>\n",
              "      <td>City Hotel</td>\n",
              "      <td>286</td>\n",
              "      <td>2016</td>\n",
              "      <td>May</td>\n",
              "      <td>20</td>\n",
              "      <td>11</td>\n",
              "      <td>0</td>\n",
              "      <td>4</td>\n",
              "      <td>2</td>\n",
              "      <td>0.0</td>\n",
              "      <td>...</td>\n",
              "      <td>No Deposit</td>\n",
              "      <td>30.0</td>\n",
              "      <td>NaN</td>\n",
              "      <td>176</td>\n",
              "      <td>Transient-Party</td>\n",
              "      <td>101.0</td>\n",
              "      <td>0</td>\n",
              "      <td>0</td>\n",
              "      <td>2016-01-22</td>\n",
              "      <td>aba9aac2-4495-4645-a60e-90328713c999</td>\n",
              "    </tr>\n",
              "    <tr>\n",
              "      <th>2</th>\n",
              "      <td>City Hotel</td>\n",
              "      <td>0</td>\n",
              "      <td>2016</td>\n",
              "      <td>August</td>\n",
              "      <td>35</td>\n",
              "      <td>23</td>\n",
              "      <td>0</td>\n",
              "      <td>1</td>\n",
              "      <td>3</td>\n",
              "      <td>0.0</td>\n",
              "      <td>...</td>\n",
              "      <td>No Deposit</td>\n",
              "      <td>NaN</td>\n",
              "      <td>NaN</td>\n",
              "      <td>0</td>\n",
              "      <td>Transient</td>\n",
              "      <td>225.0</td>\n",
              "      <td>0</td>\n",
              "      <td>2</td>\n",
              "      <td>2016-08-24</td>\n",
              "      <td>b345b5dc-c804-4d77-a39f-1f4e65d1f1ad</td>\n",
              "    </tr>\n",
              "    <tr>\n",
              "      <th>3</th>\n",
              "      <td>Resort Hotel</td>\n",
              "      <td>196</td>\n",
              "      <td>2016</td>\n",
              "      <td>October</td>\n",
              "      <td>44</td>\n",
              "      <td>29</td>\n",
              "      <td>2</td>\n",
              "      <td>5</td>\n",
              "      <td>2</td>\n",
              "      <td>2.0</td>\n",
              "      <td>...</td>\n",
              "      <td>No Deposit</td>\n",
              "      <td>240.0</td>\n",
              "      <td>NaN</td>\n",
              "      <td>0</td>\n",
              "      <td>Transient</td>\n",
              "      <td>96.0</td>\n",
              "      <td>0</td>\n",
              "      <td>0</td>\n",
              "      <td>2016-11-05</td>\n",
              "      <td>ce1b400e-afa1-4946-bdff-004b859eb61c</td>\n",
              "    </tr>\n",
              "    <tr>\n",
              "      <th>4</th>\n",
              "      <td>Resort Hotel</td>\n",
              "      <td>232</td>\n",
              "      <td>2016</td>\n",
              "      <td>November</td>\n",
              "      <td>48</td>\n",
              "      <td>26</td>\n",
              "      <td>2</td>\n",
              "      <td>1</td>\n",
              "      <td>2</td>\n",
              "      <td>0.0</td>\n",
              "      <td>...</td>\n",
              "      <td>Non Refund</td>\n",
              "      <td>11.0</td>\n",
              "      <td>NaN</td>\n",
              "      <td>0</td>\n",
              "      <td>Transient</td>\n",
              "      <td>30.0</td>\n",
              "      <td>0</td>\n",
              "      <td>0</td>\n",
              "      <td>2016-10-18</td>\n",
              "      <td>c4fbec0d-8e2e-4db2-9d4f-a6ccb9f51214</td>\n",
              "    </tr>\n",
              "  </tbody>\n",
              "</table>\n",
              "<p>5 rows × 31 columns</p>\n",
              "</div>\n",
              "    <div class=\"colab-df-buttons\">\n",
              "\n",
              "  <div class=\"colab-df-container\">\n",
              "    <button class=\"colab-df-convert\" onclick=\"convertToInteractive('df-1646021d-29e8-49bf-8a1f-04b5680bbd05')\"\n",
              "            title=\"Convert this dataframe to an interactive table.\"\n",
              "            style=\"display:none;\">\n",
              "\n",
              "  <svg xmlns=\"http://www.w3.org/2000/svg\" height=\"24px\" viewBox=\"0 -960 960 960\">\n",
              "    <path d=\"M120-120v-720h720v720H120Zm60-500h600v-160H180v160Zm220 220h160v-160H400v160Zm0 220h160v-160H400v160ZM180-400h160v-160H180v160Zm440 0h160v-160H620v160ZM180-180h160v-160H180v160Zm440 0h160v-160H620v160Z\"/>\n",
              "  </svg>\n",
              "    </button>\n",
              "\n",
              "  <style>\n",
              "    .colab-df-container {\n",
              "      display:flex;\n",
              "      gap: 12px;\n",
              "    }\n",
              "\n",
              "    .colab-df-convert {\n",
              "      background-color: #E8F0FE;\n",
              "      border: none;\n",
              "      border-radius: 50%;\n",
              "      cursor: pointer;\n",
              "      display: none;\n",
              "      fill: #1967D2;\n",
              "      height: 32px;\n",
              "      padding: 0 0 0 0;\n",
              "      width: 32px;\n",
              "    }\n",
              "\n",
              "    .colab-df-convert:hover {\n",
              "      background-color: #E2EBFA;\n",
              "      box-shadow: 0px 1px 2px rgba(60, 64, 67, 0.3), 0px 1px 3px 1px rgba(60, 64, 67, 0.15);\n",
              "      fill: #174EA6;\n",
              "    }\n",
              "\n",
              "    .colab-df-buttons div {\n",
              "      margin-bottom: 4px;\n",
              "    }\n",
              "\n",
              "    [theme=dark] .colab-df-convert {\n",
              "      background-color: #3B4455;\n",
              "      fill: #D2E3FC;\n",
              "    }\n",
              "\n",
              "    [theme=dark] .colab-df-convert:hover {\n",
              "      background-color: #434B5C;\n",
              "      box-shadow: 0px 1px 3px 1px rgba(0, 0, 0, 0.15);\n",
              "      filter: drop-shadow(0px 1px 2px rgba(0, 0, 0, 0.3));\n",
              "      fill: #FFFFFF;\n",
              "    }\n",
              "  </style>\n",
              "\n",
              "    <script>\n",
              "      const buttonEl =\n",
              "        document.querySelector('#df-1646021d-29e8-49bf-8a1f-04b5680bbd05 button.colab-df-convert');\n",
              "      buttonEl.style.display =\n",
              "        google.colab.kernel.accessAllowed ? 'block' : 'none';\n",
              "\n",
              "      async function convertToInteractive(key) {\n",
              "        const element = document.querySelector('#df-1646021d-29e8-49bf-8a1f-04b5680bbd05');\n",
              "        const dataTable =\n",
              "          await google.colab.kernel.invokeFunction('convertToInteractive',\n",
              "                                                    [key], {});\n",
              "        if (!dataTable) return;\n",
              "\n",
              "        const docLinkHtml = 'Like what you see? Visit the ' +\n",
              "          '<a target=\"_blank\" href=https://colab.research.google.com/notebooks/data_table.ipynb>data table notebook</a>'\n",
              "          + ' to learn more about interactive tables.';\n",
              "        element.innerHTML = '';\n",
              "        dataTable['output_type'] = 'display_data';\n",
              "        await google.colab.output.renderOutput(dataTable, element);\n",
              "        const docLink = document.createElement('div');\n",
              "        docLink.innerHTML = docLinkHtml;\n",
              "        element.appendChild(docLink);\n",
              "      }\n",
              "    </script>\n",
              "  </div>\n",
              "\n",
              "\n",
              "<div id=\"df-695e3256-0a39-47a5-b516-ec1d83c8aaa3\">\n",
              "  <button class=\"colab-df-quickchart\" onclick=\"quickchart('df-695e3256-0a39-47a5-b516-ec1d83c8aaa3')\"\n",
              "            title=\"Suggest charts.\"\n",
              "            style=\"display:none;\">\n",
              "\n",
              "<svg xmlns=\"http://www.w3.org/2000/svg\" height=\"24px\"viewBox=\"0 0 24 24\"\n",
              "     width=\"24px\">\n",
              "    <g>\n",
              "        <path d=\"M19 3H5c-1.1 0-2 .9-2 2v14c0 1.1.9 2 2 2h14c1.1 0 2-.9 2-2V5c0-1.1-.9-2-2-2zM9 17H7v-7h2v7zm4 0h-2V7h2v10zm4 0h-2v-4h2v4z\"/>\n",
              "    </g>\n",
              "</svg>\n",
              "  </button>\n",
              "\n",
              "<style>\n",
              "  .colab-df-quickchart {\n",
              "      --bg-color: #E8F0FE;\n",
              "      --fill-color: #1967D2;\n",
              "      --hover-bg-color: #E2EBFA;\n",
              "      --hover-fill-color: #174EA6;\n",
              "      --disabled-fill-color: #AAA;\n",
              "      --disabled-bg-color: #DDD;\n",
              "  }\n",
              "\n",
              "  [theme=dark] .colab-df-quickchart {\n",
              "      --bg-color: #3B4455;\n",
              "      --fill-color: #D2E3FC;\n",
              "      --hover-bg-color: #434B5C;\n",
              "      --hover-fill-color: #FFFFFF;\n",
              "      --disabled-bg-color: #3B4455;\n",
              "      --disabled-fill-color: #666;\n",
              "  }\n",
              "\n",
              "  .colab-df-quickchart {\n",
              "    background-color: var(--bg-color);\n",
              "    border: none;\n",
              "    border-radius: 50%;\n",
              "    cursor: pointer;\n",
              "    display: none;\n",
              "    fill: var(--fill-color);\n",
              "    height: 32px;\n",
              "    padding: 0;\n",
              "    width: 32px;\n",
              "  }\n",
              "\n",
              "  .colab-df-quickchart:hover {\n",
              "    background-color: var(--hover-bg-color);\n",
              "    box-shadow: 0 1px 2px rgba(60, 64, 67, 0.3), 0 1px 3px 1px rgba(60, 64, 67, 0.15);\n",
              "    fill: var(--button-hover-fill-color);\n",
              "  }\n",
              "\n",
              "  .colab-df-quickchart-complete:disabled,\n",
              "  .colab-df-quickchart-complete:disabled:hover {\n",
              "    background-color: var(--disabled-bg-color);\n",
              "    fill: var(--disabled-fill-color);\n",
              "    box-shadow: none;\n",
              "  }\n",
              "\n",
              "  .colab-df-spinner {\n",
              "    border: 2px solid var(--fill-color);\n",
              "    border-color: transparent;\n",
              "    border-bottom-color: var(--fill-color);\n",
              "    animation:\n",
              "      spin 1s steps(1) infinite;\n",
              "  }\n",
              "\n",
              "  @keyframes spin {\n",
              "    0% {\n",
              "      border-color: transparent;\n",
              "      border-bottom-color: var(--fill-color);\n",
              "      border-left-color: var(--fill-color);\n",
              "    }\n",
              "    20% {\n",
              "      border-color: transparent;\n",
              "      border-left-color: var(--fill-color);\n",
              "      border-top-color: var(--fill-color);\n",
              "    }\n",
              "    30% {\n",
              "      border-color: transparent;\n",
              "      border-left-color: var(--fill-color);\n",
              "      border-top-color: var(--fill-color);\n",
              "      border-right-color: var(--fill-color);\n",
              "    }\n",
              "    40% {\n",
              "      border-color: transparent;\n",
              "      border-right-color: var(--fill-color);\n",
              "      border-top-color: var(--fill-color);\n",
              "    }\n",
              "    60% {\n",
              "      border-color: transparent;\n",
              "      border-right-color: var(--fill-color);\n",
              "    }\n",
              "    80% {\n",
              "      border-color: transparent;\n",
              "      border-right-color: var(--fill-color);\n",
              "      border-bottom-color: var(--fill-color);\n",
              "    }\n",
              "    90% {\n",
              "      border-color: transparent;\n",
              "      border-bottom-color: var(--fill-color);\n",
              "    }\n",
              "  }\n",
              "</style>\n",
              "\n",
              "  <script>\n",
              "    async function quickchart(key) {\n",
              "      const quickchartButtonEl =\n",
              "        document.querySelector('#' + key + ' button');\n",
              "      quickchartButtonEl.disabled = true;  // To prevent multiple clicks.\n",
              "      quickchartButtonEl.classList.add('colab-df-spinner');\n",
              "      try {\n",
              "        const charts = await google.colab.kernel.invokeFunction(\n",
              "            'suggestCharts', [key], {});\n",
              "      } catch (error) {\n",
              "        console.error('Error during call to suggestCharts:', error);\n",
              "      }\n",
              "      quickchartButtonEl.classList.remove('colab-df-spinner');\n",
              "      quickchartButtonEl.classList.add('colab-df-quickchart-complete');\n",
              "    }\n",
              "    (() => {\n",
              "      let quickchartButtonEl =\n",
              "        document.querySelector('#df-695e3256-0a39-47a5-b516-ec1d83c8aaa3 button');\n",
              "      quickchartButtonEl.style.display =\n",
              "        google.colab.kernel.accessAllowed ? 'block' : 'none';\n",
              "    })();\n",
              "  </script>\n",
              "</div>\n",
              "    </div>\n",
              "  </div>\n"
            ]
          },
          "metadata": {}
        },
        {
          "output_type": "stream",
          "name": "stdout",
          "text": [
            "El DataFrame tiene 26535 filas y 31 columnas.\n"
          ]
        },
        {
          "output_type": "display_data",
          "data": {
            "text/plain": [
              "['hotel',\n",
              " 'lead_time',\n",
              " 'arrival_date_year',\n",
              " 'arrival_date_month',\n",
              " 'arrival_date_week_number',\n",
              " 'arrival_date_day_of_month',\n",
              " 'stays_in_weekend_nights',\n",
              " 'stays_in_week_nights',\n",
              " 'adults',\n",
              " 'children',\n",
              " 'babies',\n",
              " 'meal',\n",
              " 'country',\n",
              " 'market_segment',\n",
              " 'distribution_channel',\n",
              " 'is_repeated_guest',\n",
              " 'previous_cancellations',\n",
              " 'previous_bookings_not_canceled',\n",
              " 'reserved_room_type',\n",
              " 'assigned_room_type',\n",
              " 'booking_changes',\n",
              " 'deposit_type',\n",
              " 'agent',\n",
              " 'company',\n",
              " 'days_in_waiting_list',\n",
              " 'customer_type',\n",
              " 'adr',\n",
              " 'required_car_parking_spaces',\n",
              " 'total_of_special_requests',\n",
              " 'reservation_status_date',\n",
              " 'id']"
            ]
          },
          "metadata": {}
        }
      ],
      "source": [
        "display(tests.head())\n",
        "fil, col = tests.shape\n",
        "print(f\"El DataFrame tiene {fil} filas y {col} columnas.\")\n",
        "display(tests.columns.to_list())"
      ]
    },
    {
      "cell_type": "markdown",
      "metadata": {
        "id": "15bZaVaoEw21"
      },
      "source": [
        "Efectivamente, no tamos que `tests` carece de `is_canceled`. Sin embargo, a diferencia de `train` o `df_chp2`, tiene una variable nueva `reservation_status_date`.\n",
        "Si nos guiamos por el _paper_, esta variable está destinada a usarse junto con _reservationStatus_ (o `reservation_status` en nuestra convención) para determinar en qué fecha se cambió el estado de la reserva. Ya se vió en el checkpoint 1 pero, no hay tal variable `reservation_status` o similar.\n",
        "\n",
        "Por eso, nos gustaría resaltar que **despreciaremos toda columna no presente en el dataset de entrenamiento,** habiendo dos razones principales:\n",
        "\n",
        "* Primeramente, hay variables como esta que **son irrelevantes de por sí.**\n",
        "* Segundo, aún si contuvieran información útil, **no podemos cambiar el modelo de entrenamiento por cada conjunto de testeo que introduzca nueva información:** el modelo _\"tiene que predecir en base a lo que ya sabe\"._"
      ]
    },
    {
      "cell_type": "code",
      "execution_count": 32,
      "metadata": {
        "id": "YODwAAVGYRDO"
      },
      "outputs": [],
      "source": [
        "def reducir_columnas(df_reductor: pd.DataFrame, df_a_reducir: pd.DataFrame) -> pd.DataFrame:\n",
        "    \"\"\"\n",
        "    Quita todas las columnas de 'df_a_reducir' que no estén presentes en 'df_reductor'.\n",
        "    \"\"\"\n",
        "\n",
        "    categorias = df_a_reducir.columns.to_list() # hacemos una copia de la lista para no mutar mientras recorremos\n",
        "    df_reducido = df_a_reducir.copy()\n",
        "\n",
        "    for categoria in categorias:\n",
        "        if categoria not in df_reductor.columns:\n",
        "            df_reducido.drop(categoria, axis=\"columns\", inplace=True)\n",
        "\n",
        "    return df_reducido"
      ]
    },
    {
      "cell_type": "code",
      "execution_count": 33,
      "metadata": {
        "id": "irA6C5ywGVUu"
      },
      "outputs": [],
      "source": [
        "# No podemos borrar filas, porque kaggle espera un formato mismo número de filas que el total\n",
        "df_tests = reducir_columnas(df_chp2, tests)"
      ]
    },
    {
      "cell_type": "markdown",
      "metadata": {
        "id": "VmA1WrnD8ZG1"
      },
      "source": [
        "<hr/>"
      ]
    },
    {
      "cell_type": "markdown",
      "metadata": {
        "id": "IcrXmXC-ELk3"
      },
      "source": [
        "# **Creación de Árboles de Predicción**"
      ]
    },
    {
      "cell_type": "code",
      "execution_count": 34,
      "metadata": {
        "id": "3TvHDMNccxsf"
      },
      "outputs": [],
      "source": [
        "def get_df_dummies(df: pd.DataFrame,\n",
        "                   *,\n",
        "                   variables_indeseadas: tuple[str, ...]=(\"company\", \"id\", \"is_canceled\"),\n",
        "                   metodo: Literal[\"ohe\", \"pd\"]=\"ohe\"\n",
        ") -> pd.DataFrame:\n",
        "    \"\"\"\n",
        "    Consigue una versión con dummies de un Dataframe, con reglas personalizadas.\n",
        "    -\n",
        "    'df': El DataFrame sobre el cual trabajar.\n",
        "\n",
        "    'variables_indeseadas': Variables categóricas, pero que igual no deberían tenerse en cuenta\n",
        "                            para el cálculo.\n",
        "\n",
        "    'metodo': El método para generar los dummies:\n",
        "                - 'ohe' utiliza `sklearn.preprocessing.OneHotEncoder()`\n",
        "                - 'pd' utiliza `pandas.get_dummies()`\n",
        "    \"\"\"\n",
        "\n",
        "    if metodo not in (\"ohe\", \"pd\"):\n",
        "        raise ValueError(f\"Argumento metodo='{metodo}' no válido. Debe ser 'ohe' o 'pd'.\")\n",
        "\n",
        "    categorias = variables_categoricas.copy()\n",
        "    for var in variables_indeseadas:\n",
        "        if var in categorias:\n",
        "            categorias.remove(var)\n",
        "\n",
        "    if metodo == \"ohe\":\n",
        "        ohe = OneHotEncoder(sparse_output=False, dtype=int).set_output(transform=\"pandas\")\n",
        "        return pd.concat([df.drop(categorias, axis=\"columns\"), # df sólo con las cuantitativas\n",
        "                          ohe.fit_transform(df[categorias])], # df con las cualitativas dummies\n",
        "                         axis=\"columns\")\n",
        "    elif metodo == \"pd\":\n",
        "        return pd.get_dummies(df, columns=categorias)"
      ]
    },
    {
      "cell_type": "code",
      "execution_count": 35,
      "metadata": {
        "id": "5QXftIubeINq"
      },
      "outputs": [],
      "source": [
        "def split_in_axes(df: pd.DataFrame,\n",
        "                  *,\n",
        "                  x_innecesarias: tuple[str, ...]=(\"id\", \"is_canceled\"),\n",
        "                  target: Optional[str]=None\n",
        ") -> pd.DataFrame:\n",
        "    \"\"\"\n",
        "    Devuelve los ejes a entrenar/testear de un DataFrame.\n",
        "    -\n",
        "    'x_innecesarias': Qué columnas no incluir en el split del eje X.\n",
        "\n",
        "    'target': La variable objetivo que terminará en el split del eje Y.\n",
        "              El target también es eliminado, si se puede, del split del eje X.\n",
        "    \"\"\"\n",
        "\n",
        "    if target is not None and target not in x_innecesarias:\n",
        "        x_innecesarias.append(target)\n",
        "\n",
        "    df_x = df.copy()\n",
        "    for indeseada in x_innecesarias:\n",
        "        if indeseada in df.columns:\n",
        "            df_x = df_x.drop(indeseada, axis=\"columns\", inplace=False)\n",
        "\n",
        "    df_y = (None if target is None else df[target].copy())\n",
        "\n",
        "    return df_x, df_y"
      ]
    },
    {
      "cell_type": "markdown",
      "metadata": {
        "id": "xGF4V9ySkfLN"
      },
      "source": [
        "Primero creamos los _splits_ del dataset de entrenamiento:"
      ]
    },
    {
      "cell_type": "code",
      "execution_count": 36,
      "metadata": {
        "id": "tubUHl5i-vnD"
      },
      "outputs": [],
      "source": [
        "train_dummies = get_df_dummies(df_chp2)\n",
        "train_dummies_x, train_dummies_y = split_in_axes(train_dummies, target=\"is_canceled\")\n",
        "semilla = 3\n",
        "\n",
        "x_train, x_test, y_train, y_test = train_test_split(train_dummies_x,\n",
        "                                                    train_dummies_y,\n",
        "                                                    test_size=0.15,\n",
        "                                                    stratify=train_dummies_y,\n",
        "                                                    random_state=semilla)"
      ]
    },
    {
      "cell_type": "markdown",
      "metadata": {
        "id": "SCIqk74xkjNW"
      },
      "source": [
        "Y luego buscamos el mejor árbol mediante _cross validation_.\n",
        "\n",
        "Nos guiamos principalmente por la métrica de _F1 Score_, ya que es el que se utiliza en la competencia de Kaggle."
      ]
    },
    {
      "cell_type": "code",
      "source": [
        "def cross_val(metodo: Literal[\"random\", \"grid\"]=\"grid\",\n",
        "              *,\n",
        "              rand_comb: int=10,\n",
        "              folds: int=10,\n",
        "              kfold_estratificado: bool=True,\n",
        "              seed: Optional[int]=None) -> Union[RandomizedSearchCV, GridSearchCV]:\n",
        "    \"\"\"\n",
        "    Realiza cross validation con parámetros dados.\n",
        "    -\n",
        "    'metodo': Con qué metodo realizar el trabajo:\n",
        "                - 'random' es para utilizar `sklearn.model_selection.RandomizedSearchCV`\n",
        "                - 'grid' es para utilizar `sklearn.model_selection.GridSearchCV`\n",
        "\n",
        "    'rand_comb': Cantidad de combinaciones a probar si se elige el método 'random'.\n",
        "\n",
        "    'folds': Cantidad de folds a usar en el KFold.\n",
        "\n",
        "    'kfold_estratificado': Si utilizar `sklearn.model_selection.StratifiedKFold` o\n",
        "                           `sklearn.model_selection.KFold`.\n",
        "\n",
        "    'seed': La semilla para resultados determinísticos.\n",
        "    \"\"\"\n",
        "\n",
        "    if metodo not in (\"random\", \"grid\"):\n",
        "        raise ValueError(f\"Argumento metodo='{metodo}' no válido. Debe ser 'random' o 'grid'.\")\n",
        "\n",
        "    # Conjunto de parámetros que quiero usar en cada árbol\n",
        "    params = {\"criterion\": [\"gini\", \"entropy\"],\n",
        "              \"min_samples_split\": np.arange(2, 16),\n",
        "              \"max_depth\": np.arange(13, 21)}\n",
        "\n",
        "    # Kfold estratificado\n",
        "    if kfold_estratificado:\n",
        "        kfoldcv = StratifiedKFold(n_splits=folds)\n",
        "    else:\n",
        "        kfoldcv = KFold(n_splits=folds)\n",
        "\n",
        "    # Clasificador\n",
        "    arbol_base = DecisionTreeClassifier(random_state=seed)\n",
        "\n",
        "    # Metrica que quiero optimizar F1 Score\n",
        "    scorer_fn = make_scorer(f1_score)\n",
        "\n",
        "    if metodo == \"random\": # Random Search Cross Validation\n",
        "        return RandomizedSearchCV(estimator=arbol_base,\n",
        "                                  param_distributions=params,\n",
        "                                  scoring=scorer_fn,\n",
        "                                  cv=kfoldcv,\n",
        "                                  n_iter=rand_comb,\n",
        "                                  n_jobs=-1,\n",
        "                                  random_state=seed)\n",
        "\n",
        "    if metodo == \"grid\": # Grid Search Cross Validation\n",
        "        return GridSearchCV(estimator=arbol_base,\n",
        "                            param_grid=params,\n",
        "                            scoring=scorer_fn,\n",
        "                            cv=kfoldcv,\n",
        "                            n_jobs=-1,\n",
        "                            return_train_score=True)"
      ],
      "metadata": {
        "id": "4wyrP4KoO31b"
      },
      "execution_count": 37,
      "outputs": []
    },
    {
      "cell_type": "markdown",
      "source": [
        "Es acá que trataremos de optimizar los hiperparámetros mediante _k-fold Cross Validation_. Elegimos **12** folds para esta tarea."
      ],
      "metadata": {
        "id": "qMQcKzRnEi29"
      }
    },
    {
      "cell_type": "code",
      "source": [
        "## ----- Tarda mucho. Sólo descomentar al utilizar el CV -----\n",
        "\n",
        "# cv = cross_val(metodo=\"grid\",\n",
        "#                rand_comb=10,\n",
        "#                folds=12,\n",
        "#                kfold_estratificado=False,\n",
        "#                seed=semilla)\n",
        "# cv.fit(X=x_train,\n",
        "#        y=y_train)\n",
        "\n",
        "# print(cv.best_params_)\n",
        "# print(cv.best_score_)"
      ],
      "metadata": {
        "id": "E3-TRYZqM0OK"
      },
      "execution_count": 38,
      "outputs": []
    },
    {
      "cell_type": "code",
      "execution_count": 92,
      "metadata": {
        "id": "4DDnPLopCFG2"
      },
      "outputs": [],
      "source": [
        "# --- Árbol creado manualmente ---\n",
        "arbol = DecisionTreeClassifier(criterion=\"gini\",\n",
        "                               max_depth=17,\n",
        "                               min_samples_split=3,\n",
        "                               random_state=semilla)\n",
        "# --------------------------------\n",
        "\n",
        "# --- Árbol del CV ---\n",
        "# cv.best_params_.update({\"random_state\": semilla})\n",
        "# arbol = DecisionTreeClassifier().set_params(**cv.best_params_)\n",
        "# --------------------\n",
        "\n",
        "modelo = arbol.fit(X=x_train,\n",
        "                   y=y_train)"
      ]
    },
    {
      "cell_type": "markdown",
      "source": [
        "Graficamos el árbol creado:"
      ],
      "metadata": {
        "id": "3mWOB_xEPm90"
      }
    },
    {
      "cell_type": "code",
      "source": [
        "# por sklearn\n",
        "plt.figure(figsize=(18.5, 7))\n",
        "plot_arbol = plot_tree(modelo,\n",
        "                       max_depth=3,\n",
        "                       feature_names=x_train.columns.to_list(),\n",
        "                       filled=True,\n",
        "                       rounded=True,\n",
        "                       fontsize=7,\n",
        "                       class_names=True)\n",
        "\n",
        "plt.title(\"Fig. 1: Árbol de decisión: Mejor Iteración\")\n",
        "plt.show(plot_arbol)"
      ],
      "metadata": {
        "colab": {
          "base_uri": "https://localhost:8080/",
          "height": 589
        },
        "id": "Ntp6EAnkPmk4",
        "outputId": "c15e65dd-bc9f-4cdc-b8cc-32bac2139b7f"
      },
      "execution_count": 99,
      "outputs": [
        {
          "output_type": "display_data",
          "data": {
            "text/plain": [
              "<Figure size 1850x700 with 1 Axes>"
            ],
            "image/png": "[encoded data removed]"
          },
          "metadata": {}
        }
      ]
    },
    {
      "cell_type": "code",
      "source": [
        "# por dtreeviz\n",
        "viz_model = dtreeviz.model(modelo,\n",
        "                           X_train=x_train, y_train=y_train,\n",
        "                           feature_names=x_train.columns.to_list(),\n",
        "                           target_name=\"is_canceled\",\n",
        "                           class_names=[\"No (0)\", \"Yes (1)\"])\n",
        "\n",
        "viz_model.view(depth_range_to_display=(0, 4), # Hasta el 5to nivel\n",
        "               fontname=\"monospace\", # Para que no llore con Arial\n",
        "               title=\"Árbol de decisión: Mejor Iteración\",\n",
        "               title_fontsize=20)"
      ],
      "metadata": {
        "id": "tJ8LeCNGXjcP"
      },
      "execution_count": 96,
      "outputs": []
    },
    {
      "cell_type": "markdown",
      "source": [
        "Como podemos ver, comprueba primero si el tipo de reserva es del tipo que considera un reembolso. La gran mayoría se concentra en que _no son_ del tipo \"Non Refund\", pero los pocos datos que sí lo son, terminan siendo casi totalmente de los que se cancelan.\n",
        "A partir de acá:\n",
        "* Por la derecha, parece derivarse en averiguar de qué país viene mientras se saca de encima los candidatos que no cancelan con preguntas como cuánto pagó por día (el `adr`) o el tipo de habitación reservada.\n",
        "* Por la izquierda es donde se derivan la mayoría de los datos, y se va haciendo preguntas como qué tan adelante hacen la reserva (en relación al _check-in_), o si requieren de espacios para estacionar."
      ],
      "metadata": {
        "id": "4Q5-LT5OdxXC"
      }
    },
    {
      "cell_type": "markdown",
      "source": [
        "<hr width=\"50%\" align=\"left\" />"
      ],
      "metadata": {
        "id": "Yd77obBNdsDh"
      }
    },
    {
      "cell_type": "markdown",
      "metadata": {
        "id": "R76TRk6qknzl"
      },
      "source": [
        "Evaluamos el rendimiento:"
      ]
    },
    {
      "cell_type": "code",
      "source": [
        "y_pred = modelo.predict(x_test)"
      ],
      "metadata": {
        "id": "Fd8AoTrGWJyk"
      },
      "execution_count": 93,
      "outputs": []
    },
    {
      "cell_type": "code",
      "execution_count": 94,
      "metadata": {
        "id": "zf8-K0DfJPkq",
        "colab": {
          "base_uri": "https://localhost:8080/"
        },
        "outputId": "a4aae8c3-bf0d-464c-de00-236db8a981b1"
      },
      "outputs": [
        {
          "output_type": "stream",
          "name": "stdout",
          "text": [
            "Semilla:\t3\n",
            "-\n",
            "Accuracy:\t0.8536934950385887\n",
            "Recall:\t\t0.8871739130434783\n",
            "Precision:\t0.8347310288402536\n",
            "f1 score:\t0.8601538623669512\n",
            "\n",
            "\n",
            "              precision    recall  f1-score   support\n",
            "\n",
            "           0       0.88      0.82      0.85      4470\n",
            "           1       0.83      0.89      0.86      4600\n",
            "\n",
            "    accuracy                           0.85      9070\n",
            "   macro avg       0.86      0.85      0.85      9070\n",
            "weighted avg       0.86      0.85      0.85      9070\n",
            "\n"
          ]
        }
      ],
      "source": [
        "print(f\"Semilla:\\t{semilla}\\n-\")\n",
        "print(f\"Accuracy:\\t{accuracy_score(y_test, y_pred)}\\n\"\n",
        "      f\"Recall:\\t\\t{recall_score(y_test, y_pred)}\\n\"\n",
        "      f\"Precision:\\t{precision_score(y_test, y_pred)}\\n\"\n",
        "      f\"f1 score:\\t{f1_score(y_test, y_pred)}\\n\\n\")\n",
        "\n",
        "print(classification_report(y_test, y_pred))"
      ]
    },
    {
      "cell_type": "markdown",
      "source": [
        "Donde, se observa:\n",
        "\n",
        "* **Semilla:** Es el \"número mágico\" que utilizamos para obtener resultados determinísticos en cada iteración del árbol.\n",
        "<br/>\n",
        "\n",
        "* **Accuracy:** La cantidad de **positivos y negativos predichos correctamente**, sobre el total de todos los datos. $\\frac{TP + TN}{TP + TN + FP + FN}$\n",
        "* **Recall:** La cantidad de **positivos predichos correctamente**, sobre todos los que _deberían ser positivos_ (los positivos correctamente predichos más los negativos mal predichos). $\\frac{TP}{TP + FN}$\n",
        "* **Precision:** La cantidad de **positivos predichos correctamente**, sobre todos los positivos (tanto los correctos como los mal predichos). $\\frac{TP}{TP + FP}$\n",
        "* **F1 Score:** Esta métrica se calcula con la media armónica de _Recall_ y _Precision_, por lo que ayuda a representar a ambas en una sola métrica. $\\frac{2 \\times Precision \\times Recall}{Precision + Recall}$"
      ],
      "metadata": {
        "id": "YXvZVOjZPyYL"
      }
    },
    {
      "cell_type": "markdown",
      "source": [
        "<hr width=\"30%\" align=\"left\" />"
      ],
      "metadata": {
        "id": "xhx-BuN7U6xt"
      }
    },
    {
      "cell_type": "markdown",
      "source": [
        "También, vemos la matriz de confusión del árbol:"
      ],
      "metadata": {
        "id": "AYEQcyPbU4ap"
      }
    },
    {
      "cell_type": "code",
      "source": [
        "matriz_conf = confusion_matrix(y_test, y_pred)\n",
        "\n",
        "ax = sns.heatmap(matriz_conf, cmap=\"GnBu\", annot=True, fmt=\"g\")\n",
        "ax.set_xlabel(\"Predicted\")\n",
        "ax.set_ylabel(\"True\")\n",
        "plt.title(\"Matriz de Confusión del mejor Árbol de Decisión\")"
      ],
      "metadata": {
        "colab": {
          "base_uri": "https://localhost:8080/",
          "height": 491
        },
        "id": "eOJHvseBPwQB",
        "outputId": "7c76072d-85ec-4ebb-813b-8b6e4a96317a"
      },
      "execution_count": 100,
      "outputs": [
        {
          "output_type": "execute_result",
          "data": {
            "text/plain": [
              "Text(0.5, 1.0, 'Matriz de Confusión del mejor Árbol de Decisión')"
            ]
          },
          "metadata": {},
          "execution_count": 100
        },
        {
          "output_type": "display_data",
          "data": {
            "text/plain": [
              "<Figure size 640x480 with 2 Axes>"
            ],
            "image/png": "[encoded data removed]"
          },
          "metadata": {}
        }
      ]
    },
    {
      "cell_type": "markdown",
      "source": [
        "<hr/>"
      ],
      "metadata": {
        "id": "ObyyizXfPYZJ"
      }
    },
    {
      "cell_type": "markdown",
      "source": [
        "# **Generando Predicciones**"
      ],
      "metadata": {
        "id": "K2MDg559PZj-"
      }
    },
    {
      "cell_type": "code",
      "execution_count": 85,
      "metadata": {
        "id": "js4B3cTgW9D5"
      },
      "outputs": [],
      "source": [
        "def alinear_df_test(df_train: pd.DataFrame, df_test: pd.DataFrame,\n",
        "                    *,\n",
        "                    vacio: Union[int, float]=0\n",
        ") -> pd.DataFrame:\n",
        "    \"\"\"\n",
        "    Esta función hace dos cosas:\n",
        "        - Crea toda columna presente en 'df_train' (pero no en 'df_test') como una columna nueva\n",
        "          en 'df_test' y las rellena con el valor 'vacio'.\n",
        "        - Elimina toda columna que esté en 'df_test' pero no en 'df_train'.\n",
        "\n",
        "    Se presupone que ambos DataFrames vienen sólo con valores numéricos; normalmente fueron\n",
        "    convertidos a DataFrames con dummies.\n",
        "    -\n",
        "    'df_train': El DataFrame con el que se entrenó el modelo.\n",
        "\n",
        "    'df_test': El DataFrame con los datos a predecir.\n",
        "\n",
        "    'vacio': El valor con el que rellenar las columnas insertadas en 'df_test'. Normalmente es `0`,\n",
        "             pues es el valor que se usa en One Hot Encoding para designar que NO es esa variable.\n",
        "    \"\"\"\n",
        "\n",
        "    df_test_convertida = reducir_columnas(df_train, df_test)\n",
        "\n",
        "    for col in df_train.columns:\n",
        "        if col not in df_test.columns:\n",
        "            nueva_col = np.array([0] * df_test.shape[0]).reshape(-1, 1)\n",
        "            df_test_convertida[col] = nueva_col\n",
        "\n",
        "    return df_test_convertida[df_train.columns] # reordenar las columnas con el mismo orden"
      ]
    },
    {
      "cell_type": "markdown",
      "source": [
        "Acá, para crear la versión con _dummies_ del dataset de testeo, renombramos manualmente las columnas que terminan en '.0', pues vienen de valores de tipo 'float' y las del dataset de entrenamiento son enteros. Si no se llaman igual no son tomadas en cuenta por nuestras funciones y perdemos esos datos."
      ],
      "metadata": {
        "id": "Pn8O-5udDKfY"
      }
    },
    {
      "cell_type": "code",
      "source": [
        "tests_dummies_desalineados = get_df_dummies(df_tests).rename(columns=(lambda col : (col.removesuffix(\".0\") if col.endswith(\".0\") else col)))"
      ],
      "metadata": {
        "id": "quDf73jvDZmW"
      },
      "execution_count": 86,
      "outputs": []
    },
    {
      "cell_type": "code",
      "execution_count": 87,
      "metadata": {
        "id": "zTAACCOb1HdZ"
      },
      "outputs": [],
      "source": [
        "test_dummies = alinear_df_test(train_dummies, tests_dummies_desalineados)\n",
        "test_x, _ = split_in_axes(test_dummies)\n",
        "predicciones_y = modelo.predict(test_x)"
      ]
    },
    {
      "cell_type": "markdown",
      "metadata": {
        "id": "2ytglkkMhguI"
      },
      "source": [
        "<hr/>"
      ]
    },
    {
      "cell_type": "markdown",
      "metadata": {
        "id": "_xb-v-snhifT"
      },
      "source": [
        "# **Exportando Predicciones**"
      ]
    },
    {
      "cell_type": "markdown",
      "metadata": {
        "id": "5YDQhOFphmzW"
      },
      "source": [
        "Hacemos una función interna rápido para exportar en formato CSV."
      ]
    },
    {
      "cell_type": "code",
      "execution_count": 88,
      "metadata": {
        "id": "PrGfKBytccqr"
      },
      "outputs": [],
      "source": [
        "def _exportar_predicciones(df_test: pd.DataFrame, predicciones: np.ndarray,\n",
        "                           *,\n",
        "                           target: str=\"is_canceled\",\n",
        "                           nombre: \"PathLike\", # Más bien que se parezca a un nombre de archivo con extensión\n",
        "                           ruta: \"PathLike\"=\"./drive/MyDrive/Colab Notebooks/predictions\") -> None:\n",
        "    \"\"\"\n",
        "    Intenta guardar las predicciones en una ruta en Google Drive, para uso interno. Normalmente\n",
        "    como forma temporal para después subirlo a kaggle.\n",
        "    Se presupone que el drive ya fue montado junto con los imports.\n",
        "    -\n",
        "    'df_test': El DataFrame de los datos a predecir. De acá sacamos la columna 'id'.\n",
        "\n",
        "    'predicciones': Un `numpy.ndarray` (o lo que salga de `model.predict()`). Estos son los valores\n",
        "                    que han de llenar la columna del target.\n",
        "\n",
        "    'target': El nombre de la columna del target. A efectos de este TP1 siempre debería\n",
        "              ser `\"is_canceled\"`.\n",
        "\n",
        "    'nombre': El nombre del archivo en cuestión, de formato `.csv`. Ejemplo: `\"predicted1.csv\"`.\n",
        "\n",
        "    'ruta': Ruta del directorio en Drive donde el archivo será guardado.\n",
        "    \"\"\"\n",
        "\n",
        "    path = Path(ruta) / nombre\n",
        "    df_a_exportar = pd.DataFrame()\n",
        "\n",
        "    df_a_exportar[\"id\"] = df_test[\"id\"]\n",
        "    df_a_exportar[target] = predicciones.reshape(-1, 1)\n",
        "\n",
        "    df_a_exportar.to_csv(path, index=False)"
      ]
    }
  ],
  "metadata": {
    "colab": {
      "provenance": []
    },
    "kernelspec": {
      "display_name": "Python 3",
      "name": "python3"
    },
    "language_info": {
      "name": "python"
    }
  },
  "nbformat": 4,
  "nbformat_minor": 0
}