{
  "cells": [
    {
      "cell_type": "markdown",
      "metadata": {
        "id": "cI0gMTtSTqaH"
      },
      "source": [
        "# Trabajo Práctico 1: Reservas de Hotel\n",
        "\n",
        "<hr width=\"50%\" align=\"left\"/>\n",
        "\n",
        "<br/>\n",
        "\n",
        "# Clasificación - Entrenamiento y Predicción\n",
        "## **Checkpoint 3 - \"Ensambles\"**\n",
        "\n",
        "<br/>\n",
        "\n",
        "## **Grupo:** 03 - **_\"Hackers Panas\"_**\n",
        "\n",
        "<br/>\n",
        "\n",
        "## **Integrantes:**\n",
        "\n",
        "<p>\n",
        "<img align=\"left\" src=\"https://github.com/NLGS2907.png\" height=50 width=50 />\n",
        "\n",
        "### [Franco Lighterman Reismann](https://github.com/NLGS2907) (106714)\n",
        "<br/>\n",
        "</p>\n",
        "\n",
        "<p>\n",
        "<img align=\"left\" src=\"https://github.com/MarcosGN.png\" height=50 width=50 />\n",
        "\n",
        "### [Marcos García Neira](https://github.com/MarcosGN) (110363)\n",
        "<br/>\n",
        "</p>\n",
        "\n",
        "<p>\n",
        "<img align=\"left\" src=\"https://github.com/mmaddalena.png\" height=50 width=50 />\n",
        "\n",
        "### [Martín Andrés Madalena](https://github.com/mmaddalena) (107610)\n",
        "</p>\n",
        "\n",
        "<br/><br/><br/><br/>\n",
        "<hr/>"
      ]
    },
    {
      "cell_type": "markdown",
      "metadata": {
        "id": "AQrBJGdlzL1u"
      },
      "source": [
        "# **Instalaciones e _imports_ de librerías y otras dependencias.**"
      ]
    },
    {
      "cell_type": "code",
      "execution_count": 1,
      "metadata": {
        "id": "HCpfVhC2zPD1"
      },
      "outputs": [],
      "source": [
        "# Procesamiento de datos\n",
        "import numpy as np\n",
        "import pandas as pd\n",
        "\n",
        "# Herramientas de visualización\n",
        "import matplotlib.pyplot as plt\n",
        "import seaborn as sns\n",
        "\n",
        "# sci-kit learn\n",
        "from sklearn.impute import SimpleImputer\n",
        "from sklearn.model_selection import train_test_split\n",
        "from sklearn.linear_model import LogisticRegressionCV\n",
        "from sklearn.ensemble import RandomForestClassifier, StackingClassifier, VotingClassifier\n",
        "from sklearn.neighbors import KNeighborsClassifier\n",
        "from sklearn.svm import SVC\n",
        "from sklearn.model_selection import train_test_split, KFold, StratifiedKFold, RandomizedSearchCV, GridSearchCV\n",
        "from sklearn.metrics import (precision_score, recall_score, accuracy_score, f1_score, make_scorer,\n",
        "                             confusion_matrix, classification_report, DistanceMetric)\n",
        "from sklearn.preprocessing import MinMaxScaler, OneHotEncoder, StandardScaler\n",
        "\n",
        "# Otras librerías de Machine-Learning\n",
        "from xgboost import XGBClassifier\n",
        "\n",
        "# type hinting\n",
        "from typing import Any, Literal, Optional, TYPE_CHECKING, Union\n",
        "if TYPE_CHECKING:\n",
        "    from os import PathLike\n",
        "\n",
        "# Otros\n",
        "from IPython.display import display # preferible a print()\n",
        "from pathlib import Path\n",
        "from warnings import simplefilter\n",
        "# from google.colab import drive # <- Sólo útil en la máquina del Colab\n",
        "\n",
        "simplefilter(action='ignore', category=FutureWarning)\n",
        "simplefilter(action='ignore', category=UserWarning)"
      ]
    },
    {
      "cell_type": "code",
      "execution_count": 2,
      "metadata": {
        "colab": {
          "base_uri": "https://localhost:8080/"
        },
        "id": "3TeI9uZN8Lft",
        "outputId": "a2c6c63c-56ba-4aa1-a518-a148850ad886"
      },
      "outputs": [],
      "source": [
        "# Va en una celda aparte para que no trate de montarlo cada vez que hay incluir nuevas librerías\n",
        "# drive.mount('/content/drive')"
      ]
    },
    {
      "cell_type": "markdown",
      "metadata": {
        "id": "6lQqu6-hzMIB"
      },
      "source": [
        "<hr/>"
      ]
    },
    {
      "cell_type": "markdown",
      "metadata": {
        "id": "oE1ajKibzCf0"
      },
      "source": [
        "# **Preprocesamiento de Datos**"
      ]
    },
    {
      "cell_type": "markdown",
      "metadata": {
        "id": "IcrCaLouzFvb"
      },
      "source": [
        "Primero importamos los datasets:"
      ]
    },
    {
      "cell_type": "code",
      "execution_count": 3,
      "metadata": {
        "id": "1qisWnUnzHxe"
      },
      "outputs": [],
      "source": [
        "# train = pd.read_csv(\"../Datasets/hotels_train.csv\")\n",
        "# tests = pd.read_csv(\"../Datasets/hotels_test.csv\")\n",
        "train = pd.read_csv(\"https://raw.githubusercontent.com/NLGS2907/7506R-2C2023-GRUPO03/master/TPs/TP1/Datasets/hotels_train.csv\")\n",
        "tests = pd.read_csv(\"https://raw.githubusercontent.com/NLGS2907/7506R-2C2023-GRUPO03/master/TPs/TP1/Datasets/hotels_test.csv\")"
      ]
    },
    {
      "cell_type": "code",
      "execution_count": 4,
      "metadata": {
        "id": "aRda9h1r7doy"
      },
      "outputs": [],
      "source": [
        "# Variables de uso global\n",
        "variables_categoricas = [\"hotel\", \"arrival_date_month\", \"meal\", \"country\", \"market_segment\", \"distribution_channel\",\n",
        "                         \"is_repeated_guest\", \"reserved_room_type\", \"assigned_room_type\", \"deposit_type\", \"agent\",\n",
        "                         \"company\", \"customer_type\", \"is_canceled\"] # id no se deja a propósito\n",
        "variables_cuantitativas = [categoria for categoria in train.columns if categoria not in variables_categoricas + [\"id\"]]"
      ]
    },
    {
      "cell_type": "markdown",
      "metadata": {
        "id": "gc4RJjbCzaq1"
      },
      "source": [
        "Y aplicamos, nuevamente, los tratamientos del Checkpoint 1 al dataset de entrenamiento, así como los escasos tratamientos de los datos de testeo del Checkpoint 2:"
      ]
    },
    {
      "cell_type": "code",
      "execution_count": 5,
      "metadata": {
        "id": "Kh9tHYw4zd4L"
      },
      "outputs": [],
      "source": [
        "def tratamiento_train(df: pd.DataFrame,\n",
        "                      *,\n",
        "                      borrar_filas: bool=True,\n",
        "                      borrar_columnas: bool=True,\n",
        "                      imputaciones: bool=True) -> pd.DataFrame:\n",
        "    \"\"\"\n",
        "    Realiza en forma rápida un resumen de todos los tratamientos explicados en el checkpoint 1\n",
        "    a un DataFrame. Devuelve una copia sin afectar el original.\n",
        "    -\n",
        "    'borrar_filas': Si realizar los trabajos que borran filas o no.\n",
        "\n",
        "    'borrar_columnas': Si realizar los trabajos que borran columnas o no.\n",
        "\n",
        "    'imputaciones': Si realizar trabajos de imputaciones con el valor más frecuente.\n",
        "    \"\"\"\n",
        "\n",
        "    df_copia = df.copy()\n",
        "\n",
        "    # Eliminación de registros incompletos\n",
        "    if borrar_columnas:\n",
        "        df_copia = df_copia.drop(columns=[\"company\"])\n",
        "\n",
        "    if borrar_filas:\n",
        "        df_copia = df_copia.dropna(axis=\"index\", subset=[\"children\", \"country\"])\n",
        "    # ------------------------------ #\n",
        "\n",
        "    # Imputación simple de datos\n",
        "    if imputaciones:\n",
        "        columnas_con_nulos = df.columns[df.isna().any()].tolist()\n",
        "        imputador = SimpleImputer(missing_values=np.nan, strategy=\"most_frequent\")\n",
        "        datos_imputados = imputador.fit_transform(df_copia)\n",
        "        df_imp = pd.DataFrame(data=datos_imputados,\n",
        "                            index=df_copia.index,\n",
        "                            columns=df_copia.columns)\n",
        "        for col in columnas_con_nulos:\n",
        "            if col in df_copia.columns: # que no llore si ya fue borrado\n",
        "                df_copia[col] = df_imp[col]\n",
        "        df_copia.reset_index(drop=True) # para hacer coincidir de nuevo los números del índice\n",
        "    # ------------------------------ #\n",
        "\n",
        "    # Creación de columnas personalizadas\n",
        "    if \"people\" not in df_copia.columns:\n",
        "        df_copia.insert(11, \"people\", (df_copia[\"adults\"] + df_copia[\"children\"] + df_copia[\"babies\"]).astype(int))\n",
        "    # ------------------------------ #\n",
        "\n",
        "    # Conversión a enteros de columnas pertinentes\n",
        "    for categoria in [\"children\", \"agent\"]:\n",
        "        df_copia[categoria] = df_copia[categoria].astype(int)\n",
        "    # ------------------------------ #\n",
        "\n",
        "    # Valores Atípicos\n",
        "    if borrar_filas:\n",
        "        if df_copia[\"adr\"][df_copia[\"adr\"] <= 0].count() != 0:\n",
        "            df_copia.drop(df_copia[df_copia[\"adr\"] <= 0].index, inplace=True)\n",
        "\n",
        "        if df_copia[\"adults\"][df_copia[\"adults\"] == 0].count() != 0:\n",
        "            df_copia.drop(df_copia[df_copia[\"adults\"] == 0].index, inplace=True)\n",
        "\n",
        "        if df_copia[\"people\"][df_copia[\"people\"] > 5].count() != 0:\n",
        "            df_copia.drop(df_copia[df_copia[\"people\"] > 5].index, inplace=True)\n",
        "\n",
        "        if df_copia[(df_copia[\"is_repeated_guest\"] == 0) &\n",
        "                    (df_copia[\"previous_bookings_not_canceled\"] != 0)].shape[0] != 0:\n",
        "            df_copia.drop(df_copia[(df_copia[\"is_repeated_guest\"] == 0) &\n",
        "                                   (df_copia[\"previous_bookings_not_canceled\"] != 0)].index, inplace=True)\n",
        "    # ------------------------------ #\n",
        "\n",
        "    return df_copia"
      ]
    },
    {
      "cell_type": "code",
      "execution_count": 6,
      "metadata": {
        "id": "rwkvfZkr0BoK"
      },
      "outputs": [],
      "source": [
        "def reducir_columnas(df_reductor: pd.DataFrame, df_a_reducir: pd.DataFrame) -> pd.DataFrame:\n",
        "    \"\"\"\n",
        "    Quita todas las columnas de 'df_a_reducir' que no estén presentes en 'df_reductor'.\n",
        "    \"\"\"\n",
        "\n",
        "    categorias = df_a_reducir.columns.to_list() # hacemos una copia de la lista para no mutar mientras recorremos\n",
        "    df_reducido = df_a_reducir.copy()\n",
        "\n",
        "    for categoria in categorias:\n",
        "        if categoria not in df_reductor.columns:\n",
        "            df_reducido.drop(categoria, axis=\"columns\", inplace=True)\n",
        "\n",
        "    return df_reducido"
      ]
    },
    {
      "cell_type": "code",
      "execution_count": 7,
      "metadata": {
        "id": "iVu7IpvKzesb"
      },
      "outputs": [],
      "source": [
        "df_chp3 = tratamiento_train(train)\n",
        "df_tests = reducir_columnas(df_chp3, tests)"
      ]
    },
    {
      "cell_type": "markdown",
      "metadata": {
        "id": "XOYhqLxc64ga"
      },
      "source": [
        "<hr/>"
      ]
    },
    {
      "cell_type": "markdown",
      "metadata": {
        "id": "I_8q6yff7Agk"
      },
      "source": [
        "# **Creación de _Splits_**"
      ]
    },
    {
      "cell_type": "code",
      "execution_count": 8,
      "metadata": {
        "id": "WVvvr3Sv7Fok"
      },
      "outputs": [],
      "source": [
        "def get_df_dummies(df: pd.DataFrame,\n",
        "                   *,\n",
        "                   variables_indeseadas: tuple[str, ...]=(\"company\", \"id\", \"is_canceled\"),\n",
        "                   metodo: Literal[\"ohe\", \"pd\"]=\"ohe\"\n",
        ") -> pd.DataFrame:\n",
        "    \"\"\"\n",
        "    Consigue una versión con dummies de un Dataframe, con reglas personalizadas.\n",
        "    -\n",
        "    'df': El DataFrame sobre el cual trabajar.\n",
        "\n",
        "    'variables_indeseadas': Variables categóricas, pero que igual no deberían tenerse en cuenta\n",
        "                            para el cálculo.\n",
        "\n",
        "    'metodo': El método para generar los dummies:\n",
        "                - 'ohe' utiliza `sklearn.preprocessing.OneHotEncoder()`\n",
        "                - 'pd' utiliza `pandas.get_dummies()`\n",
        "    \"\"\"\n",
        "\n",
        "    if metodo not in (\"ohe\", \"pd\"):\n",
        "        raise ValueError(f\"Argumento metodo='{metodo}' no válido. Debe ser 'ohe' o 'pd'.\")\n",
        "\n",
        "    categorias = variables_categoricas.copy()\n",
        "    for var in variables_indeseadas:\n",
        "        if var in categorias:\n",
        "            categorias.remove(var)\n",
        "\n",
        "    if metodo == \"ohe\":\n",
        "        ohe = OneHotEncoder(sparse_output=False, dtype=int).set_output(transform=\"pandas\")\n",
        "        return pd.concat([df.drop(categorias, axis=\"columns\"), # df sólo con las cuantitativas\n",
        "                          ohe.fit_transform(df[categorias])], # df con las cualitativas dummies\n",
        "                         axis=\"columns\")\n",
        "    elif metodo == \"pd\":\n",
        "        return pd.get_dummies(df, columns=categorias)"
      ]
    },
    {
      "cell_type": "code",
      "execution_count": 9,
      "metadata": {
        "id": "4PSxWr--7NhL"
      },
      "outputs": [],
      "source": [
        "def split_in_axes(df: pd.DataFrame,\n",
        "                  *,\n",
        "                  x_innecesarias: tuple[str, ...]=(\"id\", \"is_canceled\"),\n",
        "                  target: Optional[str]=None\n",
        ") -> pd.DataFrame:\n",
        "    \"\"\"\n",
        "    Devuelve los ejes a entrenar/testear de un DataFrame.\n",
        "    -\n",
        "    'x_innecesarias': Qué columnas no incluir en el split del eje X.\n",
        "\n",
        "    'target': La variable objetivo que terminará en el split del eje Y.\n",
        "              El target también es eliminado, si se puede, del split del eje X.\n",
        "    \"\"\"\n",
        "\n",
        "    if target is not None and target not in x_innecesarias:\n",
        "        x_innecesarias.append(target)\n",
        "\n",
        "    df_x = df.copy()\n",
        "    for indeseada in x_innecesarias:\n",
        "        if indeseada in df.columns:\n",
        "            df_x = df_x.drop(indeseada, axis=\"columns\", inplace=False)\n",
        "\n",
        "    df_y = (None if target is None else df[target].copy())\n",
        "\n",
        "    return df_x, df_y"
      ]
    },
    {
      "cell_type": "markdown",
      "metadata": {
        "id": "GRTTfGwJC7-U"
      },
      "source": [
        "Una función para optimizar hiperparámetros mediante _Cross Validation_:"
      ]
    },
    {
      "cell_type": "code",
      "execution_count": 10,
      "metadata": {
        "id": "nEWhVHW-DCMq"
      },
      "outputs": [],
      "source": [
        "def buscar_por_cv(*,\n",
        "                  metodo: Literal[\"random\", \"grid\"]=\"grid\",\n",
        "                  clasificador,\n",
        "                  params_cv: dict[str, Any],\n",
        "                  puntaje: Literal[\"accuracy\", \"recall\", \"precision\", \"f1\"]=\"f1\",\n",
        "\n",
        "                  rand_comb: int=10,\n",
        "                  folds: int=10,\n",
        "                  kfold_estratificado: bool=True,\n",
        "                  seed: Optional[int]=None) -> Union[RandomizedSearchCV, GridSearchCV]:\n",
        "    \"\"\"\n",
        "    Realiza cross validation con parámetros dados.\n",
        "    -\n",
        "    'metodo': Con qué metodo realizar el trabajo:\n",
        "              - 'random' es para utilizar `sklearn.model_selection.RandomizedSearchCV`\n",
        "              - 'grid' es para utilizar `sklearn.model_selection.GridSearchCV`\n",
        "\n",
        "    'clasificador': Un objeto estimador, ya inicializado: un árbol de decisión,\n",
        "                    un clasificador KNN, etc.\n",
        "\n",
        "    'params_cv': El diccionario de parámetros a probar en cada intento. Se asume que son compatibles\n",
        "                 con el clasificador pasado.\n",
        "\n",
        "    'puntaje': Método de puntaje:\n",
        "               - 'accuracy' utiliza el Accuracy Score.\n",
        "               - 'recall' utiliza el Recall Score.\n",
        "               - 'precision' utiliza el Precision Score.\n",
        "               - 'f1' utiliza el F1-Score.\n",
        "\n",
        "    'rand_comb': Cantidad de combinaciones a probar si se elige el método 'random'.\n",
        "\n",
        "    'folds': Cantidad de folds a usar en el KFold.\n",
        "\n",
        "    'kfold_estratificado': Si utilizar `sklearn.model_selection.StratifiedKFold` o\n",
        "                           `sklearn.model_selection.KFold`.\n",
        "\n",
        "    'seed': La semilla para resultados determinísticos. Se usa sólo en el `RandomSearchCV()`.\n",
        "            Si se desea una semilla para el clasificador, debe incluirse en 'params_cv'.\n",
        "    \"\"\"\n",
        "\n",
        "    if metodo not in (\"random\", \"grid\"):\n",
        "        raise ValueError(f\"Argumento metodo='{metodo}' no válido. Debe ser 'random' o 'grid'.\")\n",
        "\n",
        "    if puntaje not in (\"accuracy\", \"recall\", \"precision\", \"f1\"):\n",
        "        raise ValueError(f\"Argumento puntaje={puntaje} no válido, debe de ser 'accuracy', \"\n",
        "                         f\"'recall', 'precision' o 'f1'.\")\n",
        "\n",
        "    # Kfold estratificado\n",
        "    if kfold_estratificado:\n",
        "        kfoldcv = StratifiedKFold(n_splits=folds)\n",
        "    else:\n",
        "        kfoldcv = KFold(n_splits=folds)\n",
        "\n",
        "    # metricas\n",
        "    posibles_metricas = {\n",
        "        \"accuracy\": accuracy_score,\n",
        "        \"recall\": recall_score,\n",
        "        \"precision\": precision_score,\n",
        "        \"f1\": f1_score\n",
        "    }\n",
        "    scorer_fn = make_scorer(posibles_metricas[puntaje])\n",
        "\n",
        "    if metodo == \"random\": # Random Search Cross Validation\n",
        "        return RandomizedSearchCV(estimator=clasificador,\n",
        "                                  param_distributions=params_cv,\n",
        "                                  scoring=scorer_fn,\n",
        "                                  cv=kfoldcv,\n",
        "                                  n_iter=rand_comb,\n",
        "                                  n_jobs=-1,\n",
        "                                  random_state=seed)\n",
        "\n",
        "    if metodo == \"grid\": # Grid Search Cross Validation\n",
        "        return GridSearchCV(estimator=clasificador,\n",
        "                            param_grid=params_cv,\n",
        "                            scoring=scorer_fn,\n",
        "                            cv=kfoldcv,\n",
        "                            n_jobs=-1,\n",
        "                            return_train_score=True)"
      ]
    },
    {
      "cell_type": "markdown",
      "metadata": {
        "id": "KeKmGkuu91Sj"
      },
      "source": [
        "Y una función extra para mostrar las evaluaciones:"
      ]
    },
    {
      "cell_type": "code",
      "execution_count": 11,
      "metadata": {
        "id": "Wr7Kyr8w936M"
      },
      "outputs": [],
      "source": [
        "def evaluar(y_test: np.ndarray,\n",
        "            y_pred: np.ndarray,\n",
        "            *,\n",
        "            seed_splits: Optional[int]=None,\n",
        "            seed_modelo: Optional[int]=None,\n",
        "            porcentaje_test: Optional[float]=None,\n",
        "            mostrar_matriz: bool=True,\n",
        "            titulo_matriz: Optional[str]=None) -> None:\n",
        "    \"\"\"\n",
        "    Muestra los resultados de la performance en distintas métricas\n",
        "    y además también la matriz de confunsión.\n",
        "    -\n",
        "    'y_test': La colección de datos a testear.\n",
        "\n",
        "    'y_pred': La colección de predicciones a comparar con los datos de 'y_test'.\n",
        "\n",
        "    'seed_splits'/'seed_modelo': Las semillas de generación pseudo-aleatoria para los splits\n",
        "                                 train/tests y para el clasificador respectivamente.\n",
        "\n",
        "    'porcentaje_test': Un float de `0.0` a `1.0`. Usado para calcular los splits de train/test.\n",
        "\n",
        "    'mostrar_matriz': Si mostrar o no la matriz de confusión.\n",
        "\n",
        "    'titulo_matriz': Si se dibuja la matriz, el título que aparecerá.\n",
        "    \"\"\"\n",
        "\n",
        "    meta_info = []\n",
        "\n",
        "    if seed_splits is not None:\n",
        "        meta_info.append(f\"Splits Seed:\\t{seed_splits}\")\n",
        "\n",
        "    if seed_modelo is not None:\n",
        "        meta_info.append(f\"Model Seed:\\t\\t{seed_modelo}\")\n",
        "\n",
        "    if porcentaje_test is not None:\n",
        "        meta_info.append(f\"Train/Test:\\t\\t{100 - (porcentaje_test * 100)}% / \"\n",
        "                         f\"{porcentaje_test * 100}%\")\n",
        "\n",
        "    if meta_info:\n",
        "        meta_str = \"\\n\".join(meta_info)\n",
        "        print(f\"{meta_str}\\n-\")\n",
        "\n",
        "    print(f\"Accuracy:\\t\\t{accuracy_score(y_test, y_pred)}\\n\"\n",
        "          f\"Recall:\\t\\t\\t{recall_score(y_test, y_pred)}\\n\"\n",
        "          f\"Precision:\\t\\t{precision_score(y_test, y_pred)}\\n\"\n",
        "          f\"f1 score:\\t\\t{f1_score(y_test, y_pred)}\\n\\n\")\n",
        "\n",
        "    print(classification_report(y_test, y_pred))\n",
        "\n",
        "    if mostrar_matriz:\n",
        "        matriz_conf = confusion_matrix(y_test, y_pred)\n",
        "\n",
        "        ax = sns.heatmap(matriz_conf, cmap=\"GnBu\", annot=True, fmt=\"g\")\n",
        "        ax.set_xlabel(\"Predicted\")\n",
        "        ax.set_ylabel(\"True\")\n",
        "\n",
        "        plt.title((titulo_matriz if titulo_matriz is not None else \"Matriz de Confusión\"))\n",
        "        plt.show()"
      ]
    },
    {
      "cell_type": "markdown",
      "metadata": {
        "id": "LOiwljxe94eX"
      },
      "source": [
        "<hr width=\"30%\" align=\"left\" />"
      ]
    },
    {
      "cell_type": "code",
      "execution_count": 12,
      "metadata": {
        "id": "Hs9mG5m17RYi"
      },
      "outputs": [],
      "source": [
        "train_dummies = get_df_dummies(df_chp3)\n",
        "train_dummies_x, train_dummies_y = split_in_axes(train_dummies, target=\"is_canceled\")\n",
        "\n",
        "semilla = 3\n",
        "porcentaje_test = 0.2\n",
        "\n",
        "sc = StandardScaler()\n",
        "x_train, x_test, y_train, y_test = train_test_split(train_dummies_x,\n",
        "                                                    train_dummies_y,\n",
        "                                                    test_size=porcentaje_test,\n",
        "                                                    stratify=train_dummies_y, # Acá en el Checkpoint 3 ya es importante estratificar\n",
        "                                                    random_state=semilla)\n",
        "\n",
        "x_train_norm = sc.fit_transform(x_train)\n",
        "x_test_norm = sc.transform(x_test)"
      ]
    },
    {
      "cell_type": "markdown",
      "metadata": {
        "id": "96-dWXzQk_zT"
      },
      "source": [
        "<hr/>"
      ]
    },
    {
      "cell_type": "markdown",
      "metadata": {
        "id": "Dwmr0QchlBqt"
      },
      "source": [
        "# **Creación de Modelos**"
      ]
    },
    {
      "cell_type": "markdown",
      "metadata": {
        "id": "J7tL1dEflICT"
      },
      "source": [
        "Es acá que efectivamente creamos cada modelo, las métricas de puntaje, tal cual explicadas en el Checkpoint 2, son las siguientes:\n",
        "\n",
        "* **Accuracy:** La cantidad de **positivos y negativos predichos correctamente**, sobre el total de todos los datos. $\\frac{TP + TN}{TP + TN + FP + FN}$\n",
        "* **Recall:** La cantidad de **positivos predichos correctamente**, sobre todos los que _deberían ser positivos_ (los positivos correctamente predichos más los negativos mal predichos). $\\frac{TP}{TP + FN}$\n",
        "* **Precision:** La cantidad de **positivos predichos correctamente**, sobre todos los positivos (tanto los correctos como los mal predichos). $\\frac{TP}{TP + FP}$\n",
        "* **F1 Score:** Esta métrica se calcula con la media armónica de _Recall_ y _Precision_, por lo que ayuda a representar a ambas en una sola métrica. $\\frac{2 \\times Precision \\times Recall}{Precision + Recall}$"
      ]
    },
    {
      "cell_type": "markdown",
      "metadata": {
        "id": "hvMJI6cXlLBE"
      },
      "source": [
        "<hr width=\"30%\" align=\"left\" />"
      ]
    },
    {
      "cell_type": "markdown",
      "metadata": {
        "id": "OSu2DpDa9FXi"
      },
      "source": [
        "## **Clasificador _K-Nearest Neighbors_**"
      ]
    },
    {
      "cell_type": "markdown",
      "metadata": {
        "id": "OCZVYTmHl8J7"
      },
      "source": [
        "Algunas de los parámetros a considerar para el KNN:\n",
        "\n",
        "* **n_neighbors:** El número de vecinos a considerar.\n",
        "\n",
        "* **weights:** El peso relativo de cada vecino:\n",
        "    - _uniform:_ Cada vecino tiene el mismo peso independientemente de su distancia al centro elegido.\n",
        "    - _distance:_ Cada vecino tiene un peso asignado que es inversamente proporcional a la distancia del centro elegido.\n",
        "\n",
        "* **metric:** La forma de calcular la \"distancia\" entre los vecinos y el \"centro\" de la posición de un dato nuevo:\n",
        "    - _euclidean_ / _l2_: Es la que respeta la geometría euclideana; utiliza el camino más corto entre dos puntos.\n",
        "    - _manhattan_ / _cityblock_ / _l1_: Suma la distancia de cada eje, en vez del camino más corto. Útil cuando los puntos están distribuidos en una especie de cuadrícula."
      ]
    },
    {
      "cell_type": "code",
      "execution_count": 13,
      "metadata": {
        "colab": {
          "base_uri": "https://localhost:8080/",
          "height": 74
        },
        "id": "hKJTe3dt9AJs",
        "outputId": "4b894fbc-1f3c-4448-9431-fc7de354ba8c"
      },
      "outputs": [
        {
          "data": {
            "text/html": [
              "<style>#sk-container-id-1 {color: black;}#sk-container-id-1 pre{padding: 0;}#sk-container-id-1 div.sk-toggleable {background-color: white;}#sk-container-id-1 label.sk-toggleable__label {cursor: pointer;display: block;width: 100%;margin-bottom: 0;padding: 0.3em;box-sizing: border-box;text-align: center;}#sk-container-id-1 label.sk-toggleable__label-arrow:before {content: \"▸\";float: left;margin-right: 0.25em;color: #696969;}#sk-container-id-1 label.sk-toggleable__label-arrow:hover:before {color: black;}#sk-container-id-1 div.sk-estimator:hover label.sk-toggleable__label-arrow:before {color: black;}#sk-container-id-1 div.sk-toggleable__content {max-height: 0;max-width: 0;overflow: hidden;text-align: left;background-color: #f0f8ff;}#sk-container-id-1 div.sk-toggleable__content pre {margin: 0.2em;color: black;border-radius: 0.25em;background-color: #f0f8ff;}#sk-container-id-1 input.sk-toggleable__control:checked~div.sk-toggleable__content {max-height: 200px;max-width: 100%;overflow: auto;}#sk-container-id-1 input.sk-toggleable__control:checked~label.sk-toggleable__label-arrow:before {content: \"▾\";}#sk-container-id-1 div.sk-estimator input.sk-toggleable__control:checked~label.sk-toggleable__label {background-color: #d4ebff;}#sk-container-id-1 div.sk-label input.sk-toggleable__control:checked~label.sk-toggleable__label {background-color: #d4ebff;}#sk-container-id-1 input.sk-hidden--visually {border: 0;clip: rect(1px 1px 1px 1px);clip: rect(1px, 1px, 1px, 1px);height: 1px;margin: -1px;overflow: hidden;padding: 0;position: absolute;width: 1px;}#sk-container-id-1 div.sk-estimator {font-family: monospace;background-color: #f0f8ff;border: 1px dotted black;border-radius: 0.25em;box-sizing: border-box;margin-bottom: 0.5em;}#sk-container-id-1 div.sk-estimator:hover {background-color: #d4ebff;}#sk-container-id-1 div.sk-parallel-item::after {content: \"\";width: 100%;border-bottom: 1px solid gray;flex-grow: 1;}#sk-container-id-1 div.sk-label:hover label.sk-toggleable__label {background-color: #d4ebff;}#sk-container-id-1 div.sk-serial::before {content: \"\";position: absolute;border-left: 1px solid gray;box-sizing: border-box;top: 0;bottom: 0;left: 50%;z-index: 0;}#sk-container-id-1 div.sk-serial {display: flex;flex-direction: column;align-items: center;background-color: white;padding-right: 0.2em;padding-left: 0.2em;position: relative;}#sk-container-id-1 div.sk-item {position: relative;z-index: 1;}#sk-container-id-1 div.sk-parallel {display: flex;align-items: stretch;justify-content: center;background-color: white;position: relative;}#sk-container-id-1 div.sk-item::before, #sk-container-id-1 div.sk-parallel-item::before {content: \"\";position: absolute;border-left: 1px solid gray;box-sizing: border-box;top: 0;bottom: 0;left: 50%;z-index: -1;}#sk-container-id-1 div.sk-parallel-item {display: flex;flex-direction: column;z-index: 1;position: relative;background-color: white;}#sk-container-id-1 div.sk-parallel-item:first-child::after {align-self: flex-end;width: 50%;}#sk-container-id-1 div.sk-parallel-item:last-child::after {align-self: flex-start;width: 50%;}#sk-container-id-1 div.sk-parallel-item:only-child::after {width: 0;}#sk-container-id-1 div.sk-dashed-wrapped {border: 1px dashed gray;margin: 0 0.4em 0.5em 0.4em;box-sizing: border-box;padding-bottom: 0.4em;background-color: white;}#sk-container-id-1 div.sk-label label {font-family: monospace;font-weight: bold;display: inline-block;line-height: 1.2em;}#sk-container-id-1 div.sk-label-container {text-align: center;}#sk-container-id-1 div.sk-container {/* jupyter's `normalize.less` sets `[hidden] { display: none; }` but bootstrap.min.css set `[hidden] { display: none !important; }` so we also need the `!important` here to be able to override the default hidden behavior on the sphinx rendered scikit-learn.org. See: https://github.com/scikit-learn/scikit-learn/issues/21755 */display: inline-block !important;position: relative;}#sk-container-id-1 div.sk-text-repr-fallback {display: none;}</style><div id=\"sk-container-id-1\" class=\"sk-top-container\"><div class=\"sk-text-repr-fallback\"><pre>KNeighborsClassifier(metric=&#x27;manhattan&#x27;, n_neighbors=25, weights=&#x27;distance&#x27;)</pre><b>In a Jupyter environment, please rerun this cell to show the HTML representation or trust the notebook. <br />On GitHub, the HTML representation is unable to render, please try loading this page with nbviewer.org.</b></div><div class=\"sk-container\" hidden><div class=\"sk-item\"><div class=\"sk-estimator sk-toggleable\"><input class=\"sk-toggleable__control sk-hidden--visually\" id=\"sk-estimator-id-1\" type=\"checkbox\" checked><label for=\"sk-estimator-id-1\" class=\"sk-toggleable__label sk-toggleable__label-arrow\">KNeighborsClassifier</label><div class=\"sk-toggleable__content\"><pre>KNeighborsClassifier(metric=&#x27;manhattan&#x27;, n_neighbors=25, weights=&#x27;distance&#x27;)</pre></div></div></div></div></div>"
            ],
            "text/plain": [
              "KNeighborsClassifier(metric='manhattan', n_neighbors=25, weights='distance')"
            ]
          },
          "execution_count": 13,
          "metadata": {},
          "output_type": "execute_result"
        }
      ],
      "source": [
        "# # ----- Buscado por CV -----\n",
        "# parametros_cv_knn = {\n",
        "#     \"n_neighbors\": np.arange(5, 30),\n",
        "#     \"weights\": [\"distance\"],\n",
        "#     \"algorithm\": [\"auto\", \"ball_tree\", \"kd_tree\", \"brute\"],\n",
        "#     \"metric\": [\"manhattan\", \"euclidean\", \"cosine\", \"haversine\"]\n",
        "# }\n",
        "# cv_knn = buscar_por_cv(metodo=\"random\",\n",
        "#                        clasificador=KNeighborsClassifier(),\n",
        "#                        params_cv=parametros_cv_knn,\n",
        "#                        puntaje=\"f1\",\n",
        "#                        rand_comb=20,\n",
        "#                        folds=10,\n",
        "#                        kfold_estratificado=True,\n",
        "#                        seed=semilla)\n",
        "# cv_knn.fit(X=x_train, y=y_train)\n",
        "\n",
        "# print(f\"{cv_knn.best_params_}\\n\"\n",
        "#       f\"{cv_knn.best_score_}\")\n",
        "# knn = cv_knn.best_estimator_\n",
        "# # --------------------------\n",
        "\n",
        "# ----- Creado Manualmente -----\n",
        "knn = KNeighborsClassifier(n_neighbors=25,\n",
        "                           weights=\"distance\",\n",
        "                           algorithm=\"auto\",\n",
        "                           metric=\"manhattan\")\n",
        "knn.fit(X=x_train,\n",
        "        y=y_train)\n",
        "# ------------------------------"
      ]
    },
    {
      "cell_type": "code",
      "execution_count": 14,
      "metadata": {
        "id": "NZbP9_An9hE6"
      },
      "outputs": [],
      "source": [
        "y_pred_knn = knn.predict(x_test)"
      ]
    },
    {
      "cell_type": "code",
      "execution_count": 15,
      "metadata": {
        "id": "17Gn5_LA_6-5"
      },
      "outputs": [
        {
          "name": "stdout",
          "output_type": "stream",
          "text": [
            "Splits Seed:\t3\n",
            "Train/Test:\t\t80.0% / 20.0%\n",
            "-\n",
            "Accuracy:\t\t0.7805341933349872\n",
            "Recall:\t\t\t0.8164030653839882\n",
            "Precision:\t\t0.7661820964039786\n",
            "f1 score:\t\t0.7904957372908115\n",
            "\n",
            "\n",
            "              precision    recall  f1-score   support\n",
            "\n",
            "           0       0.80      0.74      0.77      5960\n",
            "           1       0.77      0.82      0.79      6133\n",
            "\n",
            "    accuracy                           0.78     12093\n",
            "   macro avg       0.78      0.78      0.78     12093\n",
            "weighted avg       0.78      0.78      0.78     12093\n",
            "\n"
          ]
        },
        {
          "data": {
            "image/png": "[encoded data removed]",
            "text/plain": [
              "<Figure size 640x480 with 2 Axes>"
            ]
          },
          "metadata": {},
          "output_type": "display_data"
        }
      ],
      "source": [
        "evaluar(y_test, y_pred_knn,\n",
        "        seed_splits=semilla,\n",
        "        porcentaje_test=porcentaje_test,\n",
        "        titulo_matriz=\"Matriz de Confusión de KNN\")"
      ]
    },
    {
      "cell_type": "markdown",
      "metadata": {
        "id": "Ty1LbLXhLFYH"
      },
      "source": [
        "<hr width=\"30%\" align=\"left\" />"
      ]
    },
    {
      "cell_type": "markdown",
      "metadata": {
        "id": "JfzHTRATLJye"
      },
      "source": [
        "## **Clasificador _Support Vector Machine_**"
      ]
    },
    {
      "cell_type": "markdown",
      "metadata": {
        "id": "_HIOG1hnnjBo"
      },
      "source": [
        "Parámetros para el SVM varían entre:\n",
        "\n",
        "* **kernel:** La función núclero (_kernel_) con la que trata de \"separar\" el conjunto de datos en dos, elevando las observaciones a una dimensión mayor.\n",
        "    - _linear:_ Utiliza una función \"lineal\". Sólo funciona cuando el problema es linealmente separable.\n",
        "    - _poly:_ Utiliza una función polinómica; _i.e._ algo del siguiente estilo:\n",
        "$X^n + \\text{coef0}$\n",
        "\n",
        "* **coef0:** El coeficiente independiente; se utiliza en todas las funciones _kernel_ donde sea posible."
      ]
    },
    {
      "cell_type": "code",
      "execution_count": 16,
      "metadata": {
        "id": "pnJLm6c7eLXt"
      },
      "outputs": [
        {
          "data": {
            "text/html": [
              "<style>#sk-container-id-2 {color: black;}#sk-container-id-2 pre{padding: 0;}#sk-container-id-2 div.sk-toggleable {background-color: white;}#sk-container-id-2 label.sk-toggleable__label {cursor: pointer;display: block;width: 100%;margin-bottom: 0;padding: 0.3em;box-sizing: border-box;text-align: center;}#sk-container-id-2 label.sk-toggleable__label-arrow:before {content: \"▸\";float: left;margin-right: 0.25em;color: #696969;}#sk-container-id-2 label.sk-toggleable__label-arrow:hover:before {color: black;}#sk-container-id-2 div.sk-estimator:hover label.sk-toggleable__label-arrow:before {color: black;}#sk-container-id-2 div.sk-toggleable__content {max-height: 0;max-width: 0;overflow: hidden;text-align: left;background-color: #f0f8ff;}#sk-container-id-2 div.sk-toggleable__content pre {margin: 0.2em;color: black;border-radius: 0.25em;background-color: #f0f8ff;}#sk-container-id-2 input.sk-toggleable__control:checked~div.sk-toggleable__content {max-height: 200px;max-width: 100%;overflow: auto;}#sk-container-id-2 input.sk-toggleable__control:checked~label.sk-toggleable__label-arrow:before {content: \"▾\";}#sk-container-id-2 div.sk-estimator input.sk-toggleable__control:checked~label.sk-toggleable__label {background-color: #d4ebff;}#sk-container-id-2 div.sk-label input.sk-toggleable__control:checked~label.sk-toggleable__label {background-color: #d4ebff;}#sk-container-id-2 input.sk-hidden--visually {border: 0;clip: rect(1px 1px 1px 1px);clip: rect(1px, 1px, 1px, 1px);height: 1px;margin: -1px;overflow: hidden;padding: 0;position: absolute;width: 1px;}#sk-container-id-2 div.sk-estimator {font-family: monospace;background-color: #f0f8ff;border: 1px dotted black;border-radius: 0.25em;box-sizing: border-box;margin-bottom: 0.5em;}#sk-container-id-2 div.sk-estimator:hover {background-color: #d4ebff;}#sk-container-id-2 div.sk-parallel-item::after {content: \"\";width: 100%;border-bottom: 1px solid gray;flex-grow: 1;}#sk-container-id-2 div.sk-label:hover label.sk-toggleable__label {background-color: #d4ebff;}#sk-container-id-2 div.sk-serial::before {content: \"\";position: absolute;border-left: 1px solid gray;box-sizing: border-box;top: 0;bottom: 0;left: 50%;z-index: 0;}#sk-container-id-2 div.sk-serial {display: flex;flex-direction: column;align-items: center;background-color: white;padding-right: 0.2em;padding-left: 0.2em;position: relative;}#sk-container-id-2 div.sk-item {position: relative;z-index: 1;}#sk-container-id-2 div.sk-parallel {display: flex;align-items: stretch;justify-content: center;background-color: white;position: relative;}#sk-container-id-2 div.sk-item::before, #sk-container-id-2 div.sk-parallel-item::before {content: \"\";position: absolute;border-left: 1px solid gray;box-sizing: border-box;top: 0;bottom: 0;left: 50%;z-index: -1;}#sk-container-id-2 div.sk-parallel-item {display: flex;flex-direction: column;z-index: 1;position: relative;background-color: white;}#sk-container-id-2 div.sk-parallel-item:first-child::after {align-self: flex-end;width: 50%;}#sk-container-id-2 div.sk-parallel-item:last-child::after {align-self: flex-start;width: 50%;}#sk-container-id-2 div.sk-parallel-item:only-child::after {width: 0;}#sk-container-id-2 div.sk-dashed-wrapped {border: 1px dashed gray;margin: 0 0.4em 0.5em 0.4em;box-sizing: border-box;padding-bottom: 0.4em;background-color: white;}#sk-container-id-2 div.sk-label label {font-family: monospace;font-weight: bold;display: inline-block;line-height: 1.2em;}#sk-container-id-2 div.sk-label-container {text-align: center;}#sk-container-id-2 div.sk-container {/* jupyter's `normalize.less` sets `[hidden] { display: none; }` but bootstrap.min.css set `[hidden] { display: none !important; }` so we also need the `!important` here to be able to override the default hidden behavior on the sphinx rendered scikit-learn.org. See: https://github.com/scikit-learn/scikit-learn/issues/21755 */display: inline-block !important;position: relative;}#sk-container-id-2 div.sk-text-repr-fallback {display: none;}</style><div id=\"sk-container-id-2\" class=\"sk-top-container\"><div class=\"sk-text-repr-fallback\"><pre>SVC(coef0=8.5, kernel=&#x27;poly&#x27;)</pre><b>In a Jupyter environment, please rerun this cell to show the HTML representation or trust the notebook. <br />On GitHub, the HTML representation is unable to render, please try loading this page with nbviewer.org.</b></div><div class=\"sk-container\" hidden><div class=\"sk-item\"><div class=\"sk-estimator sk-toggleable\"><input class=\"sk-toggleable__control sk-hidden--visually\" id=\"sk-estimator-id-2\" type=\"checkbox\" checked><label for=\"sk-estimator-id-2\" class=\"sk-toggleable__label sk-toggleable__label-arrow\">SVC</label><div class=\"sk-toggleable__content\"><pre>SVC(coef0=8.5, kernel=&#x27;poly&#x27;)</pre></div></div></div></div></div>"
            ],
            "text/plain": [
              "SVC(coef0=8.5, kernel='poly')"
            ]
          },
          "execution_count": 16,
          "metadata": {},
          "output_type": "execute_result"
        }
      ],
      "source": [
        "semilla_svm = 1\n",
        "\n",
        "# # ----- Buscado por CV -----\n",
        "# parametros_cv_svm = {\n",
        "#     \"kernel\": [\"linear\", \"poly\", \"rbf\", \"sigmoid\"],\n",
        "#     \"gamma\": [\"auto\", \"scale\"],\n",
        "#     \"coef0\": np.linspace(0.0, 5.0, 20),\n",
        "#     \"probability\": [True],\n",
        "#     \"random_state\": [semilla_svm]\n",
        "# }\n",
        "# cv_svm = buscar_por_cv(metodo=\"random\",\n",
        "#                        clasificador=SVC(),\n",
        "#                        params_cv=parametros_cv_svm,\n",
        "#                        puntaje=\"f1\",\n",
        "#                        rand_comb=5,\n",
        "#                        folds=12,\n",
        "#                        kfold_estratificado=True,\n",
        "#                        seed=semilla)\n",
        "# cv_svm.fit(X=x_train_norm, y=y_train)\n",
        "\n",
        "# print(f\"{cv_svm.best_params_}\\n\"\n",
        "#       f\"{cv_svm.best_score_}\")\n",
        "# svm = cv_svm.best_estimator_\n",
        "# # --------------------------\n",
        "\n",
        "# ----- Creado Manualmente -----\n",
        "svm = SVC(kernel=\"poly\",\n",
        "          coef0=8.5,\n",
        "        #   probability=True,\n",
        "        #   random_state=semilla_svm\n",
        ")\n",
        "\n",
        "svm.fit(X=x_train_norm,\n",
        "        y=y_train)\n",
        "# ------------------------------"
      ]
    },
    {
      "cell_type": "code",
      "execution_count": 17,
      "metadata": {
        "id": "p0WbGUnpnXAb"
      },
      "outputs": [],
      "source": [
        "y_pred_svm = svm.predict(x_test_norm)"
      ]
    },
    {
      "cell_type": "code",
      "execution_count": 18,
      "metadata": {
        "id": "K-BTlrlhnedP"
      },
      "outputs": [
        {
          "name": "stdout",
          "output_type": "stream",
          "text": [
            "Splits Seed:\t3\n",
            "Model Seed:\t\t1\n",
            "Train/Test:\t\t80.0% / 20.0%\n",
            "-\n",
            "Accuracy:\t\t0.8516497147109898\n",
            "Recall:\t\t\t0.8601010924506767\n",
            "Precision:\t\t0.849299629689261\n",
            "f1 score:\t\t0.8546662346079066\n",
            "\n",
            "\n",
            "              precision    recall  f1-score   support\n",
            "\n",
            "           0       0.85      0.84      0.85      5960\n",
            "           1       0.85      0.86      0.85      6133\n",
            "\n",
            "    accuracy                           0.85     12093\n",
            "   macro avg       0.85      0.85      0.85     12093\n",
            "weighted avg       0.85      0.85      0.85     12093\n",
            "\n"
          ]
        },
        {
          "data": {
            "image/png": "[encoded data removed]",
            "text/plain": [
              "<Figure size 640x480 with 2 Axes>"
            ]
          },
          "metadata": {},
          "output_type": "display_data"
        }
      ],
      "source": [
        "evaluar(y_test, y_pred_svm,\n",
        "        seed_splits=semilla,\n",
        "        seed_modelo=semilla_svm,\n",
        "        porcentaje_test=porcentaje_test,\n",
        "        titulo_matriz=\"Matriz de Confusión de SVM\")"
      ]
    },
    {
      "cell_type": "markdown",
      "metadata": {
        "id": "Ha6xqTH6A69C"
      },
      "source": [
        "<hr width=\"30%\" align=\"left\" />"
      ]
    },
    {
      "cell_type": "markdown",
      "metadata": {
        "id": "Sl2-7cI8eg8b"
      },
      "source": [
        "## **Clasificador _Random Forest_**"
      ]
    },
    {
      "cell_type": "markdown",
      "metadata": {
        "id": "4sXZ7jb8qACq"
      },
      "source": [
        "Algunos parámetros para el RF son compartidos con los árboles de decisión, pues son similares en naturaleza:\n",
        "\n",
        "* **criterion:** El criterio con el que decidir cómo dividir y qué nodos:\n",
        "    - _gini:_ Utiliza la impureza de Gini.\n",
        "    - _entropy:_ Utiliza el cálculo de entropía.\n",
        "\n",
        "* **min_samples_leaf:** La cantidad mínima de muestras que una hoja debe tener para ser considerada tal.\n",
        "\n",
        "* **min_samples_splits:** La cantidad mínima de muestras que un nodo debe tener como para considerar dividirlo.\n",
        "\n",
        "Además, este clasificador cuenta con parámetros propios:\n",
        "\n",
        "* **n_estimators:** Cuántos árboles utilizar en la clasificación."
      ]
    },
    {
      "cell_type": "code",
      "execution_count": 20,
      "metadata": {
        "id": "2zJPOeJjLG5T"
      },
      "outputs": [
        {
          "data": {
            "text/html": [
              "<style>#sk-container-id-3 {color: black;}#sk-container-id-3 pre{padding: 0;}#sk-container-id-3 div.sk-toggleable {background-color: white;}#sk-container-id-3 label.sk-toggleable__label {cursor: pointer;display: block;width: 100%;margin-bottom: 0;padding: 0.3em;box-sizing: border-box;text-align: center;}#sk-container-id-3 label.sk-toggleable__label-arrow:before {content: \"▸\";float: left;margin-right: 0.25em;color: #696969;}#sk-container-id-3 label.sk-toggleable__label-arrow:hover:before {color: black;}#sk-container-id-3 div.sk-estimator:hover label.sk-toggleable__label-arrow:before {color: black;}#sk-container-id-3 div.sk-toggleable__content {max-height: 0;max-width: 0;overflow: hidden;text-align: left;background-color: #f0f8ff;}#sk-container-id-3 div.sk-toggleable__content pre {margin: 0.2em;color: black;border-radius: 0.25em;background-color: #f0f8ff;}#sk-container-id-3 input.sk-toggleable__control:checked~div.sk-toggleable__content {max-height: 200px;max-width: 100%;overflow: auto;}#sk-container-id-3 input.sk-toggleable__control:checked~label.sk-toggleable__label-arrow:before {content: \"▾\";}#sk-container-id-3 div.sk-estimator input.sk-toggleable__control:checked~label.sk-toggleable__label {background-color: #d4ebff;}#sk-container-id-3 div.sk-label input.sk-toggleable__control:checked~label.sk-toggleable__label {background-color: #d4ebff;}#sk-container-id-3 input.sk-hidden--visually {border: 0;clip: rect(1px 1px 1px 1px);clip: rect(1px, 1px, 1px, 1px);height: 1px;margin: -1px;overflow: hidden;padding: 0;position: absolute;width: 1px;}#sk-container-id-3 div.sk-estimator {font-family: monospace;background-color: #f0f8ff;border: 1px dotted black;border-radius: 0.25em;box-sizing: border-box;margin-bottom: 0.5em;}#sk-container-id-3 div.sk-estimator:hover {background-color: #d4ebff;}#sk-container-id-3 div.sk-parallel-item::after {content: \"\";width: 100%;border-bottom: 1px solid gray;flex-grow: 1;}#sk-container-id-3 div.sk-label:hover label.sk-toggleable__label {background-color: #d4ebff;}#sk-container-id-3 div.sk-serial::before {content: \"\";position: absolute;border-left: 1px solid gray;box-sizing: border-box;top: 0;bottom: 0;left: 50%;z-index: 0;}#sk-container-id-3 div.sk-serial {display: flex;flex-direction: column;align-items: center;background-color: white;padding-right: 0.2em;padding-left: 0.2em;position: relative;}#sk-container-id-3 div.sk-item {position: relative;z-index: 1;}#sk-container-id-3 div.sk-parallel {display: flex;align-items: stretch;justify-content: center;background-color: white;position: relative;}#sk-container-id-3 div.sk-item::before, #sk-container-id-3 div.sk-parallel-item::before {content: \"\";position: absolute;border-left: 1px solid gray;box-sizing: border-box;top: 0;bottom: 0;left: 50%;z-index: -1;}#sk-container-id-3 div.sk-parallel-item {display: flex;flex-direction: column;z-index: 1;position: relative;background-color: white;}#sk-container-id-3 div.sk-parallel-item:first-child::after {align-self: flex-end;width: 50%;}#sk-container-id-3 div.sk-parallel-item:last-child::after {align-self: flex-start;width: 50%;}#sk-container-id-3 div.sk-parallel-item:only-child::after {width: 0;}#sk-container-id-3 div.sk-dashed-wrapped {border: 1px dashed gray;margin: 0 0.4em 0.5em 0.4em;box-sizing: border-box;padding-bottom: 0.4em;background-color: white;}#sk-container-id-3 div.sk-label label {font-family: monospace;font-weight: bold;display: inline-block;line-height: 1.2em;}#sk-container-id-3 div.sk-label-container {text-align: center;}#sk-container-id-3 div.sk-container {/* jupyter's `normalize.less` sets `[hidden] { display: none; }` but bootstrap.min.css set `[hidden] { display: none !important; }` so we also need the `!important` here to be able to override the default hidden behavior on the sphinx rendered scikit-learn.org. See: https://github.com/scikit-learn/scikit-learn/issues/21755 */display: inline-block !important;position: relative;}#sk-container-id-3 div.sk-text-repr-fallback {display: none;}</style><div id=\"sk-container-id-3\" class=\"sk-top-container\"><div class=\"sk-text-repr-fallback\"><pre>RandomForestClassifier(criterion=&#x27;entropy&#x27;, max_features=None,\n",
              "                       min_samples_split=3, n_jobs=-1, oob_score=True,\n",
              "                       random_state=1)</pre><b>In a Jupyter environment, please rerun this cell to show the HTML representation or trust the notebook. <br />On GitHub, the HTML representation is unable to render, please try loading this page with nbviewer.org.</b></div><div class=\"sk-container\" hidden><div class=\"sk-item\"><div class=\"sk-estimator sk-toggleable\"><input class=\"sk-toggleable__control sk-hidden--visually\" id=\"sk-estimator-id-3\" type=\"checkbox\" checked><label for=\"sk-estimator-id-3\" class=\"sk-toggleable__label sk-toggleable__label-arrow\">RandomForestClassifier</label><div class=\"sk-toggleable__content\"><pre>RandomForestClassifier(criterion=&#x27;entropy&#x27;, max_features=None,\n",
              "                       min_samples_split=3, n_jobs=-1, oob_score=True,\n",
              "                       random_state=1)</pre></div></div></div></div></div>"
            ],
            "text/plain": [
              "RandomForestClassifier(criterion='entropy', max_features=None,\n",
              "                       min_samples_split=3, n_jobs=-1, oob_score=True,\n",
              "                       random_state=1)"
            ]
          },
          "execution_count": 20,
          "metadata": {},
          "output_type": "execute_result"
        }
      ],
      "source": [
        "semilla_rf = 1\n",
        "\n",
        "# # ----- Buscado por CV -----\n",
        "# parametros_cv_rf = {\n",
        "#     \"criterion\" : [\"gini\", \"entropy\"],\n",
        "#     \"min_samples_leaf\" : [1, 3, 5, 10],\n",
        "#     \"min_samples_split\" : [2, 3, 4, 5, 6, 10, 12],\n",
        "#     \"n_estimators\": [10, 20, 50, 70, 100],\n",
        "\n",
        "#     # para compatibilidad con la búsqueda manual\n",
        "#     \"max_features\": [\"auto\"],\n",
        "#     \"oob_score\": [True],\n",
        "#     \"random_state\": [semilla_rf],\n",
        "#     \"n_jobs\": [-1]\n",
        "# }\n",
        "\n",
        "# cv_rf = buscar_por_cv(metodo=\"grid\",\n",
        "#                       clasificador=RandomForestClassifier(),\n",
        "#                       params_cv=parametros_cv_rf,\n",
        "#                       puntaje=\"f1\",\n",
        "#                       folds=5,\n",
        "#                       kfold_estratificado=True,\n",
        "#                       seed=semilla)\n",
        "# cv_rf.fit(X=x_train, y=y_train)\n",
        "\n",
        "# print(f\"{cv_rf.best_params_}\\n\"\n",
        "#       f\"{cv_rf.best_score_}\")\n",
        "# rfc = cv_rf.best_estimator_\n",
        "# # --------------------------\n",
        "\n",
        "# ----- Creado Manualmente -----\n",
        "rfc = RandomForestClassifier(max_features=None,\n",
        "                             oob_score=True,\n",
        "                             random_state=semilla_rf,\n",
        "                             n_jobs=-1,\n",
        "                             criterion=\"entropy\",\n",
        "                             min_samples_leaf=1,\n",
        "                             min_samples_split=3,\n",
        "                             n_estimators=100)\n",
        "\n",
        "rfc.fit(X=x_train,\n",
        "        y=y_train)\n",
        "# ------------------------------"
      ]
    },
    {
      "cell_type": "code",
      "execution_count": 21,
      "metadata": {
        "id": "NzfQJyK4f-3G"
      },
      "outputs": [],
      "source": [
        "y_pred_rf = rfc.predict(x_test)"
      ]
    },
    {
      "cell_type": "code",
      "execution_count": 22,
      "metadata": {
        "id": "57rg97rPLnek"
      },
      "outputs": [
        {
          "name": "stdout",
          "output_type": "stream",
          "text": [
            "Splits Seed:\t3\n",
            "Train/Test:\t\t80.0% / 20.0%\n",
            "-\n",
            "Accuracy:\t\t0.8812536177954189\n",
            "Recall:\t\t\t0.886515571498451\n",
            "Precision:\t\t0.8802007446980735\n",
            "f1 score:\t\t0.8833468724614134\n",
            "\n",
            "\n",
            "              precision    recall  f1-score   support\n",
            "\n",
            "           0       0.88      0.88      0.88      5960\n",
            "           1       0.88      0.89      0.88      6133\n",
            "\n",
            "    accuracy                           0.88     12093\n",
            "   macro avg       0.88      0.88      0.88     12093\n",
            "weighted avg       0.88      0.88      0.88     12093\n",
            "\n"
          ]
        },
        {
          "data": {
            "image/png": "[encoded data removed]",
            "text/plain": [
              "<Figure size 640x480 with 2 Axes>"
            ]
          },
          "metadata": {},
          "output_type": "display_data"
        }
      ],
      "source": [
        "evaluar(y_test, y_pred_rf,\n",
        "        seed_splits=semilla,\n",
        "        porcentaje_test=porcentaje_test,\n",
        "        titulo_matriz=\"Matriz de Confusión de RF\")"
      ]
    },
    {
      "cell_type": "markdown",
      "metadata": {
        "id": "cDPp72IIm0AK"
      },
      "source": [
        "<hr width=\"30%\" align=\"left\" />"
      ]
    },
    {
      "cell_type": "markdown",
      "metadata": {
        "id": "Y7H1KKYyJUDF"
      },
      "source": [
        "## **Clasificador _XGBoost_**"
      ]
    },
    {
      "cell_type": "markdown",
      "metadata": {
        "id": "ZnXk1wwCq54o"
      },
      "source": [
        "Los parámetros de este clasificador son muchos y variados; esto quizás porque no necesariamente viene de la biblioteca de _scikit-learn,_ aunque sí implementa sus interfaces, por lo que podemos optimizar sus hiper-parámetros con _cross validation_ como siempre.\n",
        "Ejemplos de dichos parámetros son:\n",
        "\n",
        "* **n_estimators:** Cuántos árboles utilizar en la clasificación.\n",
        "\n",
        "* **max_depth:** Profundidad máxima que utilizar en cada árbol. _(A diferencia de por ejemplo el AdaBoost, acá los árboles pueden tener más profundidad)_\n",
        "\n",
        "* **max_leaves:** Cantidad de hojas máxima por árbol.\n",
        "\n",
        "* **learning_rate:** El coeficiente con el que ir suavizando los datos para no hacer _overfitting_."
      ]
    },
    {
      "cell_type": "code",
      "execution_count": 23,
      "metadata": {
        "id": "rq3k91xFJw91"
      },
      "outputs": [
        {
          "data": {
            "text/html": [
              "<style>#sk-container-id-4 {color: black;}#sk-container-id-4 pre{padding: 0;}#sk-container-id-4 div.sk-toggleable {background-color: white;}#sk-container-id-4 label.sk-toggleable__label {cursor: pointer;display: block;width: 100%;margin-bottom: 0;padding: 0.3em;box-sizing: border-box;text-align: center;}#sk-container-id-4 label.sk-toggleable__label-arrow:before {content: \"▸\";float: left;margin-right: 0.25em;color: #696969;}#sk-container-id-4 label.sk-toggleable__label-arrow:hover:before {color: black;}#sk-container-id-4 div.sk-estimator:hover label.sk-toggleable__label-arrow:before {color: black;}#sk-container-id-4 div.sk-toggleable__content {max-height: 0;max-width: 0;overflow: hidden;text-align: left;background-color: #f0f8ff;}#sk-container-id-4 div.sk-toggleable__content pre {margin: 0.2em;color: black;border-radius: 0.25em;background-color: #f0f8ff;}#sk-container-id-4 input.sk-toggleable__control:checked~div.sk-toggleable__content {max-height: 200px;max-width: 100%;overflow: auto;}#sk-container-id-4 input.sk-toggleable__control:checked~label.sk-toggleable__label-arrow:before {content: \"▾\";}#sk-container-id-4 div.sk-estimator input.sk-toggleable__control:checked~label.sk-toggleable__label {background-color: #d4ebff;}#sk-container-id-4 div.sk-label input.sk-toggleable__control:checked~label.sk-toggleable__label {background-color: #d4ebff;}#sk-container-id-4 input.sk-hidden--visually {border: 0;clip: rect(1px 1px 1px 1px);clip: rect(1px, 1px, 1px, 1px);height: 1px;margin: -1px;overflow: hidden;padding: 0;position: absolute;width: 1px;}#sk-container-id-4 div.sk-estimator {font-family: monospace;background-color: #f0f8ff;border: 1px dotted black;border-radius: 0.25em;box-sizing: border-box;margin-bottom: 0.5em;}#sk-container-id-4 div.sk-estimator:hover {background-color: #d4ebff;}#sk-container-id-4 div.sk-parallel-item::after {content: \"\";width: 100%;border-bottom: 1px solid gray;flex-grow: 1;}#sk-container-id-4 div.sk-label:hover label.sk-toggleable__label {background-color: #d4ebff;}#sk-container-id-4 div.sk-serial::before {content: \"\";position: absolute;border-left: 1px solid gray;box-sizing: border-box;top: 0;bottom: 0;left: 50%;z-index: 0;}#sk-container-id-4 div.sk-serial {display: flex;flex-direction: column;align-items: center;background-color: white;padding-right: 0.2em;padding-left: 0.2em;position: relative;}#sk-container-id-4 div.sk-item {position: relative;z-index: 1;}#sk-container-id-4 div.sk-parallel {display: flex;align-items: stretch;justify-content: center;background-color: white;position: relative;}#sk-container-id-4 div.sk-item::before, #sk-container-id-4 div.sk-parallel-item::before {content: \"\";position: absolute;border-left: 1px solid gray;box-sizing: border-box;top: 0;bottom: 0;left: 50%;z-index: -1;}#sk-container-id-4 div.sk-parallel-item {display: flex;flex-direction: column;z-index: 1;position: relative;background-color: white;}#sk-container-id-4 div.sk-parallel-item:first-child::after {align-self: flex-end;width: 50%;}#sk-container-id-4 div.sk-parallel-item:last-child::after {align-self: flex-start;width: 50%;}#sk-container-id-4 div.sk-parallel-item:only-child::after {width: 0;}#sk-container-id-4 div.sk-dashed-wrapped {border: 1px dashed gray;margin: 0 0.4em 0.5em 0.4em;box-sizing: border-box;padding-bottom: 0.4em;background-color: white;}#sk-container-id-4 div.sk-label label {font-family: monospace;font-weight: bold;display: inline-block;line-height: 1.2em;}#sk-container-id-4 div.sk-label-container {text-align: center;}#sk-container-id-4 div.sk-container {/* jupyter's `normalize.less` sets `[hidden] { display: none; }` but bootstrap.min.css set `[hidden] { display: none !important; }` so we also need the `!important` here to be able to override the default hidden behavior on the sphinx rendered scikit-learn.org. See: https://github.com/scikit-learn/scikit-learn/issues/21755 */display: inline-block !important;position: relative;}#sk-container-id-4 div.sk-text-repr-fallback {display: none;}</style><div id=\"sk-container-id-4\" class=\"sk-top-container\"><div class=\"sk-text-repr-fallback\"><pre>XGBClassifier(base_score=None, booster=None, callbacks=None,\n",
              "              colsample_bylevel=None, colsample_bynode=None,\n",
              "              colsample_bytree=None, device=None, early_stopping_rounds=None,\n",
              "              enable_categorical=False, eval_metric=None, feature_types=None,\n",
              "              gamma=3.673469387755102, grow_policy=None, importance_type=None,\n",
              "              interaction_constraints=None, learning_rate=0.2285714285714286,\n",
              "              max_bin=None, max_cat_threshold=None, max_cat_to_onehot=None,\n",
              "              max_delta_step=None, max_depth=19, max_leaves=0,\n",
              "              min_child_weight=None, missing=nan, monotone_constraints=None,\n",
              "              multi_strategy=None, n_estimators=72, n_jobs=-1,\n",
              "              num_parallel_tree=None, random_state=1, ...)</pre><b>In a Jupyter environment, please rerun this cell to show the HTML representation or trust the notebook. <br />On GitHub, the HTML representation is unable to render, please try loading this page with nbviewer.org.</b></div><div class=\"sk-container\" hidden><div class=\"sk-item\"><div class=\"sk-estimator sk-toggleable\"><input class=\"sk-toggleable__control sk-hidden--visually\" id=\"sk-estimator-id-4\" type=\"checkbox\" checked><label for=\"sk-estimator-id-4\" class=\"sk-toggleable__label sk-toggleable__label-arrow\">XGBClassifier</label><div class=\"sk-toggleable__content\"><pre>XGBClassifier(base_score=None, booster=None, callbacks=None,\n",
              "              colsample_bylevel=None, colsample_bynode=None,\n",
              "              colsample_bytree=None, device=None, early_stopping_rounds=None,\n",
              "              enable_categorical=False, eval_metric=None, feature_types=None,\n",
              "              gamma=3.673469387755102, grow_policy=None, importance_type=None,\n",
              "              interaction_constraints=None, learning_rate=0.2285714285714286,\n",
              "              max_bin=None, max_cat_threshold=None, max_cat_to_onehot=None,\n",
              "              max_delta_step=None, max_depth=19, max_leaves=0,\n",
              "              min_child_weight=None, missing=nan, monotone_constraints=None,\n",
              "              multi_strategy=None, n_estimators=72, n_jobs=-1,\n",
              "              num_parallel_tree=None, random_state=1, ...)</pre></div></div></div></div></div>"
            ],
            "text/plain": [
              "XGBClassifier(base_score=None, booster=None, callbacks=None,\n",
              "              colsample_bylevel=None, colsample_bynode=None,\n",
              "              colsample_bytree=None, device=None, early_stopping_rounds=None,\n",
              "              enable_categorical=False, eval_metric=None, feature_types=None,\n",
              "              gamma=3.673469387755102, grow_policy=None, importance_type=None,\n",
              "              interaction_constraints=None, learning_rate=0.2285714285714286,\n",
              "              max_bin=None, max_cat_threshold=None, max_cat_to_onehot=None,\n",
              "              max_delta_step=None, max_depth=19, max_leaves=0,\n",
              "              min_child_weight=None, missing=nan, monotone_constraints=None,\n",
              "              multi_strategy=None, n_estimators=72, n_jobs=-1,\n",
              "              num_parallel_tree=None, random_state=1, ...)"
            ]
          },
          "execution_count": 23,
          "metadata": {},
          "output_type": "execute_result"
        }
      ],
      "source": [
        "semilla_xgb = 1\n",
        "\n",
        "# # ----- Buscado por CV -----\n",
        "# parametros_cv_xgb = {\n",
        "#     \"n_estimators\": np.arange(50, 151),\n",
        "#     \"max_depth\": np.arange(0, 20),\n",
        "#     \"max_leaves\": np.arange(0, 30),\n",
        "#     \"gamma\": np.linspace(0.0, 15, 50),\n",
        "#     \"reg_alpha\": np.linspace(0.0, 5, 20),\n",
        "#     \"reg_lambda\": np.linspace(0.0, 5, 20),\n",
        "#     \"learning_rate\": np.linspace(0.0, 0.8, 50),\n",
        "#     \"n_jobs\": [-1],\n",
        "#     \"random_state\": [semilla_xgb]\n",
        "# }\n",
        "# cv_xgb = buscar_por_cv(metodo=\"random\",\n",
        "#                        clasificador=XGBClassifier(),\n",
        "#                        params_cv=parametros_cv_xgb,\n",
        "#                        puntaje=\"f1\",\n",
        "#                        rand_comb=150,\n",
        "#                        folds=10,\n",
        "#                        kfold_estratificado=True,\n",
        "#                        seed=semilla)\n",
        "# cv_xgb.fit(X=x_train, y=y_train)\n",
        "\n",
        "# print(f\"{cv_xgb.best_params_}\\n\"\n",
        "#       f\"{cv_xgb.best_score_}\")\n",
        "# xgb = cv_xgb.best_estimator_\n",
        "# # --------------------------\n",
        "\n",
        "# ----- Creado Manualmente -----\n",
        "xgb = XGBClassifier(random_state=semilla_xgb,\n",
        "                    n_jobs=-1,\n",
        "                    n_estimators=72,\n",
        "                    max_leaves=0,\n",
        "                    max_depth=19,\n",
        "                    learning_rate=0.2285714285714286,\n",
        "                    reg_lambda=1.3157894736842104,\n",
        "                    gamma=3.673469387755102,\n",
        "                    reg_alpha=1.0526315789473684)\n",
        "\n",
        "xgb.fit(x_train,\n",
        "        y_train)\n",
        "# ------------------------------"
      ]
    },
    {
      "cell_type": "code",
      "execution_count": 24,
      "metadata": {
        "id": "17u0NRgWKG5O"
      },
      "outputs": [],
      "source": [
        "y_pred_xgb = xgb.predict(x_test)"
      ]
    },
    {
      "cell_type": "code",
      "execution_count": 25,
      "metadata": {
        "id": "_ZyBCdoKKM9C"
      },
      "outputs": [
        {
          "name": "stdout",
          "output_type": "stream",
          "text": [
            "Splits Seed:\t3\n",
            "Model Seed:\t\t1\n",
            "Train/Test:\t\t80.0% / 20.0%\n",
            "-\n",
            "Accuracy:\t\t0.8778632266600512\n",
            "Recall:\t\t\t0.8845589434208381\n",
            "Precision:\t\t0.8758475944462383\n",
            "f1 score:\t\t0.8801817149346962\n",
            "\n",
            "\n",
            "              precision    recall  f1-score   support\n",
            "\n",
            "           0       0.88      0.87      0.88      5960\n",
            "           1       0.88      0.88      0.88      6133\n",
            "\n",
            "    accuracy                           0.88     12093\n",
            "   macro avg       0.88      0.88      0.88     12093\n",
            "weighted avg       0.88      0.88      0.88     12093\n",
            "\n"
          ]
        },
        {
          "data": {
            "image/png": "[encoded data removed]",
            "text/plain": [
              "<Figure size 640x480 with 2 Axes>"
            ]
          },
          "metadata": {},
          "output_type": "display_data"
        }
      ],
      "source": [
        "evaluar(y_test, y_pred_xgb,\n",
        "        seed_splits=semilla,\n",
        "        seed_modelo=semilla_xgb,\n",
        "        porcentaje_test=porcentaje_test,\n",
        "        titulo_matriz=\"Matriz de Confusión de XGBoost\")"
      ]
    },
    {
      "cell_type": "markdown",
      "metadata": {
        "id": "RucB4RSZz7r1"
      },
      "source": [
        "<hr width=\"30%\" align=\"left\" />"
      ]
    },
    {
      "cell_type": "markdown",
      "metadata": {
        "id": "bSzquWigYUvM"
      },
      "source": [
        "## **Ensambles Híbridos**"
      ]
    },
    {
      "cell_type": "markdown",
      "metadata": {
        "id": "lgB1djIGW-HU"
      },
      "source": [
        "Usamos para apilar los modelos creados anteriormente, pues son los más optimizados. Utilizamos por temas de rendimiento RF y XGB, que son los que menos tardan en calcularse y además, los de mayor puntaje."
      ]
    },
    {
      "cell_type": "code",
      "execution_count": 26,
      "metadata": {
        "id": "uwC06JEGXCUm"
      },
      "outputs": [],
      "source": [
        "modelos_base = [\n",
        "    # (\"knn\", knn),\n",
        "    # (\"svm\", svm),\n",
        "    (\"rf\", rfc),\n",
        "    (\"xgb\", xgb)\n",
        "]"
      ]
    },
    {
      "cell_type": "markdown",
      "metadata": {
        "id": "jTKwZxy6YZ5F"
      },
      "source": [
        "<hr width=\"20%\" align=\"left\" />"
      ]
    },
    {
      "cell_type": "markdown",
      "metadata": {
        "id": "K3zX2A5Wz85I"
      },
      "source": [
        "### **Ensamble tipo _Voting_**"
      ]
    },
    {
      "cell_type": "markdown",
      "metadata": {
        "id": "78lHhx7QfC0o"
      },
      "source": [
        "Este ensamble agarra todos los modelos y trata de predecir con los votos de la mayoría.\n",
        "Los parámetros básicos son:\n",
        "\n",
        "* **estimators:** Todos los clasificadores a utilizar.\n",
        "\n",
        "* **voting:** La estrategia de voto:\n",
        "    - _hard:_ Elige el valor dado por mayoría estricta.\n",
        "    - _soft:_ Pondera con cálculos como el promedio, etc."
      ]
    },
    {
      "cell_type": "code",
      "execution_count": 27,
      "metadata": {
        "id": "P8oi_kTFd1RH"
      },
      "outputs": [
        {
          "data": {
            "text/html": [
              "<style>#sk-container-id-5 {color: black;}#sk-container-id-5 pre{padding: 0;}#sk-container-id-5 div.sk-toggleable {background-color: white;}#sk-container-id-5 label.sk-toggleable__label {cursor: pointer;display: block;width: 100%;margin-bottom: 0;padding: 0.3em;box-sizing: border-box;text-align: center;}#sk-container-id-5 label.sk-toggleable__label-arrow:before {content: \"▸\";float: left;margin-right: 0.25em;color: #696969;}#sk-container-id-5 label.sk-toggleable__label-arrow:hover:before {color: black;}#sk-container-id-5 div.sk-estimator:hover label.sk-toggleable__label-arrow:before {color: black;}#sk-container-id-5 div.sk-toggleable__content {max-height: 0;max-width: 0;overflow: hidden;text-align: left;background-color: #f0f8ff;}#sk-container-id-5 div.sk-toggleable__content pre {margin: 0.2em;color: black;border-radius: 0.25em;background-color: #f0f8ff;}#sk-container-id-5 input.sk-toggleable__control:checked~div.sk-toggleable__content {max-height: 200px;max-width: 100%;overflow: auto;}#sk-container-id-5 input.sk-toggleable__control:checked~label.sk-toggleable__label-arrow:before {content: \"▾\";}#sk-container-id-5 div.sk-estimator input.sk-toggleable__control:checked~label.sk-toggleable__label {background-color: #d4ebff;}#sk-container-id-5 div.sk-label input.sk-toggleable__control:checked~label.sk-toggleable__label {background-color: #d4ebff;}#sk-container-id-5 input.sk-hidden--visually {border: 0;clip: rect(1px 1px 1px 1px);clip: rect(1px, 1px, 1px, 1px);height: 1px;margin: -1px;overflow: hidden;padding: 0;position: absolute;width: 1px;}#sk-container-id-5 div.sk-estimator {font-family: monospace;background-color: #f0f8ff;border: 1px dotted black;border-radius: 0.25em;box-sizing: border-box;margin-bottom: 0.5em;}#sk-container-id-5 div.sk-estimator:hover {background-color: #d4ebff;}#sk-container-id-5 div.sk-parallel-item::after {content: \"\";width: 100%;border-bottom: 1px solid gray;flex-grow: 1;}#sk-container-id-5 div.sk-label:hover label.sk-toggleable__label {background-color: #d4ebff;}#sk-container-id-5 div.sk-serial::before {content: \"\";position: absolute;border-left: 1px solid gray;box-sizing: border-box;top: 0;bottom: 0;left: 50%;z-index: 0;}#sk-container-id-5 div.sk-serial {display: flex;flex-direction: column;align-items: center;background-color: white;padding-right: 0.2em;padding-left: 0.2em;position: relative;}#sk-container-id-5 div.sk-item {position: relative;z-index: 1;}#sk-container-id-5 div.sk-parallel {display: flex;align-items: stretch;justify-content: center;background-color: white;position: relative;}#sk-container-id-5 div.sk-item::before, #sk-container-id-5 div.sk-parallel-item::before {content: \"\";position: absolute;border-left: 1px solid gray;box-sizing: border-box;top: 0;bottom: 0;left: 50%;z-index: -1;}#sk-container-id-5 div.sk-parallel-item {display: flex;flex-direction: column;z-index: 1;position: relative;background-color: white;}#sk-container-id-5 div.sk-parallel-item:first-child::after {align-self: flex-end;width: 50%;}#sk-container-id-5 div.sk-parallel-item:last-child::after {align-self: flex-start;width: 50%;}#sk-container-id-5 div.sk-parallel-item:only-child::after {width: 0;}#sk-container-id-5 div.sk-dashed-wrapped {border: 1px dashed gray;margin: 0 0.4em 0.5em 0.4em;box-sizing: border-box;padding-bottom: 0.4em;background-color: white;}#sk-container-id-5 div.sk-label label {font-family: monospace;font-weight: bold;display: inline-block;line-height: 1.2em;}#sk-container-id-5 div.sk-label-container {text-align: center;}#sk-container-id-5 div.sk-container {/* jupyter's `normalize.less` sets `[hidden] { display: none; }` but bootstrap.min.css set `[hidden] { display: none !important; }` so we also need the `!important` here to be able to override the default hidden behavior on the sphinx rendered scikit-learn.org. See: https://github.com/scikit-learn/scikit-learn/issues/21755 */display: inline-block !important;position: relative;}#sk-container-id-5 div.sk-text-repr-fallback {display: none;}</style><div id=\"sk-container-id-5\" class=\"sk-top-container\"><div class=\"sk-text-repr-fallback\"><pre>VotingClassifier(estimators=[(&#x27;rf&#x27;,\n",
              "                              RandomForestClassifier(criterion=&#x27;entropy&#x27;,\n",
              "                                                     max_features=None,\n",
              "                                                     min_samples_split=3,\n",
              "                                                     n_jobs=-1, oob_score=True,\n",
              "                                                     random_state=1)),\n",
              "                             (&#x27;xgb&#x27;,\n",
              "                              XGBClassifier(base_score=None, booster=None,\n",
              "                                            callbacks=None,\n",
              "                                            colsample_bylevel=None,\n",
              "                                            colsample_bynode=None,\n",
              "                                            colsample_bytree=None, device=None,\n",
              "                                            early_stopping_rounds=None,\n",
              "                                            enable_categorical=Fa...\n",
              "                                            importance_type=None,\n",
              "                                            interaction_constraints=None,\n",
              "                                            learning_rate=0.2285714285714286,\n",
              "                                            max_bin=None,\n",
              "                                            max_cat_threshold=None,\n",
              "                                            max_cat_to_onehot=None,\n",
              "                                            max_delta_step=None, max_depth=19,\n",
              "                                            max_leaves=0, min_child_weight=None,\n",
              "                                            missing=nan,\n",
              "                                            monotone_constraints=None,\n",
              "                                            multi_strategy=None,\n",
              "                                            n_estimators=72, n_jobs=-1,\n",
              "                                            num_parallel_tree=None,\n",
              "                                            random_state=1, ...))],\n",
              "                 n_jobs=-1, voting=&#x27;soft&#x27;)</pre><b>In a Jupyter environment, please rerun this cell to show the HTML representation or trust the notebook. <br />On GitHub, the HTML representation is unable to render, please try loading this page with nbviewer.org.</b></div><div class=\"sk-container\" hidden><div class=\"sk-item sk-dashed-wrapped\"><div class=\"sk-label-container\"><div class=\"sk-label sk-toggleable\"><input class=\"sk-toggleable__control sk-hidden--visually\" id=\"sk-estimator-id-5\" type=\"checkbox\" ><label for=\"sk-estimator-id-5\" class=\"sk-toggleable__label sk-toggleable__label-arrow\">VotingClassifier</label><div class=\"sk-toggleable__content\"><pre>VotingClassifier(estimators=[(&#x27;rf&#x27;,\n",
              "                              RandomForestClassifier(criterion=&#x27;entropy&#x27;,\n",
              "                                                     max_features=None,\n",
              "                                                     min_samples_split=3,\n",
              "                                                     n_jobs=-1, oob_score=True,\n",
              "                                                     random_state=1)),\n",
              "                             (&#x27;xgb&#x27;,\n",
              "                              XGBClassifier(base_score=None, booster=None,\n",
              "                                            callbacks=None,\n",
              "                                            colsample_bylevel=None,\n",
              "                                            colsample_bynode=None,\n",
              "                                            colsample_bytree=None, device=None,\n",
              "                                            early_stopping_rounds=None,\n",
              "                                            enable_categorical=Fa...\n",
              "                                            importance_type=None,\n",
              "                                            interaction_constraints=None,\n",
              "                                            learning_rate=0.2285714285714286,\n",
              "                                            max_bin=None,\n",
              "                                            max_cat_threshold=None,\n",
              "                                            max_cat_to_onehot=None,\n",
              "                                            max_delta_step=None, max_depth=19,\n",
              "                                            max_leaves=0, min_child_weight=None,\n",
              "                                            missing=nan,\n",
              "                                            monotone_constraints=None,\n",
              "                                            multi_strategy=None,\n",
              "                                            n_estimators=72, n_jobs=-1,\n",
              "                                            num_parallel_tree=None,\n",
              "                                            random_state=1, ...))],\n",
              "                 n_jobs=-1, voting=&#x27;soft&#x27;)</pre></div></div></div><div class=\"sk-parallel\"><div class=\"sk-parallel-item\"><div class=\"sk-item\"><div class=\"sk-label-container\"><div class=\"sk-label sk-toggleable\"><label>rf</label></div></div><div class=\"sk-serial\"><div class=\"sk-item\"><div class=\"sk-estimator sk-toggleable\"><input class=\"sk-toggleable__control sk-hidden--visually\" id=\"sk-estimator-id-6\" type=\"checkbox\" ><label for=\"sk-estimator-id-6\" class=\"sk-toggleable__label sk-toggleable__label-arrow\">RandomForestClassifier</label><div class=\"sk-toggleable__content\"><pre>RandomForestClassifier(criterion=&#x27;entropy&#x27;, max_features=None,\n",
              "                       min_samples_split=3, n_jobs=-1, oob_score=True,\n",
              "                       random_state=1)</pre></div></div></div></div></div></div><div class=\"sk-parallel-item\"><div class=\"sk-item\"><div class=\"sk-label-container\"><div class=\"sk-label sk-toggleable\"><label>xgb</label></div></div><div class=\"sk-serial\"><div class=\"sk-item\"><div class=\"sk-estimator sk-toggleable\"><input class=\"sk-toggleable__control sk-hidden--visually\" id=\"sk-estimator-id-7\" type=\"checkbox\" ><label for=\"sk-estimator-id-7\" class=\"sk-toggleable__label sk-toggleable__label-arrow\">XGBClassifier</label><div class=\"sk-toggleable__content\"><pre>XGBClassifier(base_score=None, booster=None, callbacks=None,\n",
              "              colsample_bylevel=None, colsample_bynode=None,\n",
              "              colsample_bytree=None, device=None, early_stopping_rounds=None,\n",
              "              enable_categorical=False, eval_metric=None, feature_types=None,\n",
              "              gamma=3.673469387755102, grow_policy=None, importance_type=None,\n",
              "              interaction_constraints=None, learning_rate=0.2285714285714286,\n",
              "              max_bin=None, max_cat_threshold=None, max_cat_to_onehot=None,\n",
              "              max_delta_step=None, max_depth=19, max_leaves=0,\n",
              "              min_child_weight=None, missing=nan, monotone_constraints=None,\n",
              "              multi_strategy=None, n_estimators=72, n_jobs=-1,\n",
              "              num_parallel_tree=None, random_state=1, ...)</pre></div></div></div></div></div></div></div></div></div></div>"
            ],
            "text/plain": [
              "VotingClassifier(estimators=[('rf',\n",
              "                              RandomForestClassifier(criterion='entropy',\n",
              "                                                     max_features=None,\n",
              "                                                     min_samples_split=3,\n",
              "                                                     n_jobs=-1, oob_score=True,\n",
              "                                                     random_state=1)),\n",
              "                             ('xgb',\n",
              "                              XGBClassifier(base_score=None, booster=None,\n",
              "                                            callbacks=None,\n",
              "                                            colsample_bylevel=None,\n",
              "                                            colsample_bynode=None,\n",
              "                                            colsample_bytree=None, device=None,\n",
              "                                            early_stopping_rounds=None,\n",
              "                                            enable_categorical=Fa...\n",
              "                                            importance_type=None,\n",
              "                                            interaction_constraints=None,\n",
              "                                            learning_rate=0.2285714285714286,\n",
              "                                            max_bin=None,\n",
              "                                            max_cat_threshold=None,\n",
              "                                            max_cat_to_onehot=None,\n",
              "                                            max_delta_step=None, max_depth=19,\n",
              "                                            max_leaves=0, min_child_weight=None,\n",
              "                                            missing=nan,\n",
              "                                            monotone_constraints=None,\n",
              "                                            multi_strategy=None,\n",
              "                                            n_estimators=72, n_jobs=-1,\n",
              "                                            num_parallel_tree=None,\n",
              "                                            random_state=1, ...))],\n",
              "                 n_jobs=-1, voting='soft')"
            ]
          },
          "execution_count": 27,
          "metadata": {},
          "output_type": "execute_result"
        }
      ],
      "source": [
        "voting = VotingClassifier(estimators=modelos_base,\n",
        "                          voting=\"soft\",\n",
        "                          n_jobs=-1)\n",
        "voting.fit(X=x_train,\n",
        "           y=y_train)"
      ]
    },
    {
      "cell_type": "code",
      "execution_count": 28,
      "metadata": {
        "id": "oCoSigxdeT_H"
      },
      "outputs": [],
      "source": [
        "y_pred_voting = voting.predict(x_test)"
      ]
    },
    {
      "cell_type": "code",
      "execution_count": 29,
      "metadata": {
        "id": "z7xqj0raehBz"
      },
      "outputs": [
        {
          "name": "stdout",
          "output_type": "stream",
          "text": [
            "Splits Seed:\t3\n",
            "Train/Test:\t\t80.0% / 20.0%\n",
            "-\n",
            "Accuracy:\t\t0.8829901595964608\n",
            "Recall:\t\t\t0.8879830425566607\n",
            "Precision:\t\t0.8820861678004536\n",
            "f1 score:\t\t0.8850247826440237\n",
            "\n",
            "\n",
            "              precision    recall  f1-score   support\n",
            "\n",
            "           0       0.88      0.88      0.88      5960\n",
            "           1       0.88      0.89      0.89      6133\n",
            "\n",
            "    accuracy                           0.88     12093\n",
            "   macro avg       0.88      0.88      0.88     12093\n",
            "weighted avg       0.88      0.88      0.88     12093\n",
            "\n"
          ]
        },
        {
          "data": {
            "image/png": "[encoded data removed]",
            "text/plain": [
              "<Figure size 640x480 with 2 Axes>"
            ]
          },
          "metadata": {},
          "output_type": "display_data"
        }
      ],
      "source": [
        "evaluar(y_test, y_pred_voting,\n",
        "        seed_splits=semilla,\n",
        "        porcentaje_test=porcentaje_test,\n",
        "        titulo_matriz=\"Matriz de Confusión de Ensamble (Voting)\")"
      ]
    },
    {
      "cell_type": "markdown",
      "metadata": {
        "id": "Db3gpu59z8O8"
      },
      "source": [
        "<hr width=\"20%\" align=\"left\" />"
      ]
    },
    {
      "cell_type": "markdown",
      "metadata": {
        "id": "UeKnBKI0z_pf"
      },
      "source": [
        "### **Ensamble tipo _Stacking_**"
      ]
    },
    {
      "cell_type": "markdown",
      "metadata": {
        "id": "sBdqqcfKfZut"
      },
      "source": [
        "Este ensamble utiliza un \"meta-modelo\" para decidir qué modelo utilizar al predecir según la ocasión. Algunos parámetros son:\n",
        "\n",
        "* **estimators:** Todos los clasificadores a utilizar.\n",
        "\n",
        "* **final_estimator:** El \"meta-modelo\" que decide qué modelo de **estimators** utilizar.\n",
        "\n",
        "* **passtrough:** Si el meta-modelo se entrena también con los datos de entrenamiento, y no sólo las predicciones hechas."
      ]
    },
    {
      "cell_type": "markdown",
      "metadata": {
        "id": "I3BTlJdRY1Rt"
      },
      "source": [
        "Primero definimos el modelo que decide cuál modelo utilizar:"
      ]
    },
    {
      "cell_type": "code",
      "execution_count": 30,
      "metadata": {
        "id": "-0Sg_w-pY4me"
      },
      "outputs": [],
      "source": [
        "meta_modelo = LogisticRegressionCV()"
      ]
    },
    {
      "cell_type": "code",
      "execution_count": 31,
      "metadata": {
        "id": "ABfX_7zaZHs5"
      },
      "outputs": [
        {
          "data": {
            "text/html": [
              "<style>#sk-container-id-6 {color: black;}#sk-container-id-6 pre{padding: 0;}#sk-container-id-6 div.sk-toggleable {background-color: white;}#sk-container-id-6 label.sk-toggleable__label {cursor: pointer;display: block;width: 100%;margin-bottom: 0;padding: 0.3em;box-sizing: border-box;text-align: center;}#sk-container-id-6 label.sk-toggleable__label-arrow:before {content: \"▸\";float: left;margin-right: 0.25em;color: #696969;}#sk-container-id-6 label.sk-toggleable__label-arrow:hover:before {color: black;}#sk-container-id-6 div.sk-estimator:hover label.sk-toggleable__label-arrow:before {color: black;}#sk-container-id-6 div.sk-toggleable__content {max-height: 0;max-width: 0;overflow: hidden;text-align: left;background-color: #f0f8ff;}#sk-container-id-6 div.sk-toggleable__content pre {margin: 0.2em;color: black;border-radius: 0.25em;background-color: #f0f8ff;}#sk-container-id-6 input.sk-toggleable__control:checked~div.sk-toggleable__content {max-height: 200px;max-width: 100%;overflow: auto;}#sk-container-id-6 input.sk-toggleable__control:checked~label.sk-toggleable__label-arrow:before {content: \"▾\";}#sk-container-id-6 div.sk-estimator input.sk-toggleable__control:checked~label.sk-toggleable__label {background-color: #d4ebff;}#sk-container-id-6 div.sk-label input.sk-toggleable__control:checked~label.sk-toggleable__label {background-color: #d4ebff;}#sk-container-id-6 input.sk-hidden--visually {border: 0;clip: rect(1px 1px 1px 1px);clip: rect(1px, 1px, 1px, 1px);height: 1px;margin: -1px;overflow: hidden;padding: 0;position: absolute;width: 1px;}#sk-container-id-6 div.sk-estimator {font-family: monospace;background-color: #f0f8ff;border: 1px dotted black;border-radius: 0.25em;box-sizing: border-box;margin-bottom: 0.5em;}#sk-container-id-6 div.sk-estimator:hover {background-color: #d4ebff;}#sk-container-id-6 div.sk-parallel-item::after {content: \"\";width: 100%;border-bottom: 1px solid gray;flex-grow: 1;}#sk-container-id-6 div.sk-label:hover label.sk-toggleable__label {background-color: #d4ebff;}#sk-container-id-6 div.sk-serial::before {content: \"\";position: absolute;border-left: 1px solid gray;box-sizing: border-box;top: 0;bottom: 0;left: 50%;z-index: 0;}#sk-container-id-6 div.sk-serial {display: flex;flex-direction: column;align-items: center;background-color: white;padding-right: 0.2em;padding-left: 0.2em;position: relative;}#sk-container-id-6 div.sk-item {position: relative;z-index: 1;}#sk-container-id-6 div.sk-parallel {display: flex;align-items: stretch;justify-content: center;background-color: white;position: relative;}#sk-container-id-6 div.sk-item::before, #sk-container-id-6 div.sk-parallel-item::before {content: \"\";position: absolute;border-left: 1px solid gray;box-sizing: border-box;top: 0;bottom: 0;left: 50%;z-index: -1;}#sk-container-id-6 div.sk-parallel-item {display: flex;flex-direction: column;z-index: 1;position: relative;background-color: white;}#sk-container-id-6 div.sk-parallel-item:first-child::after {align-self: flex-end;width: 50%;}#sk-container-id-6 div.sk-parallel-item:last-child::after {align-self: flex-start;width: 50%;}#sk-container-id-6 div.sk-parallel-item:only-child::after {width: 0;}#sk-container-id-6 div.sk-dashed-wrapped {border: 1px dashed gray;margin: 0 0.4em 0.5em 0.4em;box-sizing: border-box;padding-bottom: 0.4em;background-color: white;}#sk-container-id-6 div.sk-label label {font-family: monospace;font-weight: bold;display: inline-block;line-height: 1.2em;}#sk-container-id-6 div.sk-label-container {text-align: center;}#sk-container-id-6 div.sk-container {/* jupyter's `normalize.less` sets `[hidden] { display: none; }` but bootstrap.min.css set `[hidden] { display: none !important; }` so we also need the `!important` here to be able to override the default hidden behavior on the sphinx rendered scikit-learn.org. See: https://github.com/scikit-learn/scikit-learn/issues/21755 */display: inline-block !important;position: relative;}#sk-container-id-6 div.sk-text-repr-fallback {display: none;}</style><div id=\"sk-container-id-6\" class=\"sk-top-container\"><div class=\"sk-text-repr-fallback\"><pre>StackingClassifier(cv=KFold(n_splits=5, random_state=RandomState(MT19937) at 0x1FB91244F40,\n",
              "   shuffle=False),\n",
              "                   estimators=[(&#x27;rf&#x27;,\n",
              "                                RandomForestClassifier(criterion=&#x27;entropy&#x27;,\n",
              "                                                       max_features=None,\n",
              "                                                       min_samples_split=3,\n",
              "                                                       n_jobs=-1,\n",
              "                                                       oob_score=True,\n",
              "                                                       random_state=1)),\n",
              "                               (&#x27;xgb&#x27;,\n",
              "                                XGBClassifier(base_score=None, booster=None,\n",
              "                                              callbacks=None,\n",
              "                                              colsample_bylevel=None,\n",
              "                                              colsample_bynode=N...\n",
              "                                              learning_rate=0.2285714285714286,\n",
              "                                              max_bin=None,\n",
              "                                              max_cat_threshold=None,\n",
              "                                              max_cat_to_onehot=None,\n",
              "                                              max_delta_step=None, max_depth=19,\n",
              "                                              max_leaves=0,\n",
              "                                              min_child_weight=None,\n",
              "                                              missing=nan,\n",
              "                                              monotone_constraints=None,\n",
              "                                              multi_strategy=None,\n",
              "                                              n_estimators=72, n_jobs=-1,\n",
              "                                              num_parallel_tree=None,\n",
              "                                              random_state=1, ...))],\n",
              "                   final_estimator=LogisticRegressionCV(), n_jobs=-1,\n",
              "                   passthrough=True, verbose=2)</pre><b>In a Jupyter environment, please rerun this cell to show the HTML representation or trust the notebook. <br />On GitHub, the HTML representation is unable to render, please try loading this page with nbviewer.org.</b></div><div class=\"sk-container\" hidden><div class=\"sk-item sk-dashed-wrapped\"><div class=\"sk-label-container\"><div class=\"sk-label sk-toggleable\"><input class=\"sk-toggleable__control sk-hidden--visually\" id=\"sk-estimator-id-8\" type=\"checkbox\" ><label for=\"sk-estimator-id-8\" class=\"sk-toggleable__label sk-toggleable__label-arrow\">StackingClassifier</label><div class=\"sk-toggleable__content\"><pre>StackingClassifier(cv=KFold(n_splits=5, random_state=RandomState(MT19937) at 0x1FB91244F40,\n",
              "   shuffle=False),\n",
              "                   estimators=[(&#x27;rf&#x27;,\n",
              "                                RandomForestClassifier(criterion=&#x27;entropy&#x27;,\n",
              "                                                       max_features=None,\n",
              "                                                       min_samples_split=3,\n",
              "                                                       n_jobs=-1,\n",
              "                                                       oob_score=True,\n",
              "                                                       random_state=1)),\n",
              "                               (&#x27;xgb&#x27;,\n",
              "                                XGBClassifier(base_score=None, booster=None,\n",
              "                                              callbacks=None,\n",
              "                                              colsample_bylevel=None,\n",
              "                                              colsample_bynode=N...\n",
              "                                              learning_rate=0.2285714285714286,\n",
              "                                              max_bin=None,\n",
              "                                              max_cat_threshold=None,\n",
              "                                              max_cat_to_onehot=None,\n",
              "                                              max_delta_step=None, max_depth=19,\n",
              "                                              max_leaves=0,\n",
              "                                              min_child_weight=None,\n",
              "                                              missing=nan,\n",
              "                                              monotone_constraints=None,\n",
              "                                              multi_strategy=None,\n",
              "                                              n_estimators=72, n_jobs=-1,\n",
              "                                              num_parallel_tree=None,\n",
              "                                              random_state=1, ...))],\n",
              "                   final_estimator=LogisticRegressionCV(), n_jobs=-1,\n",
              "                   passthrough=True, verbose=2)</pre></div></div></div><div class=\"sk-serial\"><div class=\"sk-item\"><div class=\"sk-parallel\"><div class=\"sk-parallel-item\"><div class=\"sk-item\"><div class=\"sk-label-container\"><div class=\"sk-label sk-toggleable\"><label>rf</label></div></div><div class=\"sk-serial\"><div class=\"sk-item\"><div class=\"sk-estimator sk-toggleable\"><input class=\"sk-toggleable__control sk-hidden--visually\" id=\"sk-estimator-id-9\" type=\"checkbox\" ><label for=\"sk-estimator-id-9\" class=\"sk-toggleable__label sk-toggleable__label-arrow\">RandomForestClassifier</label><div class=\"sk-toggleable__content\"><pre>RandomForestClassifier(criterion=&#x27;entropy&#x27;, max_features=None,\n",
              "                       min_samples_split=3, n_jobs=-1, oob_score=True,\n",
              "                       random_state=1)</pre></div></div></div></div></div></div><div class=\"sk-parallel-item\"><div class=\"sk-item\"><div class=\"sk-label-container\"><div class=\"sk-label sk-toggleable\"><label>xgb</label></div></div><div class=\"sk-serial\"><div class=\"sk-item\"><div class=\"sk-estimator sk-toggleable\"><input class=\"sk-toggleable__control sk-hidden--visually\" id=\"sk-estimator-id-10\" type=\"checkbox\" ><label for=\"sk-estimator-id-10\" class=\"sk-toggleable__label sk-toggleable__label-arrow\">XGBClassifier</label><div class=\"sk-toggleable__content\"><pre>XGBClassifier(base_score=None, booster=None, callbacks=None,\n",
              "              colsample_bylevel=None, colsample_bynode=None,\n",
              "              colsample_bytree=None, device=None, early_stopping_rounds=None,\n",
              "              enable_categorical=False, eval_metric=None, feature_types=None,\n",
              "              gamma=3.673469387755102, grow_policy=None, importance_type=None,\n",
              "              interaction_constraints=None, learning_rate=0.2285714285714286,\n",
              "              max_bin=None, max_cat_threshold=None, max_cat_to_onehot=None,\n",
              "              max_delta_step=None, max_depth=19, max_leaves=0,\n",
              "              min_child_weight=None, missing=nan, monotone_constraints=None,\n",
              "              multi_strategy=None, n_estimators=72, n_jobs=-1,\n",
              "              num_parallel_tree=None, random_state=1, ...)</pre></div></div></div></div></div></div></div></div><div class=\"sk-item\"><div class=\"sk-parallel\"><div class=\"sk-parallel-item\"><div class=\"sk-item\"><div class=\"sk-label-container\"><div class=\"sk-label sk-toggleable\"><label>final_estimator</label></div></div><div class=\"sk-serial\"><div class=\"sk-item\"><div class=\"sk-estimator sk-toggleable\"><input class=\"sk-toggleable__control sk-hidden--visually\" id=\"sk-estimator-id-11\" type=\"checkbox\" ><label for=\"sk-estimator-id-11\" class=\"sk-toggleable__label sk-toggleable__label-arrow\">LogisticRegressionCV</label><div class=\"sk-toggleable__content\"><pre>LogisticRegressionCV()</pre></div></div></div></div></div></div></div></div></div></div></div></div>"
            ],
            "text/plain": [
              "StackingClassifier(cv=KFold(n_splits=5, random_state=RandomState(MT19937) at 0x1FB91244F40,\n",
              "   shuffle=False),\n",
              "                   estimators=[('rf',\n",
              "                                RandomForestClassifier(criterion='entropy',\n",
              "                                                       max_features=None,\n",
              "                                                       min_samples_split=3,\n",
              "                                                       n_jobs=-1,\n",
              "                                                       oob_score=True,\n",
              "                                                       random_state=1)),\n",
              "                               ('xgb',\n",
              "                                XGBClassifier(base_score=None, booster=None,\n",
              "                                              callbacks=None,\n",
              "                                              colsample_bylevel=None,\n",
              "                                              colsample_bynode=N...\n",
              "                                              learning_rate=0.2285714285714286,\n",
              "                                              max_bin=None,\n",
              "                                              max_cat_threshold=None,\n",
              "                                              max_cat_to_onehot=None,\n",
              "                                              max_delta_step=None, max_depth=19,\n",
              "                                              max_leaves=0,\n",
              "                                              min_child_weight=None,\n",
              "                                              missing=nan,\n",
              "                                              monotone_constraints=None,\n",
              "                                              multi_strategy=None,\n",
              "                                              n_estimators=72, n_jobs=-1,\n",
              "                                              num_parallel_tree=None,\n",
              "                                              random_state=1, ...))],\n",
              "                   final_estimator=LogisticRegressionCV(), n_jobs=-1,\n",
              "                   passthrough=True, verbose=2)"
            ]
          },
          "execution_count": 31,
          "metadata": {},
          "output_type": "execute_result"
        }
      ],
      "source": [
        "stacking = StackingClassifier(estimators=modelos_base,\n",
        "                              final_estimator=meta_modelo,\n",
        "                              passthrough=True,\n",
        "                              cv=KFold(n_splits=5),\n",
        "                              n_jobs=-1,\n",
        "                              verbose=2)\n",
        "stacking.fit(X=x_train,\n",
        "             y=y_train)"
      ]
    },
    {
      "cell_type": "code",
      "execution_count": 32,
      "metadata": {
        "id": "yEesP5mybGRU"
      },
      "outputs": [],
      "source": [
        "y_pred_stacking = stacking.predict(x_test)"
      ]
    },
    {
      "cell_type": "code",
      "execution_count": 33,
      "metadata": {
        "id": "xXuN3jcgbR8e"
      },
      "outputs": [
        {
          "name": "stdout",
          "output_type": "stream",
          "text": [
            "Splits Seed:\t3\n",
            "Train/Test:\t\t80.0% / 20.0%\n",
            "-\n",
            "Accuracy:\t\t0.8840651616637725\n",
            "Recall:\t\t\t0.8839067340616338\n",
            "Precision:\t\t0.8870888561610211\n",
            "f1 score:\t\t0.8854949362953283\n",
            "\n",
            "\n",
            "              precision    recall  f1-score   support\n",
            "\n",
            "           0       0.88      0.88      0.88      5960\n",
            "           1       0.89      0.88      0.89      6133\n",
            "\n",
            "    accuracy                           0.88     12093\n",
            "   macro avg       0.88      0.88      0.88     12093\n",
            "weighted avg       0.88      0.88      0.88     12093\n",
            "\n"
          ]
        },
        {
          "data": {
            "image/png": "[encoded data removed]",
            "text/plain": [
              "<Figure size 640x480 with 2 Axes>"
            ]
          },
          "metadata": {},
          "output_type": "display_data"
        }
      ],
      "source": [
        "evaluar(y_test, y_pred_stacking,\n",
        "        seed_splits=semilla,\n",
        "        porcentaje_test=porcentaje_test,\n",
        "        titulo_matriz=\"Matriz de Confusión de Ensamble (Stacking)\")"
      ]
    },
    {
      "cell_type": "markdown",
      "metadata": {
        "id": "XYyQe8gfLLtw"
      },
      "source": [
        "<hr/>"
      ]
    },
    {
      "cell_type": "markdown",
      "metadata": {
        "id": "P4hrMs-lA8pQ"
      },
      "source": [
        "# **Exportando Predicciones**"
      ]
    },
    {
      "cell_type": "code",
      "execution_count": 34,
      "metadata": {
        "id": "-Qr66qWzSz9a"
      },
      "outputs": [],
      "source": [
        "def alinear_df_test(df_train: pd.DataFrame, df_test: pd.DataFrame,\n",
        "                    *,\n",
        "                    vacio: Union[int, float]=0\n",
        ") -> pd.DataFrame:\n",
        "    \"\"\"\n",
        "    Esta función hace dos cosas:\n",
        "        - Crea toda columna presente en 'df_train' (pero no en 'df_test') como una columna nueva\n",
        "          en 'df_test' y las rellena con el valor 'vacio'.\n",
        "        - Elimina toda columna que esté en 'df_test' pero no en 'df_train'.\n",
        "\n",
        "    Se presupone que ambos DataFrames vienen sólo con valores numéricos; normalmente fueron\n",
        "    convertidos a DataFrames con dummies.\n",
        "    -\n",
        "    'df_train': El DataFrame con el que se entrenó el modelo.\n",
        "\n",
        "    'df_test': El DataFrame con los datos a predecir.\n",
        "\n",
        "    'vacio': El valor con el que rellenar las columnas insertadas en 'df_test'. Normalmente es `0`,\n",
        "             pues es el valor que se usa en One Hot Encoding para designar que NO es esa variable.\n",
        "    \"\"\"\n",
        "\n",
        "    df_test_convertida = reducir_columnas(df_train, df_test)\n",
        "\n",
        "    for col in df_train.columns:\n",
        "        if col not in df_test.columns:\n",
        "            nueva_col = np.array([0] * df_test.shape[0]).reshape(-1, 1)\n",
        "            df_test_convertida[col] = nueva_col\n",
        "\n",
        "    return df_test_convertida[df_train.columns] # reordenar las columnas con el mismo orden"
      ]
    },
    {
      "cell_type": "code",
      "execution_count": 35,
      "metadata": {
        "id": "ffTo5gK_S__L"
      },
      "outputs": [],
      "source": [
        "def generar_predicciones(train_dummies: pd.DataFrame, df_test: pd.DataFrame,\n",
        "                         *,\n",
        "                         modelo,\n",
        "                         normalizar_splits: bool=False,\n",
        "                         escalador: Literal[\"std\", \"minmax\"]=\"std\") -> np.ndarray:\n",
        "    \"\"\"\n",
        "    Toma un dataset de entrenamiento pertinente, y el dataset de testeo, y genera las predicciones\n",
        "    para ese modelo.\n",
        "    -\n",
        "    'train_dummies': El dataset de entrenamiento, ya con sus dummies.\n",
        "\n",
        "    'df_test': El dataset de testeo.\n",
        "\n",
        "    'modelo': El modelo de predicción, ya entrenado.\n",
        "\n",
        "    'normalizar_splits': Los splits, donde sea posible, serán normalizados con un escalador.\n",
        "\n",
        "    'escalador': El escalador con el que normalizar los splits:\n",
        "                 - 'std' utiliza `sklearn.preprocessing.StandardScaler`.\n",
        "                 - 'minmax' utiliza `sklearn.preprocessing.MinMaxScaler`.\n",
        "    \"\"\"\n",
        "\n",
        "    if escalador not in (\"std\", \"minmax\"):\n",
        "        raise ValueError(f\"Argumento escalador='{escalador}' no válido. Debe ser 'std' o 'minmax'.\")\n",
        "\n",
        "    tests_dummies_desalineados = get_df_dummies(df_test).rename(columns=(lambda col : (col.removesuffix(\".0\") if col.endswith(\".0\") else col)))\n",
        "\n",
        "    test_dummies = alinear_df_test(train_dummies, tests_dummies_desalineados)\n",
        "    test_x, _ = split_in_axes(test_dummies)\n",
        "\n",
        "    if normalizar_splits:\n",
        "        if escalador == \"std\":\n",
        "            scaler = StandardScaler()\n",
        "        elif escalador == \"minmax\":\n",
        "            scaler = MinMaxScaler()\n",
        "\n",
        "        x_a_predecir = scaler.fit_transform(test_x)\n",
        "\n",
        "    else:\n",
        "        x_a_predecir = test_x\n",
        "\n",
        "    return modelo.predict(x_a_predecir)"
      ]
    },
    {
      "cell_type": "code",
      "execution_count": 36,
      "metadata": {
        "id": "ZeWZclZAA_b6"
      },
      "outputs": [],
      "source": [
        "def exportar_predicciones(df_test: pd.DataFrame, predicciones: np.ndarray,\n",
        "                          *,\n",
        "                          target: str=\"is_canceled\",\n",
        "                          nombre: \"PathLike\", # Más bien que se parezca a un nombre de archivo con extensión\n",
        "                          ruta: \"PathLike\"=\"./drive/MyDrive/Colab Notebooks/predictions\") -> None:\n",
        "    \"\"\"\n",
        "    Intenta guardar las predicciones en una ruta en Google Drive, para uso interno. Normalmente\n",
        "    como forma temporal para después subirlo a kaggle.\n",
        "    Se presupone que el drive ya fue montado junto con los imports.\n",
        "    -\n",
        "    'df_test': El DataFrame de los datos a predecir. De acá sacamos la columna 'id'.\n",
        "\n",
        "    'predicciones': Un `numpy.ndarray` (o lo que salga de `model.predict()`). Estos son los valores\n",
        "                    que han de llenar la columna del target.\n",
        "\n",
        "    'target': El nombre de la columna del target. A efectos de este TP1 siempre debería\n",
        "              ser `\"is_canceled\"`.\n",
        "\n",
        "    'nombre': El nombre del archivo en cuestión, de formato `.csv`. Ejemplo: `\"predicted1.csv\"`.\n",
        "\n",
        "    'ruta': Ruta del directorio en Drive donde el archivo será guardado.\n",
        "    \"\"\"\n",
        "\n",
        "    path = Path(ruta) / nombre\n",
        "    df_a_exportar = pd.DataFrame()\n",
        "\n",
        "    df_a_exportar[\"id\"] = df_test[\"id\"]\n",
        "    df_a_exportar[target] = predicciones.reshape(-1, 1)\n",
        "\n",
        "    df_a_exportar.to_csv(path, index=False)"
      ]
    }
  ],
  "metadata": {
    "colab": {
      "provenance": []
    },
    "kernelspec": {
      "display_name": "Python 3",
      "name": "python3"
    },
    "language_info": {
      "codemirror_mode": {
        "name": "ipython",
        "version": 3
      },
      "file_extension": ".py",
      "mimetype": "text/x-python",
      "name": "python",
      "nbconvert_exporter": "python",
      "pygments_lexer": "ipython3",
      "version": "3.12.0"
    }
  },
  "nbformat": 4,
  "nbformat_minor": 0
}
