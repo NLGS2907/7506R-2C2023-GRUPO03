{
  "cells": [
    {
      "cell_type": "markdown",
      "metadata": {
        "id": "cI0gMTtSTqaH"
      },
      "source": [
        "# Trabajo Práctico 1: Reservas de Hotel\n",
        "\n",
        "<hr width=\"50%\" align=\"left\"/>\n",
        "\n",
        "<br/>\n",
        "\n",
        "# Clasificación - Entrenamiento y Predicción\n",
        "## **Checkpoint 4 - \"Redes Neuronales\"**\n",
        "\n",
        "<br/>\n",
        "\n",
        "## **Grupo:** 03 - **_\"Hackers Panas\"_**\n",
        "\n",
        "<br/>\n",
        "\n",
        "## **Integrantes:**\n",
        "\n",
        "<p>\n",
        "<img align=\"left\" src=\"https://github.com/NLGS2907.png\" height=50 width=50 />\n",
        "\n",
        "### [Franco Lighterman Reismann](https://github.com/NLGS2907) (106714)\n",
        "<br/>\n",
        "</p>\n",
        "\n",
        "<p>\n",
        "<img align=\"left\" src=\"https://github.com/MarcosGN.png\" height=50 width=50 />\n",
        "\n",
        "### [Marcos García Neira](https://github.com/MarcosGN) (110363)\n",
        "<br/>\n",
        "</p>\n",
        "\n",
        "<p>\n",
        "<img align=\"left\" src=\"https://github.com/mmaddalena.png\" height=50 width=50 />\n",
        "\n",
        "### [Martín Andrés Madalena](https://github.com/mmaddalena) (107610)\n",
        "</p>\n",
        "\n",
        "<br/><br/><br/><br/>\n",
        "<hr/>"
      ]
    },
    {
      "cell_type": "markdown",
      "metadata": {
        "id": "AQrBJGdlzL1u"
      },
      "source": [
        "# **Instalaciones e _imports_ de librerías y otras dependencias.**"
      ]
    },
    {
      "cell_type": "code",
      "execution_count": 1,
      "metadata": {
        "id": "oFI3A0qBUz4J"
      },
      "outputs": [
        {
          "name": "stderr",
          "output_type": "stream",
          "text": [
            "UsageError: Line magic function `%%capture` not found.\n"
          ]
        }
      ],
      "source": [
        "# No queremos ver la salida de pip\n",
        "%%capture\n",
        "# ---------- #\n",
        "\n",
        "%pip install keras==2.12.0\n",
        "%pip uninstall tensorflow -y\n",
        "%pip install tensorflow==2.12.0"
      ]
    },
    {
      "cell_type": "code",
      "execution_count": 2,
      "metadata": {
        "id": "HCpfVhC2zPD1"
      },
      "outputs": [],
      "source": [
        "# Procesamiento de datos\n",
        "import numpy as np\n",
        "import pandas as pd\n",
        "\n",
        "# Herramientas de visualización\n",
        "import matplotlib.pyplot as plt\n",
        "import seaborn as sns\n",
        "\n",
        "# Tensorflow / Keras\n",
        "import tensorflow as tf\n",
        "from keras.wrappers.scikit_learn import KerasClassifier\n",
        "\n",
        "# sci-kit learn\n",
        "from sklearn.impute import SimpleImputer\n",
        "from sklearn.model_selection import train_test_split, KFold, StratifiedKFold, RandomizedSearchCV, GridSearchCV\n",
        "from sklearn.metrics import (precision_score, recall_score, accuracy_score, f1_score, make_scorer,\n",
        "                             confusion_matrix, classification_report)\n",
        "from sklearn.preprocessing import MinMaxScaler, OneHotEncoder, StandardScaler\n",
        "\n",
        "# type hinting\n",
        "from typing import Any, Literal, Optional, TYPE_CHECKING, Union\n",
        "if TYPE_CHECKING:\n",
        "    from os import PathLike\n",
        "\n",
        "# Otros\n",
        "from IPython.display import display # preferible a print()\n",
        "from pathlib import Path\n",
        "from warnings import simplefilter\n",
        "from google.colab import drive\n",
        "\n",
        "simplefilter(action=\"ignore\", category=FutureWarning)\n",
        "simplefilter(action=\"ignore\", category=UserWarning)"
      ]
    },
    {
      "cell_type": "code",
      "execution_count": 3,
      "metadata": {
        "colab": {
          "base_uri": "https://localhost:8080/"
        },
        "id": "3TeI9uZN8Lft",
        "outputId": "176d02c8-4aae-4412-8fe8-401ed372354d"
      },
      "outputs": [],
      "source": [
        "# Va en una celda aparte para que no trate de montarlo cada vez que hay incluir nuevas librerías\n",
        "drive.mount(\"/content/drive\")"
      ]
    },
    {
      "cell_type": "markdown",
      "metadata": {
        "id": "6lQqu6-hzMIB"
      },
      "source": [
        "<hr/>"
      ]
    },
    {
      "cell_type": "markdown",
      "metadata": {
        "id": "oE1ajKibzCf0"
      },
      "source": [
        "# **Preprocesamiento de Datos**"
      ]
    },
    {
      "cell_type": "markdown",
      "metadata": {
        "id": "IcrCaLouzFvb"
      },
      "source": [
        "Primero importamos los datasets:"
      ]
    },
    {
      "cell_type": "code",
      "execution_count": 4,
      "metadata": {
        "id": "1qisWnUnzHxe"
      },
      "outputs": [],
      "source": [
        "# train = pd.read_csv(\"../Datasets/hotels_train.csv\")\n",
        "# tests = pd.read_csv(\"../Datasets/hotels_test.csv\")\n",
        "train = pd.read_csv(\"https://raw.githubusercontent.com/NLGS2907/7506R-2C2023-GRUPO03/master/TPs/TP1/Datasets/hotels_train.csv\")\n",
        "tests = pd.read_csv(\"https://raw.githubusercontent.com/NLGS2907/7506R-2C2023-GRUPO03/master/TPs/TP1/Datasets/hotels_test.csv\")"
      ]
    },
    {
      "cell_type": "code",
      "execution_count": 5,
      "metadata": {
        "id": "aRda9h1r7doy"
      },
      "outputs": [],
      "source": [
        "# Variables de uso global\n",
        "variables_categoricas = [\"hotel\", \"arrival_date_month\", \"meal\", \"country\", \"market_segment\", \"distribution_channel\",\n",
        "                         \"is_repeated_guest\", \"reserved_room_type\", \"assigned_room_type\", \"deposit_type\", \"agent\",\n",
        "                         \"company\", \"customer_type\", \"is_canceled\"] # id no se deja a propósito\n",
        "variables_cuantitativas = [categoria for categoria in train.columns if categoria not in variables_categoricas + [\"id\"]]"
      ]
    },
    {
      "cell_type": "markdown",
      "metadata": {
        "id": "gc4RJjbCzaq1"
      },
      "source": [
        "Y aplicamos, una vez más, loss tratamientos pertinentes a los datasets:"
      ]
    },
    {
      "cell_type": "code",
      "execution_count": 6,
      "metadata": {
        "id": "Kh9tHYw4zd4L"
      },
      "outputs": [],
      "source": [
        "def tratamiento_train(df: pd.DataFrame,\n",
        "                      *,\n",
        "                      borrar_filas: bool=True,\n",
        "                      borrar_columnas: bool=True,\n",
        "                      imputaciones: bool=True) -> pd.DataFrame:\n",
        "    \"\"\"\n",
        "    Realiza en forma rápida un resumen de todos los tratamientos explicados en el checkpoint 1\n",
        "    a un DataFrame. Devuelve una copia sin afectar el original.\n",
        "    -\n",
        "    'borrar_filas': Si realizar los trabajos que borran filas o no.\n",
        "\n",
        "    'borrar_columnas': Si realizar los trabajos que borran columnas o no.\n",
        "\n",
        "    'imputaciones': Si realizar trabajos de imputaciones con el valor más frecuente.\n",
        "    \"\"\"\n",
        "\n",
        "    df_copia = df.copy()\n",
        "\n",
        "    # Eliminación de registros incompletos\n",
        "    if borrar_columnas:\n",
        "        df_copia = df_copia.drop(columns=[\"company\"])\n",
        "\n",
        "    if borrar_filas:\n",
        "        df_copia = df_copia.dropna(axis=\"index\", subset=[\"children\", \"country\"])\n",
        "    # ------------------------------ #\n",
        "\n",
        "    # Imputación simple de datos\n",
        "    if imputaciones:\n",
        "        columnas_con_nulos = df.columns[df.isna().any()].tolist()\n",
        "        imputador = SimpleImputer(missing_values=np.nan, strategy=\"most_frequent\")\n",
        "        datos_imputados = imputador.fit_transform(df_copia)\n",
        "        df_imp = pd.DataFrame(data=datos_imputados,\n",
        "                            index=df_copia.index,\n",
        "                            columns=df_copia.columns)\n",
        "        for col in columnas_con_nulos:\n",
        "            if col in df_copia.columns: # que no llore si ya fue borrado\n",
        "                df_copia[col] = df_imp[col]\n",
        "        df_copia.reset_index(drop=True) # para hacer coincidir de nuevo los números del índice\n",
        "    # ------------------------------ #\n",
        "\n",
        "    # Creación de columnas personalizadas\n",
        "    if \"people\" not in df_copia.columns:\n",
        "        df_copia.insert(11, \"people\", (df_copia[\"adults\"] + df_copia[\"children\"] + df_copia[\"babies\"]).astype(int))\n",
        "    # ------------------------------ #\n",
        "\n",
        "    # Conversión a enteros de columnas pertinentes\n",
        "    for categoria in [\"children\", \"agent\"]:\n",
        "        df_copia[categoria] = df_copia[categoria].astype(int)\n",
        "    # ------------------------------ #\n",
        "\n",
        "    # Valores Atípicos\n",
        "    if borrar_filas:\n",
        "        if df_copia[\"adr\"][df_copia[\"adr\"] <= 0].count() != 0:\n",
        "            df_copia.drop(df_copia[df_copia[\"adr\"] <= 0].index, inplace=True)\n",
        "\n",
        "        if df_copia[\"adults\"][df_copia[\"adults\"] == 0].count() != 0:\n",
        "            df_copia.drop(df_copia[df_copia[\"adults\"] == 0].index, inplace=True)\n",
        "\n",
        "        if df_copia[\"people\"][df_copia[\"people\"] > 5].count() != 0:\n",
        "            df_copia.drop(df_copia[df_copia[\"people\"] > 5].index, inplace=True)\n",
        "\n",
        "        if df_copia[(df_copia[\"is_repeated_guest\"] == 0) &\n",
        "                    (df_copia[\"previous_bookings_not_canceled\"] != 0)].shape[0] != 0:\n",
        "            df_copia.drop(df_copia[(df_copia[\"is_repeated_guest\"] == 0) &\n",
        "                                   (df_copia[\"previous_bookings_not_canceled\"] != 0)].index, inplace=True)\n",
        "    # ------------------------------ #\n",
        "\n",
        "    return df_copia"
      ]
    },
    {
      "cell_type": "code",
      "execution_count": 7,
      "metadata": {
        "id": "rwkvfZkr0BoK"
      },
      "outputs": [],
      "source": [
        "def reducir_columnas(df_reductor: pd.DataFrame, df_a_reducir: pd.DataFrame) -> pd.DataFrame:\n",
        "    \"\"\"\n",
        "    Quita todas las columnas de 'df_a_reducir' que no estén presentes en 'df_reductor'.\n",
        "    \"\"\"\n",
        "\n",
        "    categorias = df_a_reducir.columns.to_list() # hacemos una copia de la lista para no mutar mientras recorremos\n",
        "    df_reducido = df_a_reducir.copy()\n",
        "\n",
        "    for categoria in categorias:\n",
        "        if categoria not in df_reductor.columns:\n",
        "            df_reducido.drop(categoria, axis=\"columns\", inplace=True)\n",
        "\n",
        "    return df_reducido"
      ]
    },
    {
      "cell_type": "code",
      "execution_count": 8,
      "metadata": {
        "id": "iVu7IpvKzesb"
      },
      "outputs": [],
      "source": [
        "df_chp4 = tratamiento_train(train)\n",
        "df_tests = reducir_columnas(df_chp4, tests)"
      ]
    },
    {
      "cell_type": "markdown",
      "metadata": {
        "id": "XOYhqLxc64ga"
      },
      "source": [
        "<hr/>"
      ]
    },
    {
      "cell_type": "markdown",
      "metadata": {
        "id": "I_8q6yff7Agk"
      },
      "source": [
        "# **Creación de _Splits_**"
      ]
    },
    {
      "cell_type": "code",
      "execution_count": 9,
      "metadata": {
        "id": "WVvvr3Sv7Fok"
      },
      "outputs": [],
      "source": [
        "def get_df_dummies(df: pd.DataFrame,\n",
        "                   *,\n",
        "                   variables_indeseadas: tuple[str, ...]=(\"company\", \"id\", \"is_canceled\"),\n",
        "                   metodo: Literal[\"ohe\", \"pd\"]=\"ohe\"\n",
        ") -> pd.DataFrame:\n",
        "    \"\"\"\n",
        "    Consigue una versión con dummies de un Dataframe, con reglas personalizadas.\n",
        "    -\n",
        "    'df': El DataFrame sobre el cual trabajar.\n",
        "\n",
        "    'variables_indeseadas': Variables categóricas, pero que igual no deberían tenerse en cuenta\n",
        "                            para el cálculo.\n",
        "\n",
        "    'metodo': El método para generar los dummies:\n",
        "                - 'ohe' utiliza `sklearn.preprocessing.OneHotEncoder()`\n",
        "                - 'pd' utiliza `pandas.get_dummies()`\n",
        "    \"\"\"\n",
        "\n",
        "    if metodo not in (\"ohe\", \"pd\"):\n",
        "        raise ValueError(f\"Argumento metodo='{metodo}' no válido. Debe ser 'ohe' o 'pd'.\")\n",
        "\n",
        "    categorias = variables_categoricas.copy()\n",
        "    for var in variables_indeseadas:\n",
        "        if var in categorias:\n",
        "            categorias.remove(var)\n",
        "\n",
        "    if metodo == \"ohe\":\n",
        "        ohe = OneHotEncoder(sparse_output=False, dtype=int).set_output(transform=\"pandas\")\n",
        "        return pd.concat([df.drop(categorias, axis=\"columns\"), # df sólo con las cuantitativas\n",
        "                          ohe.fit_transform(df[categorias])], # df con las cualitativas dummies\n",
        "                         axis=\"columns\")\n",
        "    elif metodo == \"pd\":\n",
        "        return pd.get_dummies(df, columns=categorias)"
      ]
    },
    {
      "cell_type": "code",
      "execution_count": 10,
      "metadata": {
        "id": "4PSxWr--7NhL"
      },
      "outputs": [],
      "source": [
        "def split_in_axes(df: pd.DataFrame,\n",
        "                  *,\n",
        "                  x_innecesarias: tuple[str, ...]=(\"id\", \"is_canceled\"),\n",
        "                  target: Optional[str]=None\n",
        ") -> pd.DataFrame:\n",
        "    \"\"\"\n",
        "    Devuelve los ejes a entrenar/testear de un DataFrame.\n",
        "    -\n",
        "    'x_innecesarias': Qué columnas no incluir en el split del eje X.\n",
        "\n",
        "    'target': La variable objetivo que terminará en el split del eje Y.\n",
        "              El target también es eliminado, si se puede, del split del eje X.\n",
        "    \"\"\"\n",
        "\n",
        "    if target is not None and target not in x_innecesarias:\n",
        "        x_innecesarias.append(target)\n",
        "\n",
        "    df_x = df.copy()\n",
        "    for indeseada in x_innecesarias:\n",
        "        if indeseada in df.columns:\n",
        "            df_x = df_x.drop(indeseada, axis=\"columns\", inplace=False)\n",
        "\n",
        "    df_y = (None if target is None else df[target].copy())\n",
        "\n",
        "    return df_x, df_y"
      ]
    },
    {
      "cell_type": "markdown",
      "metadata": {
        "id": "GRTTfGwJC7-U"
      },
      "source": [
        "Hacemos la función para optimizar hiperparámetros mediante _Cross Validation_:"
      ]
    },
    {
      "cell_type": "code",
      "execution_count": 11,
      "metadata": {
        "id": "nEWhVHW-DCMq"
      },
      "outputs": [],
      "source": [
        "def buscar_por_cv(*,\n",
        "                  metodo: Literal[\"random\", \"grid\"]=\"grid\",\n",
        "                  clasificador,\n",
        "                  params_cv: dict[str, Any],\n",
        "                  puntaje: Literal[\"accuracy\", \"recall\", \"precision\", \"f1\"]=\"f1\",\n",
        "\n",
        "                  rand_comb: int=10,\n",
        "                  folds: int=10,\n",
        "                  kfold_estratificado: bool=True,\n",
        "                  seed: Optional[int]=None) -> Union[RandomizedSearchCV, GridSearchCV]:\n",
        "    \"\"\"\n",
        "    Realiza cross validation con parámetros dados.\n",
        "    -\n",
        "    'metodo': Con qué metodo realizar el trabajo:\n",
        "              - 'random' es para utilizar `sklearn.model_selection.RandomizedSearchCV`\n",
        "              - 'grid' es para utilizar `sklearn.model_selection.GridSearchCV`\n",
        "\n",
        "    'clasificador': Un objeto estimador, ya inicializado: un árbol de decisión,\n",
        "                    un clasificador KNN, etc.\n",
        "\n",
        "    'params_cv': El diccionario de parámetros a probar en cada intento. Se asume que son compatibles\n",
        "                 con el clasificador pasado.\n",
        "\n",
        "    'puntaje': Método de puntaje:\n",
        "               - 'accuracy' utiliza el Accuracy Score.\n",
        "               - 'recall' utiliza el Recall Score.\n",
        "               - 'precision' utiliza el Precision Score.\n",
        "               - 'f1' utiliza el F1-Score.\n",
        "\n",
        "    'rand_comb': Cantidad de combinaciones a probar si se elige el método 'random'.\n",
        "\n",
        "    'folds': Cantidad de folds a usar en el KFold.\n",
        "\n",
        "    'kfold_estratificado': Si utilizar `sklearn.model_selection.StratifiedKFold` o\n",
        "                           `sklearn.model_selection.KFold`.\n",
        "\n",
        "    'seed': La semilla para resultados determinísticos. Se usa sólo en el `RandomSearchCV()`.\n",
        "            Si se desea una semilla para el clasificador, debe incluirse en 'params_cv'.\n",
        "    \"\"\"\n",
        "\n",
        "    if metodo not in (\"random\", \"grid\"):\n",
        "        raise ValueError(f\"Argumento metodo='{metodo}' no válido. Debe ser 'random' o 'grid'.\")\n",
        "\n",
        "    if puntaje not in (\"accuracy\", \"recall\", \"precision\", \"f1\"):\n",
        "        raise ValueError(f\"Argumento puntaje={puntaje} no válido, debe de ser 'accuracy', \"\n",
        "                         f\"'recall', 'precision' o 'f1'.\")\n",
        "\n",
        "    # Kfold estratificado\n",
        "    if kfold_estratificado:\n",
        "        kfoldcv = StratifiedKFold(n_splits=folds)\n",
        "    else:\n",
        "        kfoldcv = KFold(n_splits=folds)\n",
        "\n",
        "    # metricas\n",
        "    posibles_metricas = {\n",
        "        \"accuracy\": accuracy_score,\n",
        "        \"recall\": recall_score,\n",
        "        \"precision\": precision_score,\n",
        "        \"f1\": f1_score\n",
        "    }\n",
        "    scorer_fn = make_scorer(posibles_metricas[puntaje])\n",
        "\n",
        "    if metodo == \"random\": # Random Search Cross Validation\n",
        "        return RandomizedSearchCV(estimator=clasificador,\n",
        "                                  param_distributions=params_cv,\n",
        "                                  scoring=scorer_fn,\n",
        "                                  cv=kfoldcv,\n",
        "                                  n_iter=rand_comb,\n",
        "                                  n_jobs=-1,\n",
        "                                  random_state=seed)\n",
        "\n",
        "    if metodo == \"grid\": # Grid Search Cross Validation\n",
        "        return GridSearchCV(estimator=clasificador,\n",
        "                            param_grid=params_cv,\n",
        "                            scoring=scorer_fn,\n",
        "                            cv=kfoldcv,\n",
        "                            n_jobs=-1,\n",
        "                            return_train_score=True)"
      ]
    },
    {
      "cell_type": "markdown",
      "metadata": {
        "id": "KeKmGkuu91Sj"
      },
      "source": [
        "Y una función extra para mostrar las evaluaciones:"
      ]
    },
    {
      "cell_type": "code",
      "execution_count": 12,
      "metadata": {
        "id": "Wr7Kyr8w936M"
      },
      "outputs": [],
      "source": [
        "def evaluar(y_test: np.ndarray,\n",
        "            y_pred: np.ndarray,\n",
        "            *,\n",
        "            seed_splits: Optional[int]=None,\n",
        "            seed_modelo: Optional[int]=None,\n",
        "            porcentaje_test: Optional[float]=None,\n",
        "            mostrar_matriz: bool=True,\n",
        "            titulo_matriz: Optional[str]=None) -> None:\n",
        "    \"\"\"\n",
        "    Muestra los resultados de la performance en distintas métricas\n",
        "    y además también la matriz de confunsión.\n",
        "    -\n",
        "    'y_test': La colección de datos a testear.\n",
        "\n",
        "    'y_pred': La colección de predicciones a comparar con los datos de 'y_test'.\n",
        "\n",
        "    'seed_splits'/'seed_modelo': Las semillas de generación pseudo-aleatoria para los splits\n",
        "                                 train/tests y para el clasificador respectivamente.\n",
        "\n",
        "    'porcentaje_test': Un float de `0.0` a `1.0`. Usado para calcular los splits de train/test.\n",
        "\n",
        "    'mostrar_matriz': Si mostrar o no la matriz de confusión.\n",
        "\n",
        "    'titulo_matriz': Si se dibuja la matriz, el título que aparecerá.\n",
        "    \"\"\"\n",
        "\n",
        "    meta_info = []\n",
        "\n",
        "    if seed_splits is not None:\n",
        "        meta_info.append(f\"Splits Seed:\\t{seed_splits}\")\n",
        "\n",
        "    if seed_modelo is not None:\n",
        "        meta_info.append(f\"Model Seed:\\t\\t{seed_modelo}\")\n",
        "\n",
        "    if porcentaje_test is not None:\n",
        "        meta_info.append(f\"Train/Test:\\t\\t{100 - (porcentaje_test * 100)}% / \"\n",
        "                         f\"{porcentaje_test * 100}%\")\n",
        "\n",
        "    if meta_info:\n",
        "        meta_str = \"\\n\".join(meta_info)\n",
        "        print(f\"{meta_str}\\n-\")\n",
        "\n",
        "    print(f\"Accuracy:\\t\\t{accuracy_score(y_test, y_pred)}\\n\"\n",
        "          f\"Recall:\\t\\t\\t{recall_score(y_test, y_pred)}\\n\"\n",
        "          f\"Precision:\\t\\t{precision_score(y_test, y_pred)}\\n\"\n",
        "          f\"f1 score:\\t\\t{f1_score(y_test, y_pred)}\\n\\n\")\n",
        "\n",
        "    print(classification_report(y_test, y_pred))\n",
        "\n",
        "    if mostrar_matriz:\n",
        "        matriz_conf = confusion_matrix(y_test, y_pred)\n",
        "\n",
        "        ax = sns.heatmap(matriz_conf, cmap=\"GnBu\", annot=True, fmt=\"g\")\n",
        "        ax.set_xlabel(\"Predicted\")\n",
        "        ax.set_ylabel(\"True\")\n",
        "\n",
        "        plt.title((titulo_matriz if titulo_matriz is not None else \"Matriz de Confusión\"))\n",
        "        plt.show()"
      ]
    },
    {
      "cell_type": "markdown",
      "metadata": {
        "id": "LOiwljxe94eX"
      },
      "source": [
        "<hr width=\"30%\" align=\"left\" />"
      ]
    },
    {
      "cell_type": "code",
      "execution_count": 13,
      "metadata": {
        "id": "Hs9mG5m17RYi"
      },
      "outputs": [],
      "source": [
        "train_dummies = get_df_dummies(df_chp4)\n",
        "train_dummies_x, train_dummies_y = split_in_axes(train_dummies, target=\"is_canceled\")\n",
        "\n",
        "semilla = 3\n",
        "porcentaje_test = 0.2\n",
        "\n",
        "sc = StandardScaler()\n",
        "x_train, x_test, y_train, y_test = train_test_split(train_dummies_x,\n",
        "                                                    train_dummies_y,\n",
        "                                                    test_size=porcentaje_test,\n",
        "                                                    stratify=train_dummies_y, # Acá en el Checkpoint 3 ya es importante estratificar\n",
        "                                                    random_state=semilla)\n",
        "\n",
        "x_train_norm = sc.fit_transform(x_train)\n",
        "x_test_norm = sc.transform(x_test)"
      ]
    },
    {
      "cell_type": "markdown",
      "metadata": {
        "id": "96-dWXzQk_zT"
      },
      "source": [
        "<hr/>"
      ]
    },
    {
      "cell_type": "markdown",
      "metadata": {
        "id": "Dwmr0QchlBqt"
      },
      "source": [
        "# **Creación de Redes**"
      ]
    },
    {
      "cell_type": "markdown",
      "metadata": {
        "id": "J7tL1dEflICT"
      },
      "source": [
        "Es acá que creamos las redes neuronales.\n",
        "Las métricas de puntaje, tal cual fueron explicadas con anterioridad, son las siguientes:\n",
        "\n",
        "* **Accuracy:** La cantidad de **positivos y negativos predichos correctamente**, sobre el total de todos los datos. $\\frac{TP + TN}{TP + TN + FP + FN}$\n",
        "* **Recall:** La cantidad de **positivos predichos correctamente**, sobre todos los que _deberían ser positivos_ (los positivos correctamente predichos más los negativos mal predichos). $\\frac{TP}{TP + FN}$\n",
        "* **Precision:** La cantidad de **positivos predichos correctamente**, sobre todos los positivos (tanto los correctos como los mal predichos). $\\frac{TP}{TP + FP}$\n",
        "* **F1 Score:** Esta métrica se calcula con la media armónica de _Recall_ y _Precision_, por lo que ayuda a representar a ambas en una sola métrica. $\\frac{2 \\times Precision \\times Recall}{Precision + Recall}$"
      ]
    },
    {
      "cell_type": "markdown",
      "metadata": {
        "id": "hvMJI6cXlLBE"
      },
      "source": [
        "<hr width=\"30%\" align=\"left\" />"
      ]
    },
    {
      "cell_type": "code",
      "execution_count": 14,
      "metadata": {
        "id": "cWA-BFrnnPCW"
      },
      "outputs": [],
      "source": [
        "def crear_red():\n",
        "    \"\"\"\n",
        "    Crea y compila un red neuronal para ser usada más adelante.\n",
        "    \"\"\"\n",
        "\n",
        "    d_in = len(x_train.columns)\n",
        "\n",
        "    red = tf.keras.Sequential([\n",
        "            tf.keras.layers.Dense(1000, input_dim=d_in, activation=\"relu\"),\n",
        "            tf.keras.layers.Dense(100, activation=\"relu\"),\n",
        "            tf.keras.layers.Dense(50, activation=\"sigmoid\"),\n",
        "            tf.keras.layers.Dense(1, activation=\"sigmoid\")\n",
        "        ]\n",
        "    )\n",
        "\n",
        "    red.compile(\n",
        "        optimizer=tf.keras.optimizers.Adagrad(learning_rate=0.001),\n",
        "        loss=\"binary_crossentropy\",\n",
        "        metrics=[\"AUC\"],\n",
        "    )\n",
        "\n",
        "    return red"
      ]
    },
    {
      "cell_type": "markdown",
      "metadata": {
        "id": "cJYxzxkNoKGe"
      },
      "source": [
        "Luego, a entrenarlo y generar predicciones:"
      ]
    },
    {
      "cell_type": "code",
      "execution_count": 15,
      "metadata": {
        "colab": {
          "base_uri": "https://localhost:8080/"
        },
        "id": "vfPKz3O_m2rF",
        "outputId": "fb46e8ba-670b-4912-c719-78ce5962687b"
      },
      "outputs": [
        {
          "name": "stdout",
          "output_type": "stream",
          "text": [
            "Model: \"sequential\"\n",
            "_________________________________________________________________\n",
            " Layer (type)                Output Shape              Param #   \n",
            "=================================================================\n",
            " dense (Dense)               (None, 1000)              519000    \n",
            "                                                                 \n",
            " dense_1 (Dense)             (None, 100)               100100    \n",
            "                                                                 \n",
            " dense_2 (Dense)             (None, 50)                5050      \n",
            "                                                                 \n",
            " dense_3 (Dense)             (None, 1)                 51        \n",
            "                                                                 \n",
            "=================================================================\n",
            "Total params: 624,201\n",
            "Trainable params: 624,201\n",
            "Non-trainable params: 0\n",
            "_________________________________________________________________\n"
          ]
        },
        {
          "data": {
            "text/plain": [
              "<keras.callbacks.History at 0x2543790aa50>"
            ]
          },
          "execution_count": 15,
          "metadata": {},
          "output_type": "execute_result"
        }
      ],
      "source": [
        "# # ----- Buscado por CV -----\n",
        "# parametros_cv_red = {\n",
        "#     \"epochs\": np.arange(90, 170),\n",
        "#     \"batch_size\": np.arange(10, 60),\n",
        "#     \"verbose\": [False]\n",
        "# }\n",
        "# cv_red = buscar_por_cv(metodo=\"random\",\n",
        "#                        clasificador=KerasClassifier(build_fn=crear_red),\n",
        "#                        params_cv=parametros_cv_red,\n",
        "#                        puntaje=\"f1\",\n",
        "#                        rand_comb=10,\n",
        "#                        folds=10,\n",
        "#                        kfold_estratificado=True,\n",
        "#                        seed=semilla)\n",
        "# cv_red.fit(X=x_train, y=y_train)\n",
        "\n",
        "# print(f\"{cv_red.best_params_}\\n\"\n",
        "#       f\"{cv_red.best_score_}\")\n",
        "# red = cv_red.best_estimator_\n",
        "# # --------------------------\n",
        "\n",
        "# ----- Creado Manualmente -----\n",
        "red = crear_red()\n",
        "red.summary()\n",
        "red.fit(x_train_norm, y_train,\n",
        "        epochs=500, batch_size=100, verbose=False)\n",
        "# ------------------------------"
      ]
    },
    {
      "cell_type": "code",
      "execution_count": 16,
      "metadata": {
        "id": "e4cnlz3zoNyw"
      },
      "outputs": [
        {
          "name": "stdout",
          "output_type": "stream",
          "text": [
            "378/378 [==============================] - 1s 3ms/step\n"
          ]
        }
      ],
      "source": [
        "y_pred_red = red.predict(x_test_norm)\n",
        "y_pred_red_round = np.round(y_pred_red).astype(int)"
      ]
    },
    {
      "cell_type": "markdown",
      "metadata": {
        "id": "xjDkSIJnwux6"
      },
      "source": [
        "Finalmente, evaluamos la red neuronal que entrenamos:"
      ]
    },
    {
      "cell_type": "code",
      "execution_count": 17,
      "metadata": {
        "id": "ZoW0sQ4rwyMi"
      },
      "outputs": [
        {
          "name": "stdout",
          "output_type": "stream",
          "text": [
            "Splits Seed:\t3\n",
            "Train/Test:\t\t80.0% / 20.0%\n",
            "-\n",
            "Accuracy:\t\t0.857272802447697\n",
            "Recall:\t\t\t0.8623838252078917\n",
            "Precision:\t\t0.8570734078755469\n",
            "f1 score:\t\t0.8597204161248374\n",
            "\n",
            "\n",
            "              precision    recall  f1-score   support\n",
            "\n",
            "           0       0.86      0.85      0.85      5960\n",
            "           1       0.86      0.86      0.86      6133\n",
            "\n",
            "    accuracy                           0.86     12093\n",
            "   macro avg       0.86      0.86      0.86     12093\n",
            "weighted avg       0.86      0.86      0.86     12093\n",
            "\n"
          ]
        },
        {
          "data": {
            "image/png": "[encoded data removed]",
            "text/plain": [
              "<Figure size 640x480 with 2 Axes>"
            ]
          },
          "metadata": {},
          "output_type": "display_data"
        }
      ],
      "source": [
        "evaluar(y_test, y_pred_red_round,\n",
        "        seed_splits=semilla,\n",
        "        porcentaje_test=porcentaje_test,\n",
        "        titulo_matriz=\"Matriz de Confusión de Red Neuronal\")"
      ]
    },
    {
      "cell_type": "markdown",
      "metadata": {
        "id": "XYyQe8gfLLtw"
      },
      "source": [
        "<hr/>"
      ]
    },
    {
      "cell_type": "markdown",
      "metadata": {
        "id": "P4hrMs-lA8pQ"
      },
      "source": [
        "# **Exportando Predicciones**"
      ]
    },
    {
      "cell_type": "code",
      "execution_count": 18,
      "metadata": {
        "id": "-Qr66qWzSz9a"
      },
      "outputs": [],
      "source": [
        "def alinear_df_test(df_train: pd.DataFrame, df_test: pd.DataFrame,\n",
        "                    *,\n",
        "                    vacio: Union[int, float]=0\n",
        ") -> pd.DataFrame:\n",
        "    \"\"\"\n",
        "    Esta función hace dos cosas:\n",
        "        - Crea toda columna presente en 'df_train' (pero no en 'df_test') como una columna nueva\n",
        "          en 'df_test' y las rellena con el valor 'vacio'.\n",
        "        - Elimina toda columna que esté en 'df_test' pero no en 'df_train'.\n",
        "\n",
        "    Se presupone que ambos DataFrames vienen sólo con valores numéricos; normalmente fueron\n",
        "    convertidos a DataFrames con dummies.\n",
        "    -\n",
        "    'df_train': El DataFrame con el que se entrenó el modelo.\n",
        "\n",
        "    'df_test': El DataFrame con los datos a predecir.\n",
        "\n",
        "    'vacio': El valor con el que rellenar las columnas insertadas en 'df_test'. Normalmente es `0`,\n",
        "             pues es el valor que se usa en One Hot Encoding para designar que NO es esa variable.\n",
        "    \"\"\"\n",
        "\n",
        "    df_test_convertida = reducir_columnas(df_train, df_test)\n",
        "\n",
        "    for col in df_train.columns:\n",
        "        if col not in df_test.columns:\n",
        "            nueva_col = np.array([0] * df_test.shape[0]).reshape(-1, 1)\n",
        "            df_test_convertida[col] = nueva_col\n",
        "\n",
        "    return df_test_convertida[df_train.columns] # reordenar las columnas con el mismo orden"
      ]
    },
    {
      "cell_type": "code",
      "execution_count": 19,
      "metadata": {
        "id": "ffTo5gK_S__L"
      },
      "outputs": [],
      "source": [
        "def generar_predicciones(train_dummies: pd.DataFrame, df_test: pd.DataFrame,\n",
        "                         *,\n",
        "                         modelo,\n",
        "                         normalizar_splits: bool=False,\n",
        "                         escalador: Literal[\"std\", \"minmax\"]=\"std\") -> np.ndarray:\n",
        "    \"\"\"\n",
        "    Toma un dataset de entrenamiento pertinente, y el dataset de testeo, y genera las predicciones\n",
        "    para ese modelo.\n",
        "    -\n",
        "    'train_dummies': El dataset de entrenamiento, ya con sus dummies.\n",
        "\n",
        "    'df_test': El dataset de testeo.\n",
        "\n",
        "    'modelo': El modelo de predicción, ya entrenado.\n",
        "\n",
        "    'normalizar_splits': Los splits, donde sea posible, serán normalizados con un escalador.\n",
        "\n",
        "    'escalador': El escalador con el que normalizar los splits:\n",
        "                 - 'std' utiliza `sklearn.preprocessing.StandardScaler`.\n",
        "                 - 'minmax' utiliza `sklearn.preprocessing.MinMaxScaler`.\n",
        "    \"\"\"\n",
        "\n",
        "    if escalador not in (\"std\", \"minmax\"):\n",
        "        raise ValueError(f\"Argumento escalador='{escalador}' no válido. Debe ser 'std' o 'minmax'.\")\n",
        "\n",
        "    tests_dummies_desalineados = get_df_dummies(df_test).rename(columns=(lambda col : (col.removesuffix(\".0\") if col.endswith(\".0\") else col)))\n",
        "\n",
        "    test_dummies = alinear_df_test(train_dummies, tests_dummies_desalineados)\n",
        "    test_x, _ = split_in_axes(test_dummies)\n",
        "\n",
        "    if normalizar_splits:\n",
        "        if escalador == \"std\":\n",
        "            scaler = StandardScaler()\n",
        "        elif escalador == \"minmax\":\n",
        "            scaler = MinMaxScaler()\n",
        "\n",
        "        x_a_predecir = scaler.fit_transform(test_x)\n",
        "\n",
        "    else:\n",
        "        x_a_predecir = test_x\n",
        "\n",
        "    return modelo.predict(x_a_predecir)"
      ]
    },
    {
      "cell_type": "code",
      "execution_count": 20,
      "metadata": {
        "id": "ZeWZclZAA_b6"
      },
      "outputs": [],
      "source": [
        "def exportar_predicciones(df_test: pd.DataFrame, predicciones: np.ndarray,\n",
        "                          *,\n",
        "                          target: str=\"is_canceled\",\n",
        "                          nombre: \"PathLike\", # Más bien que se parezca a un nombre de archivo con extensión\n",
        "                          ruta: \"PathLike\"=\"./drive/MyDrive/Colab Notebooks/predictions\") -> None:\n",
        "    \"\"\"\n",
        "    Intenta guardar las predicciones en una ruta en Google Drive, para uso interno. Normalmente\n",
        "    como forma temporal para después subirlo a kaggle.\n",
        "    Se presupone que el drive ya fue montado junto con los imports.\n",
        "    -\n",
        "    'df_test': El DataFrame de los datos a predecir. De acá sacamos la columna 'id'.\n",
        "\n",
        "    'predicciones': Un `numpy.ndarray` (o lo que salga de `model.predict()`). Estos son los valores\n",
        "                    que han de llenar la columna del target.\n",
        "\n",
        "    'target': El nombre de la columna del target. A efectos de este TP1 siempre debería\n",
        "              ser `\"is_canceled\"`.\n",
        "\n",
        "    'nombre': El nombre del archivo en cuestión, de formato `.csv`. Ejemplo: `\"predicted1.csv\"`.\n",
        "\n",
        "    'ruta': Ruta del directorio en Drive donde el archivo será guardado.\n",
        "    \"\"\"\n",
        "\n",
        "    path = Path(ruta) / nombre\n",
        "    df_a_exportar = pd.DataFrame()\n",
        "\n",
        "    df_a_exportar[\"id\"] = df_test[\"id\"]\n",
        "    df_a_exportar[target] = predicciones.reshape(-1, 1)\n",
        "\n",
        "    df_a_exportar.to_csv(path, index=False)"
      ]
    },
    {
      "cell_type": "code",
      "execution_count": 21,
      "metadata": {
        "id": "5l-FZ4E_z3-i"
      },
      "outputs": [
        {
          "name": "stdout",
          "output_type": "stream",
          "text": [
            "830/830 [==============================] - 3s 3ms/step\n"
          ]
        }
      ],
      "source": [
        "predicciones = np.round(generar_predicciones(train_dummies, tests, modelo=red,\n",
        "                                             normalizar_splits=True, escalador=\"std\")).astype(int)\n",
        "# exportar_predicciones(tests, predicciones,\n",
        "#                       nombre=\"predicciones_rn.csv\")"
      ]
    }
  ],
  "metadata": {
    "colab": {
      "provenance": []
    },
    "kernelspec": {
      "display_name": "Python 3",
      "name": "python3"
    },
    "language_info": {
      "codemirror_mode": {
        "name": "ipython",
        "version": 3
      },
      "file_extension": ".py",
      "mimetype": "text/x-python",
      "name": "python",
      "nbconvert_exporter": "python",
      "pygments_lexer": "ipython3",
      "version": "3.11.6"
    }
  },
  "nbformat": 4,
  "nbformat_minor": 0
}
