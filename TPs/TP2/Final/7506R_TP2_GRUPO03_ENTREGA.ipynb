{
  "cells": [
    {
      "cell_type": "markdown",
      "metadata": {
        "id": "Q8NSVPzjh3c-"
      },
      "source": [
        "# Trabajo Práctico 2: Críticas cinematográficas\n",
        "\n",
        "<hr width=\"50%\" align=\"left\"/>\n",
        "\n",
        "<br/>\n",
        "\n",
        "## **Grupo:** 03 - **_\"Hackers Panas\"_**\n",
        "\n",
        "<br/>\n",
        "\n",
        "## **Integrantes:**\n",
        "\n",
        "<p>\n",
        "<img align=\"left\" src=\"https://github.com/NLGS2907.png\" height=50 width=50 />\n",
        "\n",
        "### [Franco Lighterman Reismann](https://github.com/NLGS2907) (106714)\n",
        "<br/>\n",
        "</p>\n",
        "\n",
        "<p>\n",
        "<img align=\"left\" src=\"https://github.com/MarcosGN.png\" height=50 width=50 />\n",
        "\n",
        "### [Marcos García Neira](https://github.com/MarcosGN) (110363)\n",
        "<br/>\n",
        "</p>\n",
        "\n",
        "<p>\n",
        "<img align=\"left\" src=\"https://github.com/mmaddalena.png\" height=50 width=50 />\n",
        "\n",
        "### [Martín Andrés Madalena](https://github.com/mmaddalena) (107610)\n",
        "</p>\n",
        "\n",
        "<br/><br/><br/><br/>\n",
        "<hr/>"
      ]
    },
    {
      "cell_type": "markdown",
      "metadata": {
        "id": "UEhl2OkhkUwW"
      },
      "source": [
        "# ***Imports* y otras librerías**"
      ]
    },
    {
      "cell_type": "markdown",
      "metadata": {
        "id": "QRqZ5PJykd6g"
      },
      "source": [
        "Importamos en un sólo lugar todas las librerías que vamos a utilizar:"
      ]
    },
    {
      "cell_type": "code",
      "execution_count": 1,
      "metadata": {
        "id": "rXxrxK51k3yL"
      },
      "outputs": [],
      "source": [
        "# No queremos ver la salida de pip\n",
        "%%capture\n",
        "# ---------- #\n",
        "\n",
        "%pip install keras==2.12.0\n",
        "%pip install tensorflow==2.12.0\n",
        "%pip install --no-deps scikeras==0.12.0"
      ]
    },
    {
      "cell_type": "code",
      "execution_count": 2,
      "metadata": {
        "id": "vSG3g_n3kh7j"
      },
      "outputs": [],
      "source": [
        "# Procesamiento de datos\n",
        "import numpy as np\n",
        "import pandas as pd\n",
        "\n",
        "# Gráficos\n",
        "import matplotlib.pyplot as plt\n",
        "import seaborn as sns\n",
        "\n",
        "# Tensorflow / Keras\n",
        "import tensorflow as tf\n",
        "from scikeras.wrappers import KerasClassifier\n",
        "\n",
        "# Sci-Kit Learn\n",
        "from sklearn.exceptions import NotFittedError\n",
        "from sklearn.ensemble import RandomForestClassifier, StackingClassifier, VotingClassifier\n",
        "from sklearn.feature_extraction.text import CountVectorizer, TfidfVectorizer\n",
        "from sklearn.linear_model import LogisticRegressionCV\n",
        "from sklearn.metrics import (precision_score, recall_score, accuracy_score, f1_score, make_scorer,\n",
        "                             confusion_matrix, classification_report)\n",
        "from sklearn.model_selection import (train_test_split, KFold, StratifiedKFold, RandomizedSearchCV,\n",
        "                                     GridSearchCV)\n",
        "from sklearn.naive_bayes import MultinomialNB\n",
        "from sklearn.preprocessing import LabelEncoder, MinMaxScaler, StandardScaler\n",
        "\n",
        "# Otras librerías de Machine-Learning\n",
        "from xgboost import XGBClassifier\n",
        "\n",
        "# type hinting\n",
        "from typing import TYPE_CHECKING, Any, Literal, Optional, Union\n",
        "if TYPE_CHECKING:\n",
        "    from os import PathLike\n",
        "\n",
        "# Otros\n",
        "from IPython.display import display # preferible a print()\n",
        "from pathlib import Path\n",
        "from warnings import simplefilter\n",
        "from google.colab import drive\n",
        "\n",
        "simplefilter(action=\"ignore\", category=FutureWarning)\n",
        "simplefilter(action=\"ignore\", category=UserWarning)"
      ]
    },
    {
      "cell_type": "code",
      "execution_count": 3,
      "metadata": {
        "colab": {
          "base_uri": "https://localhost:8080/"
        },
        "id": "KNbmh_KxlA0u",
        "outputId": "aade4523-14cf-4734-caa0-d8de3bcb8ba1"
      },
      "outputs": [
        {
          "output_type": "stream",
          "name": "stdout",
          "text": [
            "Mounted at /content/drive\n"
          ]
        }
      ],
      "source": [
        "# Va en una celda aparte para que no trate de montarlo cada vez que hay incluir nuevas librerías\n",
        "drive.mount(\"/content/drive\")"
      ]
    },
    {
      "cell_type": "markdown",
      "metadata": {
        "id": "tSGHHKA2kVH0"
      },
      "source": [
        "<hr/>"
      ]
    },
    {
      "cell_type": "markdown",
      "metadata": {
        "id": "mzRPN4yCkOcb"
      },
      "source": [
        "# **Preprocesamiento**"
      ]
    },
    {
      "cell_type": "markdown",
      "metadata": {
        "id": "ekxGXPv4MCtc"
      },
      "source": [
        "## **Importando los datasets**"
      ]
    },
    {
      "cell_type": "code",
      "execution_count": 4,
      "metadata": {
        "id": "KYsL3ImFlNxK"
      },
      "outputs": [],
      "source": [
        "# train = pd.read_csv(\"./Datasets/train.csv\")\n",
        "# test = pd.read_csv(\"./Datasets/test.csv\")\n",
        "train = pd.read_csv(\"https://raw.githubusercontent.com/NLGS2907/7506R-2C2023-GRUPO03/master/TPs/TP2/Datasets/train.csv\")\n",
        "test = pd.read_csv(\"https://raw.githubusercontent.com/NLGS2907/7506R-2C2023-GRUPO03/master/TPs/TP2/Datasets/test.csv\")"
      ]
    },
    {
      "cell_type": "code",
      "execution_count": 5,
      "metadata": {
        "id": "8RttW56XbACy"
      },
      "outputs": [],
      "source": [
        "# variables globales\n",
        "columna_target = \"sentimiento\""
      ]
    },
    {
      "cell_type": "code",
      "execution_count": 6,
      "metadata": {
        "colab": {
          "base_uri": "https://localhost:8080/",
          "height": 430
        },
        "id": "kgYziqTil1n5",
        "outputId": "60cfb730-5c06-43b9-9b8e-d5e9d4f237d4"
      },
      "outputs": [
        {
          "output_type": "display_data",
          "data": {
            "text/plain": [
              "   ID                                          review_es sentimiento\n",
              "0   0  Uno de los otros críticos ha mencionado que de...    positivo\n",
              "1   1  Una pequeña pequeña producción.La técnica de f...    positivo\n",
              "2   2  Pensé que esta era una manera maravillosa de p...    positivo\n",
              "3   3  Básicamente, hay una familia donde un niño peq...    negativo\n",
              "4   4  El \"amor en el tiempo\" de Petter Mattei es una...    positivo"
            ],
            "text/html": [
              "\n",
              "  <div id=\"df-3b089054-42ab-4403-8ecc-f82470666015\" class=\"colab-df-container\">\n",
              "    <div>\n",
              "<style scoped>\n",
              "    .dataframe tbody tr th:only-of-type {\n",
              "        vertical-align: middle;\n",
              "    }\n",
              "\n",
              "    .dataframe tbody tr th {\n",
              "        vertical-align: top;\n",
              "    }\n",
              "\n",
              "    .dataframe thead th {\n",
              "        text-align: right;\n",
              "    }\n",
              "</style>\n",
              "<table border=\"1\" class=\"dataframe\">\n",
              "  <thead>\n",
              "    <tr style=\"text-align: right;\">\n",
              "      <th></th>\n",
              "      <th>ID</th>\n",
              "      <th>review_es</th>\n",
              "      <th>sentimiento</th>\n",
              "    </tr>\n",
              "  </thead>\n",
              "  <tbody>\n",
              "    <tr>\n",
              "      <th>0</th>\n",
              "      <td>0</td>\n",
              "      <td>Uno de los otros críticos ha mencionado que de...</td>\n",
              "      <td>positivo</td>\n",
              "    </tr>\n",
              "    <tr>\n",
              "      <th>1</th>\n",
              "      <td>1</td>\n",
              "      <td>Una pequeña pequeña producción.La técnica de f...</td>\n",
              "      <td>positivo</td>\n",
              "    </tr>\n",
              "    <tr>\n",
              "      <th>2</th>\n",
              "      <td>2</td>\n",
              "      <td>Pensé que esta era una manera maravillosa de p...</td>\n",
              "      <td>positivo</td>\n",
              "    </tr>\n",
              "    <tr>\n",
              "      <th>3</th>\n",
              "      <td>3</td>\n",
              "      <td>Básicamente, hay una familia donde un niño peq...</td>\n",
              "      <td>negativo</td>\n",
              "    </tr>\n",
              "    <tr>\n",
              "      <th>4</th>\n",
              "      <td>4</td>\n",
              "      <td>El \"amor en el tiempo\" de Petter Mattei es una...</td>\n",
              "      <td>positivo</td>\n",
              "    </tr>\n",
              "  </tbody>\n",
              "</table>\n",
              "</div>\n",
              "    <div class=\"colab-df-buttons\">\n",
              "\n",
              "  <div class=\"colab-df-container\">\n",
              "    <button class=\"colab-df-convert\" onclick=\"convertToInteractive('df-3b089054-42ab-4403-8ecc-f82470666015')\"\n",
              "            title=\"Convert this dataframe to an interactive table.\"\n",
              "            style=\"display:none;\">\n",
              "\n",
              "  <svg xmlns=\"http://www.w3.org/2000/svg\" height=\"24px\" viewBox=\"0 -960 960 960\">\n",
              "    <path d=\"M120-120v-720h720v720H120Zm60-500h600v-160H180v160Zm220 220h160v-160H400v160Zm0 220h160v-160H400v160ZM180-400h160v-160H180v160Zm440 0h160v-160H620v160ZM180-180h160v-160H180v160Zm440 0h160v-160H620v160Z\"/>\n",
              "  </svg>\n",
              "    </button>\n",
              "\n",
              "  <style>\n",
              "    .colab-df-container {\n",
              "      display:flex;\n",
              "      gap: 12px;\n",
              "    }\n",
              "\n",
              "    .colab-df-convert {\n",
              "      background-color: #E8F0FE;\n",
              "      border: none;\n",
              "      border-radius: 50%;\n",
              "      cursor: pointer;\n",
              "      display: none;\n",
              "      fill: #1967D2;\n",
              "      height: 32px;\n",
              "      padding: 0 0 0 0;\n",
              "      width: 32px;\n",
              "    }\n",
              "\n",
              "    .colab-df-convert:hover {\n",
              "      background-color: #E2EBFA;\n",
              "      box-shadow: 0px 1px 2px rgba(60, 64, 67, 0.3), 0px 1px 3px 1px rgba(60, 64, 67, 0.15);\n",
              "      fill: #174EA6;\n",
              "    }\n",
              "\n",
              "    .colab-df-buttons div {\n",
              "      margin-bottom: 4px;\n",
              "    }\n",
              "\n",
              "    [theme=dark] .colab-df-convert {\n",
              "      background-color: #3B4455;\n",
              "      fill: #D2E3FC;\n",
              "    }\n",
              "\n",
              "    [theme=dark] .colab-df-convert:hover {\n",
              "      background-color: #434B5C;\n",
              "      box-shadow: 0px 1px 3px 1px rgba(0, 0, 0, 0.15);\n",
              "      filter: drop-shadow(0px 1px 2px rgba(0, 0, 0, 0.3));\n",
              "      fill: #FFFFFF;\n",
              "    }\n",
              "  </style>\n",
              "\n",
              "    <script>\n",
              "      const buttonEl =\n",
              "        document.querySelector('#df-3b089054-42ab-4403-8ecc-f82470666015 button.colab-df-convert');\n",
              "      buttonEl.style.display =\n",
              "        google.colab.kernel.accessAllowed ? 'block' : 'none';\n",
              "\n",
              "      async function convertToInteractive(key) {\n",
              "        const element = document.querySelector('#df-3b089054-42ab-4403-8ecc-f82470666015');\n",
              "        const dataTable =\n",
              "          await google.colab.kernel.invokeFunction('convertToInteractive',\n",
              "                                                    [key], {});\n",
              "        if (!dataTable) return;\n",
              "\n",
              "        const docLinkHtml = 'Like what you see? Visit the ' +\n",
              "          '<a target=\"_blank\" href=https://colab.research.google.com/notebooks/data_table.ipynb>data table notebook</a>'\n",
              "          + ' to learn more about interactive tables.';\n",
              "        element.innerHTML = '';\n",
              "        dataTable['output_type'] = 'display_data';\n",
              "        await google.colab.output.renderOutput(dataTable, element);\n",
              "        const docLink = document.createElement('div');\n",
              "        docLink.innerHTML = docLinkHtml;\n",
              "        element.appendChild(docLink);\n",
              "      }\n",
              "    </script>\n",
              "  </div>\n",
              "\n",
              "\n",
              "<div id=\"df-b1f93cd6-7b22-427a-bb3d-5f816d2ff0f7\">\n",
              "  <button class=\"colab-df-quickchart\" onclick=\"quickchart('df-b1f93cd6-7b22-427a-bb3d-5f816d2ff0f7')\"\n",
              "            title=\"Suggest charts\"\n",
              "            style=\"display:none;\">\n",
              "\n",
              "<svg xmlns=\"http://www.w3.org/2000/svg\" height=\"24px\"viewBox=\"0 0 24 24\"\n",
              "     width=\"24px\">\n",
              "    <g>\n",
              "        <path d=\"M19 3H5c-1.1 0-2 .9-2 2v14c0 1.1.9 2 2 2h14c1.1 0 2-.9 2-2V5c0-1.1-.9-2-2-2zM9 17H7v-7h2v7zm4 0h-2V7h2v10zm4 0h-2v-4h2v4z\"/>\n",
              "    </g>\n",
              "</svg>\n",
              "  </button>\n",
              "\n",
              "<style>\n",
              "  .colab-df-quickchart {\n",
              "      --bg-color: #E8F0FE;\n",
              "      --fill-color: #1967D2;\n",
              "      --hover-bg-color: #E2EBFA;\n",
              "      --hover-fill-color: #174EA6;\n",
              "      --disabled-fill-color: #AAA;\n",
              "      --disabled-bg-color: #DDD;\n",
              "  }\n",
              "\n",
              "  [theme=dark] .colab-df-quickchart {\n",
              "      --bg-color: #3B4455;\n",
              "      --fill-color: #D2E3FC;\n",
              "      --hover-bg-color: #434B5C;\n",
              "      --hover-fill-color: #FFFFFF;\n",
              "      --disabled-bg-color: #3B4455;\n",
              "      --disabled-fill-color: #666;\n",
              "  }\n",
              "\n",
              "  .colab-df-quickchart {\n",
              "    background-color: var(--bg-color);\n",
              "    border: none;\n",
              "    border-radius: 50%;\n",
              "    cursor: pointer;\n",
              "    display: none;\n",
              "    fill: var(--fill-color);\n",
              "    height: 32px;\n",
              "    padding: 0;\n",
              "    width: 32px;\n",
              "  }\n",
              "\n",
              "  .colab-df-quickchart:hover {\n",
              "    background-color: var(--hover-bg-color);\n",
              "    box-shadow: 0 1px 2px rgba(60, 64, 67, 0.3), 0 1px 3px 1px rgba(60, 64, 67, 0.15);\n",
              "    fill: var(--button-hover-fill-color);\n",
              "  }\n",
              "\n",
              "  .colab-df-quickchart-complete:disabled,\n",
              "  .colab-df-quickchart-complete:disabled:hover {\n",
              "    background-color: var(--disabled-bg-color);\n",
              "    fill: var(--disabled-fill-color);\n",
              "    box-shadow: none;\n",
              "  }\n",
              "\n",
              "  .colab-df-spinner {\n",
              "    border: 2px solid var(--fill-color);\n",
              "    border-color: transparent;\n",
              "    border-bottom-color: var(--fill-color);\n",
              "    animation:\n",
              "      spin 1s steps(1) infinite;\n",
              "  }\n",
              "\n",
              "  @keyframes spin {\n",
              "    0% {\n",
              "      border-color: transparent;\n",
              "      border-bottom-color: var(--fill-color);\n",
              "      border-left-color: var(--fill-color);\n",
              "    }\n",
              "    20% {\n",
              "      border-color: transparent;\n",
              "      border-left-color: var(--fill-color);\n",
              "      border-top-color: var(--fill-color);\n",
              "    }\n",
              "    30% {\n",
              "      border-color: transparent;\n",
              "      border-left-color: var(--fill-color);\n",
              "      border-top-color: var(--fill-color);\n",
              "      border-right-color: var(--fill-color);\n",
              "    }\n",
              "    40% {\n",
              "      border-color: transparent;\n",
              "      border-right-color: var(--fill-color);\n",
              "      border-top-color: var(--fill-color);\n",
              "    }\n",
              "    60% {\n",
              "      border-color: transparent;\n",
              "      border-right-color: var(--fill-color);\n",
              "    }\n",
              "    80% {\n",
              "      border-color: transparent;\n",
              "      border-right-color: var(--fill-color);\n",
              "      border-bottom-color: var(--fill-color);\n",
              "    }\n",
              "    90% {\n",
              "      border-color: transparent;\n",
              "      border-bottom-color: var(--fill-color);\n",
              "    }\n",
              "  }\n",
              "</style>\n",
              "\n",
              "  <script>\n",
              "    async function quickchart(key) {\n",
              "      const quickchartButtonEl =\n",
              "        document.querySelector('#' + key + ' button');\n",
              "      quickchartButtonEl.disabled = true;  // To prevent multiple clicks.\n",
              "      quickchartButtonEl.classList.add('colab-df-spinner');\n",
              "      try {\n",
              "        const charts = await google.colab.kernel.invokeFunction(\n",
              "            'suggestCharts', [key], {});\n",
              "      } catch (error) {\n",
              "        console.error('Error during call to suggestCharts:', error);\n",
              "      }\n",
              "      quickchartButtonEl.classList.remove('colab-df-spinner');\n",
              "      quickchartButtonEl.classList.add('colab-df-quickchart-complete');\n",
              "    }\n",
              "    (() => {\n",
              "      let quickchartButtonEl =\n",
              "        document.querySelector('#df-b1f93cd6-7b22-427a-bb3d-5f816d2ff0f7 button');\n",
              "      quickchartButtonEl.style.display =\n",
              "        google.colab.kernel.accessAllowed ? 'block' : 'none';\n",
              "    })();\n",
              "  </script>\n",
              "</div>\n",
              "    </div>\n",
              "  </div>\n"
            ]
          },
          "metadata": {}
        },
        {
          "output_type": "display_data",
          "data": {
            "text/plain": [
              "(50000, 3)"
            ]
          },
          "metadata": {}
        },
        {
          "output_type": "display_data",
          "data": {
            "text/plain": [
              "      ID                                          review_es\n",
              "0  60000  La mayor virtud de esta película es su existen...\n",
              "1  60001  No soy un experto cinéfilo, pero pocas veces m...\n",
              "2  60002  Si no eres un incondicional del humor estilo T...\n",
              "3  60003  No sé qué está pasando, si la gente se deja ll...\n",
              "4  60004  Pero cuando amanece,y me quedo solo,siento en ..."
            ],
            "text/html": [
              "\n",
              "  <div id=\"df-7aa25e0c-5168-4f50-85d2-d1cc17314043\" class=\"colab-df-container\">\n",
              "    <div>\n",
              "<style scoped>\n",
              "    .dataframe tbody tr th:only-of-type {\n",
              "        vertical-align: middle;\n",
              "    }\n",
              "\n",
              "    .dataframe tbody tr th {\n",
              "        vertical-align: top;\n",
              "    }\n",
              "\n",
              "    .dataframe thead th {\n",
              "        text-align: right;\n",
              "    }\n",
              "</style>\n",
              "<table border=\"1\" class=\"dataframe\">\n",
              "  <thead>\n",
              "    <tr style=\"text-align: right;\">\n",
              "      <th></th>\n",
              "      <th>ID</th>\n",
              "      <th>review_es</th>\n",
              "    </tr>\n",
              "  </thead>\n",
              "  <tbody>\n",
              "    <tr>\n",
              "      <th>0</th>\n",
              "      <td>60000</td>\n",
              "      <td>La mayor virtud de esta película es su existen...</td>\n",
              "    </tr>\n",
              "    <tr>\n",
              "      <th>1</th>\n",
              "      <td>60001</td>\n",
              "      <td>No soy un experto cinéfilo, pero pocas veces m...</td>\n",
              "    </tr>\n",
              "    <tr>\n",
              "      <th>2</th>\n",
              "      <td>60002</td>\n",
              "      <td>Si no eres un incondicional del humor estilo T...</td>\n",
              "    </tr>\n",
              "    <tr>\n",
              "      <th>3</th>\n",
              "      <td>60003</td>\n",
              "      <td>No sé qué está pasando, si la gente se deja ll...</td>\n",
              "    </tr>\n",
              "    <tr>\n",
              "      <th>4</th>\n",
              "      <td>60004</td>\n",
              "      <td>Pero cuando amanece,y me quedo solo,siento en ...</td>\n",
              "    </tr>\n",
              "  </tbody>\n",
              "</table>\n",
              "</div>\n",
              "    <div class=\"colab-df-buttons\">\n",
              "\n",
              "  <div class=\"colab-df-container\">\n",
              "    <button class=\"colab-df-convert\" onclick=\"convertToInteractive('df-7aa25e0c-5168-4f50-85d2-d1cc17314043')\"\n",
              "            title=\"Convert this dataframe to an interactive table.\"\n",
              "            style=\"display:none;\">\n",
              "\n",
              "  <svg xmlns=\"http://www.w3.org/2000/svg\" height=\"24px\" viewBox=\"0 -960 960 960\">\n",
              "    <path d=\"M120-120v-720h720v720H120Zm60-500h600v-160H180v160Zm220 220h160v-160H400v160Zm0 220h160v-160H400v160ZM180-400h160v-160H180v160Zm440 0h160v-160H620v160ZM180-180h160v-160H180v160Zm440 0h160v-160H620v160Z\"/>\n",
              "  </svg>\n",
              "    </button>\n",
              "\n",
              "  <style>\n",
              "    .colab-df-container {\n",
              "      display:flex;\n",
              "      gap: 12px;\n",
              "    }\n",
              "\n",
              "    .colab-df-convert {\n",
              "      background-color: #E8F0FE;\n",
              "      border: none;\n",
              "      border-radius: 50%;\n",
              "      cursor: pointer;\n",
              "      display: none;\n",
              "      fill: #1967D2;\n",
              "      height: 32px;\n",
              "      padding: 0 0 0 0;\n",
              "      width: 32px;\n",
              "    }\n",
              "\n",
              "    .colab-df-convert:hover {\n",
              "      background-color: #E2EBFA;\n",
              "      box-shadow: 0px 1px 2px rgba(60, 64, 67, 0.3), 0px 1px 3px 1px rgba(60, 64, 67, 0.15);\n",
              "      fill: #174EA6;\n",
              "    }\n",
              "\n",
              "    .colab-df-buttons div {\n",
              "      margin-bottom: 4px;\n",
              "    }\n",
              "\n",
              "    [theme=dark] .colab-df-convert {\n",
              "      background-color: #3B4455;\n",
              "      fill: #D2E3FC;\n",
              "    }\n",
              "\n",
              "    [theme=dark] .colab-df-convert:hover {\n",
              "      background-color: #434B5C;\n",
              "      box-shadow: 0px 1px 3px 1px rgba(0, 0, 0, 0.15);\n",
              "      filter: drop-shadow(0px 1px 2px rgba(0, 0, 0, 0.3));\n",
              "      fill: #FFFFFF;\n",
              "    }\n",
              "  </style>\n",
              "\n",
              "    <script>\n",
              "      const buttonEl =\n",
              "        document.querySelector('#df-7aa25e0c-5168-4f50-85d2-d1cc17314043 button.colab-df-convert');\n",
              "      buttonEl.style.display =\n",
              "        google.colab.kernel.accessAllowed ? 'block' : 'none';\n",
              "\n",
              "      async function convertToInteractive(key) {\n",
              "        const element = document.querySelector('#df-7aa25e0c-5168-4f50-85d2-d1cc17314043');\n",
              "        const dataTable =\n",
              "          await google.colab.kernel.invokeFunction('convertToInteractive',\n",
              "                                                    [key], {});\n",
              "        if (!dataTable) return;\n",
              "\n",
              "        const docLinkHtml = 'Like what you see? Visit the ' +\n",
              "          '<a target=\"_blank\" href=https://colab.research.google.com/notebooks/data_table.ipynb>data table notebook</a>'\n",
              "          + ' to learn more about interactive tables.';\n",
              "        element.innerHTML = '';\n",
              "        dataTable['output_type'] = 'display_data';\n",
              "        await google.colab.output.renderOutput(dataTable, element);\n",
              "        const docLink = document.createElement('div');\n",
              "        docLink.innerHTML = docLinkHtml;\n",
              "        element.appendChild(docLink);\n",
              "      }\n",
              "    </script>\n",
              "  </div>\n",
              "\n",
              "\n",
              "<div id=\"df-5105d026-d724-47c0-82dc-9a01f46ad3a1\">\n",
              "  <button class=\"colab-df-quickchart\" onclick=\"quickchart('df-5105d026-d724-47c0-82dc-9a01f46ad3a1')\"\n",
              "            title=\"Suggest charts\"\n",
              "            style=\"display:none;\">\n",
              "\n",
              "<svg xmlns=\"http://www.w3.org/2000/svg\" height=\"24px\"viewBox=\"0 0 24 24\"\n",
              "     width=\"24px\">\n",
              "    <g>\n",
              "        <path d=\"M19 3H5c-1.1 0-2 .9-2 2v14c0 1.1.9 2 2 2h14c1.1 0 2-.9 2-2V5c0-1.1-.9-2-2-2zM9 17H7v-7h2v7zm4 0h-2V7h2v10zm4 0h-2v-4h2v4z\"/>\n",
              "    </g>\n",
              "</svg>\n",
              "  </button>\n",
              "\n",
              "<style>\n",
              "  .colab-df-quickchart {\n",
              "      --bg-color: #E8F0FE;\n",
              "      --fill-color: #1967D2;\n",
              "      --hover-bg-color: #E2EBFA;\n",
              "      --hover-fill-color: #174EA6;\n",
              "      --disabled-fill-color: #AAA;\n",
              "      --disabled-bg-color: #DDD;\n",
              "  }\n",
              "\n",
              "  [theme=dark] .colab-df-quickchart {\n",
              "      --bg-color: #3B4455;\n",
              "      --fill-color: #D2E3FC;\n",
              "      --hover-bg-color: #434B5C;\n",
              "      --hover-fill-color: #FFFFFF;\n",
              "      --disabled-bg-color: #3B4455;\n",
              "      --disabled-fill-color: #666;\n",
              "  }\n",
              "\n",
              "  .colab-df-quickchart {\n",
              "    background-color: var(--bg-color);\n",
              "    border: none;\n",
              "    border-radius: 50%;\n",
              "    cursor: pointer;\n",
              "    display: none;\n",
              "    fill: var(--fill-color);\n",
              "    height: 32px;\n",
              "    padding: 0;\n",
              "    width: 32px;\n",
              "  }\n",
              "\n",
              "  .colab-df-quickchart:hover {\n",
              "    background-color: var(--hover-bg-color);\n",
              "    box-shadow: 0 1px 2px rgba(60, 64, 67, 0.3), 0 1px 3px 1px rgba(60, 64, 67, 0.15);\n",
              "    fill: var(--button-hover-fill-color);\n",
              "  }\n",
              "\n",
              "  .colab-df-quickchart-complete:disabled,\n",
              "  .colab-df-quickchart-complete:disabled:hover {\n",
              "    background-color: var(--disabled-bg-color);\n",
              "    fill: var(--disabled-fill-color);\n",
              "    box-shadow: none;\n",
              "  }\n",
              "\n",
              "  .colab-df-spinner {\n",
              "    border: 2px solid var(--fill-color);\n",
              "    border-color: transparent;\n",
              "    border-bottom-color: var(--fill-color);\n",
              "    animation:\n",
              "      spin 1s steps(1) infinite;\n",
              "  }\n",
              "\n",
              "  @keyframes spin {\n",
              "    0% {\n",
              "      border-color: transparent;\n",
              "      border-bottom-color: var(--fill-color);\n",
              "      border-left-color: var(--fill-color);\n",
              "    }\n",
              "    20% {\n",
              "      border-color: transparent;\n",
              "      border-left-color: var(--fill-color);\n",
              "      border-top-color: var(--fill-color);\n",
              "    }\n",
              "    30% {\n",
              "      border-color: transparent;\n",
              "      border-left-color: var(--fill-color);\n",
              "      border-top-color: var(--fill-color);\n",
              "      border-right-color: var(--fill-color);\n",
              "    }\n",
              "    40% {\n",
              "      border-color: transparent;\n",
              "      border-right-color: var(--fill-color);\n",
              "      border-top-color: var(--fill-color);\n",
              "    }\n",
              "    60% {\n",
              "      border-color: transparent;\n",
              "      border-right-color: var(--fill-color);\n",
              "    }\n",
              "    80% {\n",
              "      border-color: transparent;\n",
              "      border-right-color: var(--fill-color);\n",
              "      border-bottom-color: var(--fill-color);\n",
              "    }\n",
              "    90% {\n",
              "      border-color: transparent;\n",
              "      border-bottom-color: var(--fill-color);\n",
              "    }\n",
              "  }\n",
              "</style>\n",
              "\n",
              "  <script>\n",
              "    async function quickchart(key) {\n",
              "      const quickchartButtonEl =\n",
              "        document.querySelector('#' + key + ' button');\n",
              "      quickchartButtonEl.disabled = true;  // To prevent multiple clicks.\n",
              "      quickchartButtonEl.classList.add('colab-df-spinner');\n",
              "      try {\n",
              "        const charts = await google.colab.kernel.invokeFunction(\n",
              "            'suggestCharts', [key], {});\n",
              "      } catch (error) {\n",
              "        console.error('Error during call to suggestCharts:', error);\n",
              "      }\n",
              "      quickchartButtonEl.classList.remove('colab-df-spinner');\n",
              "      quickchartButtonEl.classList.add('colab-df-quickchart-complete');\n",
              "    }\n",
              "    (() => {\n",
              "      let quickchartButtonEl =\n",
              "        document.querySelector('#df-5105d026-d724-47c0-82dc-9a01f46ad3a1 button');\n",
              "      quickchartButtonEl.style.display =\n",
              "        google.colab.kernel.accessAllowed ? 'block' : 'none';\n",
              "    })();\n",
              "  </script>\n",
              "</div>\n",
              "    </div>\n",
              "  </div>\n"
            ]
          },
          "metadata": {}
        },
        {
          "output_type": "display_data",
          "data": {
            "text/plain": [
              "(8599, 2)"
            ]
          },
          "metadata": {}
        }
      ],
      "source": [
        "# train\n",
        "display(train.head())\n",
        "display(train.shape)\n",
        "\n",
        "# test\n",
        "display(test.head())\n",
        "display(test.shape)"
      ]
    },
    {
      "cell_type": "markdown",
      "metadata": {
        "id": "qYjSIDwsLqLH"
      },
      "source": [
        "<hr/>"
      ]
    },
    {
      "cell_type": "markdown",
      "metadata": {
        "id": "dlRubBUmLrZi"
      },
      "source": [
        "# **Funciones Auxiliares**"
      ]
    },
    {
      "cell_type": "markdown",
      "metadata": {
        "id": "5r3rxKHkLzl9"
      },
      "source": [
        "Creamos una función auxiliar para vectorizar los textos de las reseñas:"
      ]
    },
    {
      "cell_type": "code",
      "execution_count": 7,
      "metadata": {
        "id": "Lk7g6vcHRWeY"
      },
      "outputs": [],
      "source": [
        "def vectorizar_palabras(df: pd.DataFrame,\n",
        "                        *,\n",
        "                        vectorizador: Union[CountVectorizer, TfidfVectorizer, None]=None,\n",
        "                        target_col: Optional[str]=None,\n",
        "                        data_col: str=\"review_es\",\n",
        "                        prefix_cols: tuple[str, ...]=(\"ID\",),\n",
        "                        min_df: Union[int, float]=1,\n",
        "                        max_df: Union[int, float]=1.0,\n",
        "                        max_features: Optional[int]=None\n",
        "    ) -> pd.DataFrame:\n",
        "    \"\"\"\n",
        "    Transforma una DataFrame de pandas utilizando el algoritmo 'bag of words'.\n",
        "    -\n",
        "    'vectorizador': El objeto que vectoriza los datos. Puede o no estar ya fitteado.\n",
        "\n",
        "    'target_col': El nombre de la columna objetivo. Puede o no estar presente.\n",
        "\n",
        "    'data_col': El nombre de la columna con los textos a analizar.\n",
        "\n",
        "    'prefix_cols': Nombres de oclumnas que deberían agregarse antes de todas las columnas\n",
        "                   vectorizadas.\n",
        "\n",
        "    'min_df/max_df': Los porcentajes (o cuentas) de las características máximas a tener en\n",
        "                     cuenta al vectorizar las palabras. Por ejemplo, es útil si sólo se\n",
        "                     quiere tomar en cuenta las que aparecen en el 10% de los documentos.\n",
        "\n",
        "    'max_features': La cantidad de columnas máximas a tener en cuenta. Si no es `None`, se\n",
        "                    tendrán en cuenta las N más frecuentes.\n",
        "    \"\"\"\n",
        "\n",
        "    if vectorizador is None:\n",
        "        vectorizador = TfidfVectorizer(min_df=min_df, max_df=max_df, max_features=max_features)\n",
        "\n",
        "    try:\n",
        "        bag = vectorizador.transform(df[data_col])\n",
        "\n",
        "    except NotFittedError:\n",
        "        bag = vectorizador.fit_transform(df[data_col])\n",
        "\n",
        "\n",
        "    df_bag = pd.DataFrame.sparse.from_spmatrix(bag,\n",
        "                                               columns=[f\"c_{feat}\" for feat\n",
        "                                                        in vectorizador.vocabulary_.keys()])\n",
        "    return pd.concat((\n",
        "            df[list(prefix_cols)],\n",
        "            df_bag,\n",
        "            df[[target_col] if target_col is not None else []]\n",
        "        ),\n",
        "        axis=\"columns\"\n",
        "    )"
      ]
    },
    {
      "cell_type": "markdown",
      "metadata": {
        "id": "LXj8sY4gL3aR"
      },
      "source": [
        "Otra para separar los ejes entre los datos de entrenamiento y el *target*:"
      ]
    },
    {
      "cell_type": "code",
      "execution_count": 8,
      "metadata": {
        "id": "goKDMVo3RDsm"
      },
      "outputs": [],
      "source": [
        "def split_in_axes(df: pd.DataFrame,\n",
        "                  *,\n",
        "                  x_innecesarias: tuple[str, ...]=(\"ID\", \"sentimiento\"),\n",
        "                  target: Optional[str]=None\n",
        ") -> tuple[pd.DataFrame, pd.DataFrame]:\n",
        "    \"\"\"\n",
        "    Devuelve los ejes a entrenar/testear de un DataFrame.\n",
        "    -\n",
        "    'x_innecesarias': Qué columnas no incluir en el split del eje X.\n",
        "\n",
        "    'target': La variable objetivo que terminará en el split del eje Y.\n",
        "              El target también es eliminado, si se puede, del split del eje X.\n",
        "    \"\"\"\n",
        "\n",
        "    if target is not None and target not in x_innecesarias:\n",
        "        x_innecesarias = tuple(list(x_innecesarias).append(target))\n",
        "\n",
        "    df_x = df.copy()\n",
        "    for indeseada in x_innecesarias:\n",
        "        if indeseada in df.columns:\n",
        "            df_x = df_x.drop(indeseada, axis=\"columns\", inplace=False)\n",
        "\n",
        "    df_y = (None if target is None else df[target].copy())\n",
        "\n",
        "    return df_x, df_y"
      ]
    },
    {
      "cell_type": "markdown",
      "metadata": {
        "id": "lxHny5wazAqU"
      },
      "source": [
        "Otra para buscar por _Cross Validation_:"
      ]
    },
    {
      "cell_type": "code",
      "execution_count": 9,
      "metadata": {
        "id": "LRkCgWoezFPt"
      },
      "outputs": [],
      "source": [
        "def buscar_por_cv(*,\n",
        "                  metodo: Literal[\"random\", \"grid\"]=\"grid\",\n",
        "                  clasificador,\n",
        "                  params_cv: dict[str, Any],\n",
        "                  puntaje: Literal[\"accuracy\", \"recall\", \"precision\", \"f1\"]=\"f1\",\n",
        "\n",
        "                  rand_comb: int=10,\n",
        "                  folds: int=10,\n",
        "                  kfold_estratificado: bool=True,\n",
        "                  seed: Optional[int]=None) -> Union[RandomizedSearchCV, GridSearchCV]:\n",
        "    \"\"\"\n",
        "    Realiza cross validation con parámetros dados.\n",
        "    -\n",
        "    'metodo': Con qué metodo realizar el trabajo:\n",
        "              - 'random' es para utilizar `sklearn.model_selection.RandomizedSearchCV`\n",
        "              - 'grid' es para utilizar `sklearn.model_selection.GridSearchCV`\n",
        "\n",
        "    'clasificador': Un objeto estimador, ya inicializado: un árbol de decisión,\n",
        "                    un clasificador KNN, etc.\n",
        "\n",
        "    'params_cv': El diccionario de parámetros a probar en cada intento. Se asume que son compatibles\n",
        "                 con el clasificador pasado.\n",
        "\n",
        "    'puntaje': Método de puntaje:\n",
        "               - 'accuracy' utiliza el Accuracy Score.\n",
        "               - 'recall' utiliza el Recall Score.\n",
        "               - 'precision' utiliza el Precision Score.\n",
        "               - 'f1' utiliza el F1-Score.\n",
        "\n",
        "    'rand_comb': Cantidad de combinaciones a probar si se elige el método 'random'.\n",
        "\n",
        "    'folds': Cantidad de folds a usar en el KFold.\n",
        "\n",
        "    'kfold_estratificado': Si utilizar `sklearn.model_selection.StratifiedKFold` o\n",
        "                           `sklearn.model_selection.KFold`.\n",
        "\n",
        "    'seed': La semilla para resultados determinísticos. Se usa sólo en el `RandomSearchCV()`.\n",
        "            Si se desea una semilla para el clasificador, debe incluirse en 'params_cv'.\n",
        "    \"\"\"\n",
        "\n",
        "    if metodo not in (\"random\", \"grid\"):\n",
        "        raise ValueError(f\"Argumento metodo='{metodo}' no válido. Debe ser 'random' o 'grid'.\")\n",
        "\n",
        "    if puntaje not in (\"accuracy\", \"recall\", \"precision\", \"f1\"):\n",
        "        raise ValueError(f\"Argumento puntaje={puntaje} no válido, debe de ser 'accuracy', \"\n",
        "                         f\"'recall', 'precision' o 'f1'.\")\n",
        "\n",
        "    # Kfold estratificado\n",
        "    if kfold_estratificado:\n",
        "        kfoldcv = StratifiedKFold(n_splits=folds)\n",
        "    else:\n",
        "        kfoldcv = KFold(n_splits=folds)\n",
        "\n",
        "    # metricas\n",
        "    posibles_metricas = {\n",
        "        \"accuracy\": accuracy_score,\n",
        "        \"recall\": recall_score,\n",
        "        \"precision\": precision_score,\n",
        "        \"f1\": f1_score\n",
        "    }\n",
        "    scorer_fn = make_scorer(posibles_metricas[puntaje])\n",
        "\n",
        "    if metodo == \"random\": # Random Search Cross Validation\n",
        "        return RandomizedSearchCV(estimator=clasificador,\n",
        "                                  param_distributions=params_cv,\n",
        "                                  scoring=scorer_fn,\n",
        "                                  cv=kfoldcv,\n",
        "                                  n_iter=rand_comb,\n",
        "                                  n_jobs=-1,\n",
        "                                  random_state=seed)\n",
        "\n",
        "    if metodo == \"grid\": # Grid Search Cross Validation\n",
        "        return GridSearchCV(estimator=clasificador,\n",
        "                            param_grid=params_cv,\n",
        "                            scoring=scorer_fn,\n",
        "                            cv=kfoldcv,\n",
        "                            n_jobs=-1,\n",
        "                            return_train_score=True)"
      ]
    },
    {
      "cell_type": "markdown",
      "metadata": {
        "id": "8kOlSYTdL96E"
      },
      "source": [
        "Y otra para visualizar las predicciones:"
      ]
    },
    {
      "cell_type": "code",
      "execution_count": 10,
      "metadata": {
        "id": "QLA3gJw-OwAO"
      },
      "outputs": [],
      "source": [
        "def evaluar(y_test: np.ndarray,\n",
        "            y_pred: np.ndarray,\n",
        "            *,\n",
        "            seed_splits: Optional[int]=None,\n",
        "            seed_modelo: Optional[int]=None,\n",
        "            porcentaje_test: Optional[float]=None,\n",
        "            mostrar_matriz: bool=True,\n",
        "            titulo_matriz: Optional[str]=None,\n",
        "            pos_label: Union[str, int]=\"positivo\",\n",
        "            etiquetas: Optional[tuple[str, ...]]=(\"negativo\", \"positivo\")) -> None:\n",
        "    \"\"\"\n",
        "    Muestra los resultados de la performance en distintas métricas\n",
        "    y además también la matriz de confunsión.\n",
        "    -\n",
        "    'y_test': La colección de datos a testear.\n",
        "\n",
        "    'y_pred': La colección de predicciones a comparar con los datos de 'y_test'.\n",
        "\n",
        "    'seed_splits'/'seed_modelo': Las semillas de generación pseudo-aleatoria para los splits\n",
        "                                 train/tests y para el clasificador respectivamente.\n",
        "\n",
        "    'porcentaje_test': Un float de `0.0` a `1.0`. Usado para calcular los splits de train/test.\n",
        "\n",
        "    'mostrar_matriz': Si mostrar o no la matriz de confusión.\n",
        "\n",
        "    'titulo_matriz': Si se dibuja la matriz, el título que aparecerá.\n",
        "\n",
        "    'pos_label': La etiqueta a la que reportar en algunos puntajes.\n",
        "\n",
        "    'etiquetas': Las etiquetas que usar en la matriz de confusión.\n",
        "    \"\"\"\n",
        "\n",
        "    meta_info = []\n",
        "\n",
        "    if seed_splits is not None:\n",
        "        meta_info.append(f\"Splits Seed:\\t{seed_splits}\")\n",
        "\n",
        "    if seed_modelo is not None:\n",
        "        meta_info.append(f\"Model Seed:\\t\\t{seed_modelo}\")\n",
        "\n",
        "    if porcentaje_test is not None:\n",
        "        meta_info.append(f\"Train/Test:\\t\\t{100 - (porcentaje_test * 100)}% / \"\n",
        "                         f\"{porcentaje_test * 100}%\")\n",
        "\n",
        "    if meta_info:\n",
        "        meta_str = \"\\n\".join(meta_info)\n",
        "        print(f\"{meta_str}\\n-\")\n",
        "\n",
        "    print(f\"Accuracy:\\t\\t{accuracy_score(y_test, y_pred)}\\n\"\n",
        "          f\"Recall:\\t\\t\\t{recall_score(y_test, y_pred, pos_label=pos_label)}\\n\"\n",
        "          f\"Precision:\\t\\t{precision_score(y_test, y_pred, pos_label=pos_label)}\\n\"\n",
        "          f\"f1 score:\\t\\t{f1_score(y_test, y_pred, pos_label=pos_label)}\\n\\n\")\n",
        "\n",
        "    print(classification_report(y_test, y_pred))\n",
        "\n",
        "    if mostrar_matriz:\n",
        "        matriz_conf = confusion_matrix(y_test, y_pred)\n",
        "\n",
        "        ax = sns.heatmap(matriz_conf, cmap=\"GnBu\", annot=True, fmt=\"g\")\n",
        "        ax.set_xlabel(\"Predicted\")\n",
        "        ax.set_ylabel(\"True\")\n",
        "\n",
        "        if etiquetas is not None:\n",
        "            ax.set_xticklabels(etiquetas)\n",
        "            ax.set_yticklabels(etiquetas[::-1])\n",
        "\n",
        "        plt.title((titulo_matriz if titulo_matriz is not None else \"Matriz de Confusión\"))\n",
        "        plt.show()"
      ]
    },
    {
      "cell_type": "markdown",
      "metadata": {
        "id": "pEBfN-s0Pz-8"
      },
      "source": [
        "<hr/>"
      ]
    },
    {
      "cell_type": "markdown",
      "metadata": {
        "id": "eh_yasUwaUhF"
      },
      "source": [
        "# **Creación de splits**"
      ]
    },
    {
      "cell_type": "markdown",
      "metadata": {
        "id": "BSnRBPafjQH1"
      },
      "source": [
        "Utilizamos `sklearn.feature_extraction.text.CountVectorizer()` para vectorizar las palabras de las reseñas. <br/>\n",
        "Por supuesto, no convendría tener en cuenta _la totalidad_ de las palabras: si tenemos en cuenta cada una, el DataFrame resultante queda demasiado inflado; si por el otro lado tenemos en cuenta las más frecuentes de todas, poco tendrán para decir (Si aparecen tanto en reseñan positivas como negativas no son un factor que decida bien).\n",
        "\n",
        "A dichos efectos, tenemos en cuenta los siguientes parámetros para vectorizar las palabras:\n",
        "* **min_df:** El \"porcentaje\" o cantidad de apariciones MÍNIMAS que tiene que tener una palabra para ser considerada. **Ej:** `min_df=0.01` (palabras que como mínimo aparecen en el 1% de los textos); o `min_df=10` (palabras que como mínimo aparecen 10 veces).\n",
        "* **max_df:** El \"porcentaje\" o cantidad de apariciones MÁXIMAS que tiene que tener una palabra para ser considerada. **Ej:** `max_df=0.75` (palabras que como máximo aparecen en el 75% de los textos); o `max_df=915` (palabras que como máximo aparecen 915 veces).\n",
        "\n",
        "Adicionalmente, aseguramos con:\n",
        "* **max_features:** Si aún con las limitaciones explicadas arriba, entran demasiados casos, con `max_features=n` se tienen en cuenta sólo los `n` casos más frecuentes."
      ]
    },
    {
      "cell_type": "code",
      "execution_count": 11,
      "metadata": {
        "id": "6pmepyjwVZMW"
      },
      "outputs": [],
      "source": [
        "# Para no tener que fittear más de una vez\n",
        "vect = CountVectorizer(max_features=25000,\n",
        "                       min_df=0.001,\n",
        "                       max_df=0.75)\n",
        "sc = StandardScaler(with_mean=False)\n",
        "le = LabelEncoder()"
      ]
    },
    {
      "cell_type": "code",
      "execution_count": 12,
      "metadata": {
        "id": "yb_Sdl78aYV9"
      },
      "outputs": [],
      "source": [
        "train_vect = vectorizar_palabras(train, vectorizador=vect, target_col=columna_target)\n",
        "train_vect_x, train_vect_y = split_in_axes(train_vect, target=columna_target)\n",
        "\n",
        "semilla = 3\n",
        "porcentaje_test = 0.2"
      ]
    },
    {
      "cell_type": "code",
      "execution_count": 13,
      "metadata": {
        "colab": {
          "base_uri": "https://localhost:8080/",
          "height": 461
        },
        "id": "LbGGjaW03vE0",
        "outputId": "210c6c97-e32b-42f6-873d-b262f754bef9"
      },
      "outputs": [
        {
          "output_type": "stream",
          "name": "stdout",
          "text": [
            "(50000, 12351)\n"
          ]
        },
        {
          "output_type": "execute_result",
          "data": {
            "text/plain": [
              "       c_uno  c_otros  c_críticos  c_ha  c_mencionado  c_después  c_ver  \\\n",
              "0          0        0           0     0             0          0      0   \n",
              "1          0        0           0     0             0          0      0   \n",
              "2          0        0           0     0             0          0      0   \n",
              "3          0        0           1     0             0          0      0   \n",
              "4          0        0           0     0             0          0      0   \n",
              "...      ...      ...         ...   ...           ...        ...    ...   \n",
              "49995      0        0           1     0             0          0      0   \n",
              "49996      0        0           0     0             0          0      0   \n",
              "49997      0        0           0     0             0          0      0   \n",
              "49998      0        0           0     0             0          0      0   \n",
              "49999      0        0           0     0             0          0      0   \n",
              "\n",
              "       c_solo  c_oz  c_episodio  ...  c_garfield  c_aliviar  c_bach  \\\n",
              "0           0     0           0  ...           0          0       0   \n",
              "1           0     0           0  ...           0          0       0   \n",
              "2           0     0           0  ...           0          0       0   \n",
              "3           0     0           0  ...           0          0       0   \n",
              "4           0     0           0  ...           0          0       0   \n",
              "...       ...   ...         ...  ...         ...        ...     ...   \n",
              "49995       0     0           0  ...           0          1       0   \n",
              "49996       0     0           0  ...           0          0       0   \n",
              "49997       0     0           0  ...           0          0       0   \n",
              "49998       0     0           0  ...           0          0       1   \n",
              "49999       0     0           0  ...           0          0       0   \n",
              "\n",
              "       c_inofensiva  c_recuperarse  c_recordaron  c_luc  c_escribiera  \\\n",
              "0                 0              0             0      0             0   \n",
              "1                 0              0             0      0             0   \n",
              "2                 0              0             0      0             0   \n",
              "3                 0              0             0      0             0   \n",
              "4                 1              0             0      0             0   \n",
              "...             ...            ...           ...    ...           ...   \n",
              "49995             0              0             0      0             0   \n",
              "49996             1              0             0      0             0   \n",
              "49997             0              0             0      0             0   \n",
              "49998             0              0             0      0             0   \n",
              "49999             1              0             0      0             0   \n",
              "\n",
              "       c_furgoneta  c_proporcionando  \n",
              "0                0                 0  \n",
              "1                0                 0  \n",
              "2                0                 0  \n",
              "3                0                 0  \n",
              "4                0                 0  \n",
              "...            ...               ...  \n",
              "49995            0                 0  \n",
              "49996            0                 0  \n",
              "49997            0                 0  \n",
              "49998            0                 0  \n",
              "49999            0                 0  \n",
              "\n",
              "[50000 rows x 12351 columns]"
            ],
            "text/html": [
              "\n",
              "  <div id=\"df-15aa723c-92f0-42a2-ba0a-793514ed6a99\" class=\"colab-df-container\">\n",
              "    <div>\n",
              "<style scoped>\n",
              "    .dataframe tbody tr th:only-of-type {\n",
              "        vertical-align: middle;\n",
              "    }\n",
              "\n",
              "    .dataframe tbody tr th {\n",
              "        vertical-align: top;\n",
              "    }\n",
              "\n",
              "    .dataframe thead th {\n",
              "        text-align: right;\n",
              "    }\n",
              "</style>\n",
              "<table border=\"1\" class=\"dataframe\">\n",
              "  <thead>\n",
              "    <tr style=\"text-align: right;\">\n",
              "      <th></th>\n",
              "      <th>c_uno</th>\n",
              "      <th>c_otros</th>\n",
              "      <th>c_críticos</th>\n",
              "      <th>c_ha</th>\n",
              "      <th>c_mencionado</th>\n",
              "      <th>c_después</th>\n",
              "      <th>c_ver</th>\n",
              "      <th>c_solo</th>\n",
              "      <th>c_oz</th>\n",
              "      <th>c_episodio</th>\n",
              "      <th>...</th>\n",
              "      <th>c_garfield</th>\n",
              "      <th>c_aliviar</th>\n",
              "      <th>c_bach</th>\n",
              "      <th>c_inofensiva</th>\n",
              "      <th>c_recuperarse</th>\n",
              "      <th>c_recordaron</th>\n",
              "      <th>c_luc</th>\n",
              "      <th>c_escribiera</th>\n",
              "      <th>c_furgoneta</th>\n",
              "      <th>c_proporcionando</th>\n",
              "    </tr>\n",
              "  </thead>\n",
              "  <tbody>\n",
              "    <tr>\n",
              "      <th>0</th>\n",
              "      <td>0</td>\n",
              "      <td>0</td>\n",
              "      <td>0</td>\n",
              "      <td>0</td>\n",
              "      <td>0</td>\n",
              "      <td>0</td>\n",
              "      <td>0</td>\n",
              "      <td>0</td>\n",
              "      <td>0</td>\n",
              "      <td>0</td>\n",
              "      <td>...</td>\n",
              "      <td>0</td>\n",
              "      <td>0</td>\n",
              "      <td>0</td>\n",
              "      <td>0</td>\n",
              "      <td>0</td>\n",
              "      <td>0</td>\n",
              "      <td>0</td>\n",
              "      <td>0</td>\n",
              "      <td>0</td>\n",
              "      <td>0</td>\n",
              "    </tr>\n",
              "    <tr>\n",
              "      <th>1</th>\n",
              "      <td>0</td>\n",
              "      <td>0</td>\n",
              "      <td>0</td>\n",
              "      <td>0</td>\n",
              "      <td>0</td>\n",
              "      <td>0</td>\n",
              "      <td>0</td>\n",
              "      <td>0</td>\n",
              "      <td>0</td>\n",
              "      <td>0</td>\n",
              "      <td>...</td>\n",
              "      <td>0</td>\n",
              "      <td>0</td>\n",
              "      <td>0</td>\n",
              "      <td>0</td>\n",
              "      <td>0</td>\n",
              "      <td>0</td>\n",
              "      <td>0</td>\n",
              "      <td>0</td>\n",
              "      <td>0</td>\n",
              "      <td>0</td>\n",
              "    </tr>\n",
              "    <tr>\n",
              "      <th>2</th>\n",
              "      <td>0</td>\n",
              "      <td>0</td>\n",
              "      <td>0</td>\n",
              "      <td>0</td>\n",
              "      <td>0</td>\n",
              "      <td>0</td>\n",
              "      <td>0</td>\n",
              "      <td>0</td>\n",
              "      <td>0</td>\n",
              "      <td>0</td>\n",
              "      <td>...</td>\n",
              "      <td>0</td>\n",
              "      <td>0</td>\n",
              "      <td>0</td>\n",
              "      <td>0</td>\n",
              "      <td>0</td>\n",
              "      <td>0</td>\n",
              "      <td>0</td>\n",
              "      <td>0</td>\n",
              "      <td>0</td>\n",
              "      <td>0</td>\n",
              "    </tr>\n",
              "    <tr>\n",
              "      <th>3</th>\n",
              "      <td>0</td>\n",
              "      <td>0</td>\n",
              "      <td>1</td>\n",
              "      <td>0</td>\n",
              "      <td>0</td>\n",
              "      <td>0</td>\n",
              "      <td>0</td>\n",
              "      <td>0</td>\n",
              "      <td>0</td>\n",
              "      <td>0</td>\n",
              "      <td>...</td>\n",
              "      <td>0</td>\n",
              "      <td>0</td>\n",
              "      <td>0</td>\n",
              "      <td>0</td>\n",
              "      <td>0</td>\n",
              "      <td>0</td>\n",
              "      <td>0</td>\n",
              "      <td>0</td>\n",
              "      <td>0</td>\n",
              "      <td>0</td>\n",
              "    </tr>\n",
              "    <tr>\n",
              "      <th>4</th>\n",
              "      <td>0</td>\n",
              "      <td>0</td>\n",
              "      <td>0</td>\n",
              "      <td>0</td>\n",
              "      <td>0</td>\n",
              "      <td>0</td>\n",
              "      <td>0</td>\n",
              "      <td>0</td>\n",
              "      <td>0</td>\n",
              "      <td>0</td>\n",
              "      <td>...</td>\n",
              "      <td>0</td>\n",
              "      <td>0</td>\n",
              "      <td>0</td>\n",
              "      <td>1</td>\n",
              "      <td>0</td>\n",
              "      <td>0</td>\n",
              "      <td>0</td>\n",
              "      <td>0</td>\n",
              "      <td>0</td>\n",
              "      <td>0</td>\n",
              "    </tr>\n",
              "    <tr>\n",
              "      <th>...</th>\n",
              "      <td>...</td>\n",
              "      <td>...</td>\n",
              "      <td>...</td>\n",
              "      <td>...</td>\n",
              "      <td>...</td>\n",
              "      <td>...</td>\n",
              "      <td>...</td>\n",
              "      <td>...</td>\n",
              "      <td>...</td>\n",
              "      <td>...</td>\n",
              "      <td>...</td>\n",
              "      <td>...</td>\n",
              "      <td>...</td>\n",
              "      <td>...</td>\n",
              "      <td>...</td>\n",
              "      <td>...</td>\n",
              "      <td>...</td>\n",
              "      <td>...</td>\n",
              "      <td>...</td>\n",
              "      <td>...</td>\n",
              "      <td>...</td>\n",
              "    </tr>\n",
              "    <tr>\n",
              "      <th>49995</th>\n",
              "      <td>0</td>\n",
              "      <td>0</td>\n",
              "      <td>1</td>\n",
              "      <td>0</td>\n",
              "      <td>0</td>\n",
              "      <td>0</td>\n",
              "      <td>0</td>\n",
              "      <td>0</td>\n",
              "      <td>0</td>\n",
              "      <td>0</td>\n",
              "      <td>...</td>\n",
              "      <td>0</td>\n",
              "      <td>1</td>\n",
              "      <td>0</td>\n",
              "      <td>0</td>\n",
              "      <td>0</td>\n",
              "      <td>0</td>\n",
              "      <td>0</td>\n",
              "      <td>0</td>\n",
              "      <td>0</td>\n",
              "      <td>0</td>\n",
              "    </tr>\n",
              "    <tr>\n",
              "      <th>49996</th>\n",
              "      <td>0</td>\n",
              "      <td>0</td>\n",
              "      <td>0</td>\n",
              "      <td>0</td>\n",
              "      <td>0</td>\n",
              "      <td>0</td>\n",
              "      <td>0</td>\n",
              "      <td>0</td>\n",
              "      <td>0</td>\n",
              "      <td>0</td>\n",
              "      <td>...</td>\n",
              "      <td>0</td>\n",
              "      <td>0</td>\n",
              "      <td>0</td>\n",
              "      <td>1</td>\n",
              "      <td>0</td>\n",
              "      <td>0</td>\n",
              "      <td>0</td>\n",
              "      <td>0</td>\n",
              "      <td>0</td>\n",
              "      <td>0</td>\n",
              "    </tr>\n",
              "    <tr>\n",
              "      <th>49997</th>\n",
              "      <td>0</td>\n",
              "      <td>0</td>\n",
              "      <td>0</td>\n",
              "      <td>0</td>\n",
              "      <td>0</td>\n",
              "      <td>0</td>\n",
              "      <td>0</td>\n",
              "      <td>0</td>\n",
              "      <td>0</td>\n",
              "      <td>0</td>\n",
              "      <td>...</td>\n",
              "      <td>0</td>\n",
              "      <td>0</td>\n",
              "      <td>0</td>\n",
              "      <td>0</td>\n",
              "      <td>0</td>\n",
              "      <td>0</td>\n",
              "      <td>0</td>\n",
              "      <td>0</td>\n",
              "      <td>0</td>\n",
              "      <td>0</td>\n",
              "    </tr>\n",
              "    <tr>\n",
              "      <th>49998</th>\n",
              "      <td>0</td>\n",
              "      <td>0</td>\n",
              "      <td>0</td>\n",
              "      <td>0</td>\n",
              "      <td>0</td>\n",
              "      <td>0</td>\n",
              "      <td>0</td>\n",
              "      <td>0</td>\n",
              "      <td>0</td>\n",
              "      <td>0</td>\n",
              "      <td>...</td>\n",
              "      <td>0</td>\n",
              "      <td>0</td>\n",
              "      <td>1</td>\n",
              "      <td>0</td>\n",
              "      <td>0</td>\n",
              "      <td>0</td>\n",
              "      <td>0</td>\n",
              "      <td>0</td>\n",
              "      <td>0</td>\n",
              "      <td>0</td>\n",
              "    </tr>\n",
              "    <tr>\n",
              "      <th>49999</th>\n",
              "      <td>0</td>\n",
              "      <td>0</td>\n",
              "      <td>0</td>\n",
              "      <td>0</td>\n",
              "      <td>0</td>\n",
              "      <td>0</td>\n",
              "      <td>0</td>\n",
              "      <td>0</td>\n",
              "      <td>0</td>\n",
              "      <td>0</td>\n",
              "      <td>...</td>\n",
              "      <td>0</td>\n",
              "      <td>0</td>\n",
              "      <td>0</td>\n",
              "      <td>1</td>\n",
              "      <td>0</td>\n",
              "      <td>0</td>\n",
              "      <td>0</td>\n",
              "      <td>0</td>\n",
              "      <td>0</td>\n",
              "      <td>0</td>\n",
              "    </tr>\n",
              "  </tbody>\n",
              "</table>\n",
              "<p>50000 rows × 12351 columns</p>\n",
              "</div>\n",
              "    <div class=\"colab-df-buttons\">\n",
              "\n",
              "  <div class=\"colab-df-container\">\n",
              "    <button class=\"colab-df-convert\" onclick=\"convertToInteractive('df-15aa723c-92f0-42a2-ba0a-793514ed6a99')\"\n",
              "            title=\"Convert this dataframe to an interactive table.\"\n",
              "            style=\"display:none;\">\n",
              "\n",
              "  <svg xmlns=\"http://www.w3.org/2000/svg\" height=\"24px\" viewBox=\"0 -960 960 960\">\n",
              "    <path d=\"M120-120v-720h720v720H120Zm60-500h600v-160H180v160Zm220 220h160v-160H400v160Zm0 220h160v-160H400v160ZM180-400h160v-160H180v160Zm440 0h160v-160H620v160ZM180-180h160v-160H180v160Zm440 0h160v-160H620v160Z\"/>\n",
              "  </svg>\n",
              "    </button>\n",
              "\n",
              "  <style>\n",
              "    .colab-df-container {\n",
              "      display:flex;\n",
              "      gap: 12px;\n",
              "    }\n",
              "\n",
              "    .colab-df-convert {\n",
              "      background-color: #E8F0FE;\n",
              "      border: none;\n",
              "      border-radius: 50%;\n",
              "      cursor: pointer;\n",
              "      display: none;\n",
              "      fill: #1967D2;\n",
              "      height: 32px;\n",
              "      padding: 0 0 0 0;\n",
              "      width: 32px;\n",
              "    }\n",
              "\n",
              "    .colab-df-convert:hover {\n",
              "      background-color: #E2EBFA;\n",
              "      box-shadow: 0px 1px 2px rgba(60, 64, 67, 0.3), 0px 1px 3px 1px rgba(60, 64, 67, 0.15);\n",
              "      fill: #174EA6;\n",
              "    }\n",
              "\n",
              "    .colab-df-buttons div {\n",
              "      margin-bottom: 4px;\n",
              "    }\n",
              "\n",
              "    [theme=dark] .colab-df-convert {\n",
              "      background-color: #3B4455;\n",
              "      fill: #D2E3FC;\n",
              "    }\n",
              "\n",
              "    [theme=dark] .colab-df-convert:hover {\n",
              "      background-color: #434B5C;\n",
              "      box-shadow: 0px 1px 3px 1px rgba(0, 0, 0, 0.15);\n",
              "      filter: drop-shadow(0px 1px 2px rgba(0, 0, 0, 0.3));\n",
              "      fill: #FFFFFF;\n",
              "    }\n",
              "  </style>\n",
              "\n",
              "    <script>\n",
              "      const buttonEl =\n",
              "        document.querySelector('#df-15aa723c-92f0-42a2-ba0a-793514ed6a99 button.colab-df-convert');\n",
              "      buttonEl.style.display =\n",
              "        google.colab.kernel.accessAllowed ? 'block' : 'none';\n",
              "\n",
              "      async function convertToInteractive(key) {\n",
              "        const element = document.querySelector('#df-15aa723c-92f0-42a2-ba0a-793514ed6a99');\n",
              "        const dataTable =\n",
              "          await google.colab.kernel.invokeFunction('convertToInteractive',\n",
              "                                                    [key], {});\n",
              "        if (!dataTable) return;\n",
              "\n",
              "        const docLinkHtml = 'Like what you see? Visit the ' +\n",
              "          '<a target=\"_blank\" href=https://colab.research.google.com/notebooks/data_table.ipynb>data table notebook</a>'\n",
              "          + ' to learn more about interactive tables.';\n",
              "        element.innerHTML = '';\n",
              "        dataTable['output_type'] = 'display_data';\n",
              "        await google.colab.output.renderOutput(dataTable, element);\n",
              "        const docLink = document.createElement('div');\n",
              "        docLink.innerHTML = docLinkHtml;\n",
              "        element.appendChild(docLink);\n",
              "      }\n",
              "    </script>\n",
              "  </div>\n",
              "\n",
              "\n",
              "<div id=\"df-bc04d3dd-587e-4d4a-8c79-ff2e847cc592\">\n",
              "  <button class=\"colab-df-quickchart\" onclick=\"quickchart('df-bc04d3dd-587e-4d4a-8c79-ff2e847cc592')\"\n",
              "            title=\"Suggest charts\"\n",
              "            style=\"display:none;\">\n",
              "\n",
              "<svg xmlns=\"http://www.w3.org/2000/svg\" height=\"24px\"viewBox=\"0 0 24 24\"\n",
              "     width=\"24px\">\n",
              "    <g>\n",
              "        <path d=\"M19 3H5c-1.1 0-2 .9-2 2v14c0 1.1.9 2 2 2h14c1.1 0 2-.9 2-2V5c0-1.1-.9-2-2-2zM9 17H7v-7h2v7zm4 0h-2V7h2v10zm4 0h-2v-4h2v4z\"/>\n",
              "    </g>\n",
              "</svg>\n",
              "  </button>\n",
              "\n",
              "<style>\n",
              "  .colab-df-quickchart {\n",
              "      --bg-color: #E8F0FE;\n",
              "      --fill-color: #1967D2;\n",
              "      --hover-bg-color: #E2EBFA;\n",
              "      --hover-fill-color: #174EA6;\n",
              "      --disabled-fill-color: #AAA;\n",
              "      --disabled-bg-color: #DDD;\n",
              "  }\n",
              "\n",
              "  [theme=dark] .colab-df-quickchart {\n",
              "      --bg-color: #3B4455;\n",
              "      --fill-color: #D2E3FC;\n",
              "      --hover-bg-color: #434B5C;\n",
              "      --hover-fill-color: #FFFFFF;\n",
              "      --disabled-bg-color: #3B4455;\n",
              "      --disabled-fill-color: #666;\n",
              "  }\n",
              "\n",
              "  .colab-df-quickchart {\n",
              "    background-color: var(--bg-color);\n",
              "    border: none;\n",
              "    border-radius: 50%;\n",
              "    cursor: pointer;\n",
              "    display: none;\n",
              "    fill: var(--fill-color);\n",
              "    height: 32px;\n",
              "    padding: 0;\n",
              "    width: 32px;\n",
              "  }\n",
              "\n",
              "  .colab-df-quickchart:hover {\n",
              "    background-color: var(--hover-bg-color);\n",
              "    box-shadow: 0 1px 2px rgba(60, 64, 67, 0.3), 0 1px 3px 1px rgba(60, 64, 67, 0.15);\n",
              "    fill: var(--button-hover-fill-color);\n",
              "  }\n",
              "\n",
              "  .colab-df-quickchart-complete:disabled,\n",
              "  .colab-df-quickchart-complete:disabled:hover {\n",
              "    background-color: var(--disabled-bg-color);\n",
              "    fill: var(--disabled-fill-color);\n",
              "    box-shadow: none;\n",
              "  }\n",
              "\n",
              "  .colab-df-spinner {\n",
              "    border: 2px solid var(--fill-color);\n",
              "    border-color: transparent;\n",
              "    border-bottom-color: var(--fill-color);\n",
              "    animation:\n",
              "      spin 1s steps(1) infinite;\n",
              "  }\n",
              "\n",
              "  @keyframes spin {\n",
              "    0% {\n",
              "      border-color: transparent;\n",
              "      border-bottom-color: var(--fill-color);\n",
              "      border-left-color: var(--fill-color);\n",
              "    }\n",
              "    20% {\n",
              "      border-color: transparent;\n",
              "      border-left-color: var(--fill-color);\n",
              "      border-top-color: var(--fill-color);\n",
              "    }\n",
              "    30% {\n",
              "      border-color: transparent;\n",
              "      border-left-color: var(--fill-color);\n",
              "      border-top-color: var(--fill-color);\n",
              "      border-right-color: var(--fill-color);\n",
              "    }\n",
              "    40% {\n",
              "      border-color: transparent;\n",
              "      border-right-color: var(--fill-color);\n",
              "      border-top-color: var(--fill-color);\n",
              "    }\n",
              "    60% {\n",
              "      border-color: transparent;\n",
              "      border-right-color: var(--fill-color);\n",
              "    }\n",
              "    80% {\n",
              "      border-color: transparent;\n",
              "      border-right-color: var(--fill-color);\n",
              "      border-bottom-color: var(--fill-color);\n",
              "    }\n",
              "    90% {\n",
              "      border-color: transparent;\n",
              "      border-bottom-color: var(--fill-color);\n",
              "    }\n",
              "  }\n",
              "</style>\n",
              "\n",
              "  <script>\n",
              "    async function quickchart(key) {\n",
              "      const quickchartButtonEl =\n",
              "        document.querySelector('#' + key + ' button');\n",
              "      quickchartButtonEl.disabled = true;  // To prevent multiple clicks.\n",
              "      quickchartButtonEl.classList.add('colab-df-spinner');\n",
              "      try {\n",
              "        const charts = await google.colab.kernel.invokeFunction(\n",
              "            'suggestCharts', [key], {});\n",
              "      } catch (error) {\n",
              "        console.error('Error during call to suggestCharts:', error);\n",
              "      }\n",
              "      quickchartButtonEl.classList.remove('colab-df-spinner');\n",
              "      quickchartButtonEl.classList.add('colab-df-quickchart-complete');\n",
              "    }\n",
              "    (() => {\n",
              "      let quickchartButtonEl =\n",
              "        document.querySelector('#df-bc04d3dd-587e-4d4a-8c79-ff2e847cc592 button');\n",
              "      quickchartButtonEl.style.display =\n",
              "        google.colab.kernel.accessAllowed ? 'block' : 'none';\n",
              "    })();\n",
              "  </script>\n",
              "</div>\n",
              "    </div>\n",
              "  </div>\n"
            ]
          },
          "metadata": {},
          "execution_count": 13
        }
      ],
      "source": [
        "print(train_vect_x.shape)\n",
        "train_vect_x"
      ]
    },
    {
      "cell_type": "code",
      "execution_count": 14,
      "metadata": {
        "id": "CKowR0qVJQST"
      },
      "outputs": [],
      "source": [
        "x_train, x_test, y_train, y_test = train_test_split(train_vect_x,\n",
        "                                                    train_vect_y,\n",
        "                                                    test_size=porcentaje_test,\n",
        "                                                    stratify=train_vect_y,\n",
        "                                                    random_state=semilla)\n",
        "\n",
        "x_train_norm = sc.fit_transform(x_train)\n",
        "x_test_norm = sc.transform(x_test)\n",
        "y_train_le = le.fit_transform(y_train)"
      ]
    },
    {
      "cell_type": "markdown",
      "metadata": {
        "id": "C7VnrviraPyh"
      },
      "source": [
        "<hr/>"
      ]
    },
    {
      "cell_type": "markdown",
      "metadata": {
        "id": "DsZ_iG-Cbrca"
      },
      "source": [
        "# **Creación de modelos**"
      ]
    },
    {
      "cell_type": "markdown",
      "metadata": {
        "id": "jBmQuxNCbvKw"
      },
      "source": [
        "<hr width=\"30%\" align=\"left\" />"
      ]
    },
    {
      "cell_type": "markdown",
      "metadata": {
        "id": "Z8hIxyY7Pwrg"
      },
      "source": [
        "## **Bayes Naïve**"
      ]
    },
    {
      "cell_type": "markdown",
      "metadata": {
        "id": "GmPEOtp-h8ew"
      },
      "source": [
        "Para nuestro caso elegimos usar el modelo _multinomial_ (`sklearn.naive_bayes.MultinomialNB()`) de Bayes Naïve. <br/>\n",
        "Éste pocos parámetros tiene; sólo 2 se tienen en cuenta:\n",
        "\n",
        "* **alpha:** Un parámetro de suavizado para tener en cuenta en los cálculos.\n",
        "\n",
        "* **force_alpha:** Si forzar al modelo a utilizar el valor de **alpha** especificado arriba. Esto es porque, si el valor resulta muy cercano a 0, los cálculos lo ignoran para evitar errores de redondeo en _floats_.\n",
        "\n",
        "Por esto mismo, también se tiene en cuenta la combinación especial `alpha=0` y `force_alpha=True`, que a los efectos explicados arriba significa \"sin suavizado\"."
      ]
    },
    {
      "cell_type": "code",
      "execution_count": 15,
      "metadata": {
        "id": "95aZcEX953TG",
        "colab": {
          "base_uri": "https://localhost:8080/",
          "height": 74
        },
        "outputId": "3288e008-64b4-46f1-8e32-bea9eda12db0"
      },
      "outputs": [
        {
          "output_type": "execute_result",
          "data": {
            "text/plain": [
              "MultinomialNB(alpha=2.586206896551724, force_alpha=True)"
            ],
            "text/html": [
              "<style>#sk-container-id-1 {color: black;background-color: white;}#sk-container-id-1 pre{padding: 0;}#sk-container-id-1 div.sk-toggleable {background-color: white;}#sk-container-id-1 label.sk-toggleable__label {cursor: pointer;display: block;width: 100%;margin-bottom: 0;padding: 0.3em;box-sizing: border-box;text-align: center;}#sk-container-id-1 label.sk-toggleable__label-arrow:before {content: \"▸\";float: left;margin-right: 0.25em;color: #696969;}#sk-container-id-1 label.sk-toggleable__label-arrow:hover:before {color: black;}#sk-container-id-1 div.sk-estimator:hover label.sk-toggleable__label-arrow:before {color: black;}#sk-container-id-1 div.sk-toggleable__content {max-height: 0;max-width: 0;overflow: hidden;text-align: left;background-color: #f0f8ff;}#sk-container-id-1 div.sk-toggleable__content pre {margin: 0.2em;color: black;border-radius: 0.25em;background-color: #f0f8ff;}#sk-container-id-1 input.sk-toggleable__control:checked~div.sk-toggleable__content {max-height: 200px;max-width: 100%;overflow: auto;}#sk-container-id-1 input.sk-toggleable__control:checked~label.sk-toggleable__label-arrow:before {content: \"▾\";}#sk-container-id-1 div.sk-estimator input.sk-toggleable__control:checked~label.sk-toggleable__label {background-color: #d4ebff;}#sk-container-id-1 div.sk-label input.sk-toggleable__control:checked~label.sk-toggleable__label {background-color: #d4ebff;}#sk-container-id-1 input.sk-hidden--visually {border: 0;clip: rect(1px 1px 1px 1px);clip: rect(1px, 1px, 1px, 1px);height: 1px;margin: -1px;overflow: hidden;padding: 0;position: absolute;width: 1px;}#sk-container-id-1 div.sk-estimator {font-family: monospace;background-color: #f0f8ff;border: 1px dotted black;border-radius: 0.25em;box-sizing: border-box;margin-bottom: 0.5em;}#sk-container-id-1 div.sk-estimator:hover {background-color: #d4ebff;}#sk-container-id-1 div.sk-parallel-item::after {content: \"\";width: 100%;border-bottom: 1px solid gray;flex-grow: 1;}#sk-container-id-1 div.sk-label:hover label.sk-toggleable__label {background-color: #d4ebff;}#sk-container-id-1 div.sk-serial::before {content: \"\";position: absolute;border-left: 1px solid gray;box-sizing: border-box;top: 0;bottom: 0;left: 50%;z-index: 0;}#sk-container-id-1 div.sk-serial {display: flex;flex-direction: column;align-items: center;background-color: white;padding-right: 0.2em;padding-left: 0.2em;position: relative;}#sk-container-id-1 div.sk-item {position: relative;z-index: 1;}#sk-container-id-1 div.sk-parallel {display: flex;align-items: stretch;justify-content: center;background-color: white;position: relative;}#sk-container-id-1 div.sk-item::before, #sk-container-id-1 div.sk-parallel-item::before {content: \"\";position: absolute;border-left: 1px solid gray;box-sizing: border-box;top: 0;bottom: 0;left: 50%;z-index: -1;}#sk-container-id-1 div.sk-parallel-item {display: flex;flex-direction: column;z-index: 1;position: relative;background-color: white;}#sk-container-id-1 div.sk-parallel-item:first-child::after {align-self: flex-end;width: 50%;}#sk-container-id-1 div.sk-parallel-item:last-child::after {align-self: flex-start;width: 50%;}#sk-container-id-1 div.sk-parallel-item:only-child::after {width: 0;}#sk-container-id-1 div.sk-dashed-wrapped {border: 1px dashed gray;margin: 0 0.4em 0.5em 0.4em;box-sizing: border-box;padding-bottom: 0.4em;background-color: white;}#sk-container-id-1 div.sk-label label {font-family: monospace;font-weight: bold;display: inline-block;line-height: 1.2em;}#sk-container-id-1 div.sk-label-container {text-align: center;}#sk-container-id-1 div.sk-container {/* jupyter's `normalize.less` sets `[hidden] { display: none; }` but bootstrap.min.css set `[hidden] { display: none !important; }` so we also need the `!important` here to be able to override the default hidden behavior on the sphinx rendered scikit-learn.org. See: https://github.com/scikit-learn/scikit-learn/issues/21755 */display: inline-block !important;position: relative;}#sk-container-id-1 div.sk-text-repr-fallback {display: none;}</style><div id=\"sk-container-id-1\" class=\"sk-top-container\"><div class=\"sk-text-repr-fallback\"><pre>MultinomialNB(alpha=2.586206896551724, force_alpha=True)</pre><b>In a Jupyter environment, please rerun this cell to show the HTML representation or trust the notebook. <br />On GitHub, the HTML representation is unable to render, please try loading this page with nbviewer.org.</b></div><div class=\"sk-container\" hidden><div class=\"sk-item\"><div class=\"sk-estimator sk-toggleable\"><input class=\"sk-toggleable__control sk-hidden--visually\" id=\"sk-estimator-id-1\" type=\"checkbox\" checked><label for=\"sk-estimator-id-1\" class=\"sk-toggleable__label sk-toggleable__label-arrow\">MultinomialNB</label><div class=\"sk-toggleable__content\"><pre>MultinomialNB(alpha=2.586206896551724, force_alpha=True)</pre></div></div></div></div></div>"
            ]
          },
          "metadata": {},
          "execution_count": 15
        }
      ],
      "source": [
        "# # ----- Buscado por CV -----\n",
        "# parametros_cv_mnb = {\n",
        "#     \"alpha\": np.linspace(0.0, 5.0, 50),\n",
        "#     \"force_alpha\": [False]\n",
        "# }\n",
        "\n",
        "# cv_mnb = buscar_por_cv(metodo=\"random\",\n",
        "#                        clasificador=MultinomialNB(),\n",
        "#                        params_cv=parametros_cv_mnb,\n",
        "#                        puntaje=\"f1\",\n",
        "#                        rand_comb=15,\n",
        "#                        folds=5,\n",
        "#                        kfold_estratificado=True,\n",
        "#                        seed=semilla)\n",
        "# cv_mnb.fit(X=x_train, y=y_train)\n",
        "\n",
        "# print(f\"{cv_mnb.best_params_}\\n\"\n",
        "#       f\"{cv_mnb.best_score_}\")\n",
        "# mnb = cv_mnb.best_estimator_\n",
        "# # --------------------------\n",
        "\n",
        "# ----- Creado Manualmente -----\n",
        "mnb = MultinomialNB(alpha=2.586206896551724, force_alpha=True)\n",
        "mnb.fit(X=x_train,\n",
        "        y=y_train)\n",
        "# ------------------------------"
      ]
    },
    {
      "cell_type": "code",
      "execution_count": 16,
      "metadata": {
        "id": "62bVI-bm6B-a"
      },
      "outputs": [],
      "source": [
        "y_pred_mnb = mnb.predict(x_test)"
      ]
    },
    {
      "cell_type": "code",
      "execution_count": 17,
      "metadata": {
        "id": "3j0skTcy6JlI",
        "colab": {
          "base_uri": "https://localhost:8080/",
          "height": 785
        },
        "outputId": "6eb7ea95-91b3-4a49-f8aa-98c1033dec3d"
      },
      "outputs": [
        {
          "output_type": "stream",
          "name": "stdout",
          "text": [
            "Splits Seed:\t3\n",
            "Train/Test:\t\t80.0% / 20.0%\n",
            "-\n",
            "Accuracy:\t\t0.8358\n",
            "Recall:\t\t\t0.819\n",
            "Precision:\t\t0.8474751655629139\n",
            "f1 score:\t\t0.8329943043124491\n",
            "\n",
            "\n",
            "              precision    recall  f1-score   support\n",
            "\n",
            "    negativo       0.82      0.85      0.84      5000\n",
            "    positivo       0.85      0.82      0.83      5000\n",
            "\n",
            "    accuracy                           0.84     10000\n",
            "   macro avg       0.84      0.84      0.84     10000\n",
            "weighted avg       0.84      0.84      0.84     10000\n",
            "\n"
          ]
        },
        {
          "output_type": "display_data",
          "data": {
            "text/plain": [
              "<Figure size 640x480 with 2 Axes>"
            ],
            "image/png": "[encoded data removed]"
          },
          "metadata": {}
        }
      ],
      "source": [
        "evaluar(y_test, y_pred_mnb,\n",
        "        seed_splits=semilla,\n",
        "        porcentaje_test=porcentaje_test,\n",
        "        titulo_matriz=\"Matriz de Confusión de Bayes Naïve\")"
      ]
    },
    {
      "cell_type": "markdown",
      "metadata": {
        "id": "V6Tq1gzhwFv_"
      },
      "source": [
        "<hr width=\"30%\" align=\"left\" />"
      ]
    },
    {
      "cell_type": "markdown",
      "metadata": {
        "id": "hy6QI9amwHg9"
      },
      "source": [
        "## **_Random Forest_**"
      ]
    },
    {
      "cell_type": "markdown",
      "metadata": {
        "id": "acXKP7ZzhKTK"
      },
      "source": [
        "Parámetros a tener en cuenta son:\n",
        "\n",
        "* **criterion:** El criterio con el que decidir cómo dividir y qué nodos:\n",
        "    - _\"gini\"_: Utiliza la impureza de Gini.\n",
        "    - _\"entropy\"_: Utiliza el cálculo de entropía.\n",
        "\n",
        "* **min_samples_leaf:** La cantidad mínima de muestras que una hoja debe tener para ser considerada tal.\n",
        "\n",
        "* **min_samples_splits:** La cantidad mínima de muestras que un nodo debe tener como para considerar dividirlo.\n",
        "\n",
        "* **n_estimators:** Cuántos árboles utilizar en la clasificación."
      ]
    },
    {
      "cell_type": "code",
      "execution_count": 18,
      "metadata": {
        "id": "SnrWMaD4wZ99",
        "colab": {
          "base_uri": "https://localhost:8080/",
          "height": 109
        },
        "outputId": "9920aa38-65cd-45f3-d5ca-21821cc412d7"
      },
      "outputs": [
        {
          "output_type": "execute_result",
          "data": {
            "text/plain": [
              "RandomForestClassifier(max_features='log2', min_samples_leaf=2,\n",
              "                       min_samples_split=12, n_estimators=70, n_jobs=-1,\n",
              "                       oob_score=True, random_state=1)"
            ],
            "text/html": [
              "<style>#sk-container-id-2 {color: black;background-color: white;}#sk-container-id-2 pre{padding: 0;}#sk-container-id-2 div.sk-toggleable {background-color: white;}#sk-container-id-2 label.sk-toggleable__label {cursor: pointer;display: block;width: 100%;margin-bottom: 0;padding: 0.3em;box-sizing: border-box;text-align: center;}#sk-container-id-2 label.sk-toggleable__label-arrow:before {content: \"▸\";float: left;margin-right: 0.25em;color: #696969;}#sk-container-id-2 label.sk-toggleable__label-arrow:hover:before {color: black;}#sk-container-id-2 div.sk-estimator:hover label.sk-toggleable__label-arrow:before {color: black;}#sk-container-id-2 div.sk-toggleable__content {max-height: 0;max-width: 0;overflow: hidden;text-align: left;background-color: #f0f8ff;}#sk-container-id-2 div.sk-toggleable__content pre {margin: 0.2em;color: black;border-radius: 0.25em;background-color: #f0f8ff;}#sk-container-id-2 input.sk-toggleable__control:checked~div.sk-toggleable__content {max-height: 200px;max-width: 100%;overflow: auto;}#sk-container-id-2 input.sk-toggleable__control:checked~label.sk-toggleable__label-arrow:before {content: \"▾\";}#sk-container-id-2 div.sk-estimator input.sk-toggleable__control:checked~label.sk-toggleable__label {background-color: #d4ebff;}#sk-container-id-2 div.sk-label input.sk-toggleable__control:checked~label.sk-toggleable__label {background-color: #d4ebff;}#sk-container-id-2 input.sk-hidden--visually {border: 0;clip: rect(1px 1px 1px 1px);clip: rect(1px, 1px, 1px, 1px);height: 1px;margin: -1px;overflow: hidden;padding: 0;position: absolute;width: 1px;}#sk-container-id-2 div.sk-estimator {font-family: monospace;background-color: #f0f8ff;border: 1px dotted black;border-radius: 0.25em;box-sizing: border-box;margin-bottom: 0.5em;}#sk-container-id-2 div.sk-estimator:hover {background-color: #d4ebff;}#sk-container-id-2 div.sk-parallel-item::after {content: \"\";width: 100%;border-bottom: 1px solid gray;flex-grow: 1;}#sk-container-id-2 div.sk-label:hover label.sk-toggleable__label {background-color: #d4ebff;}#sk-container-id-2 div.sk-serial::before {content: \"\";position: absolute;border-left: 1px solid gray;box-sizing: border-box;top: 0;bottom: 0;left: 50%;z-index: 0;}#sk-container-id-2 div.sk-serial {display: flex;flex-direction: column;align-items: center;background-color: white;padding-right: 0.2em;padding-left: 0.2em;position: relative;}#sk-container-id-2 div.sk-item {position: relative;z-index: 1;}#sk-container-id-2 div.sk-parallel {display: flex;align-items: stretch;justify-content: center;background-color: white;position: relative;}#sk-container-id-2 div.sk-item::before, #sk-container-id-2 div.sk-parallel-item::before {content: \"\";position: absolute;border-left: 1px solid gray;box-sizing: border-box;top: 0;bottom: 0;left: 50%;z-index: -1;}#sk-container-id-2 div.sk-parallel-item {display: flex;flex-direction: column;z-index: 1;position: relative;background-color: white;}#sk-container-id-2 div.sk-parallel-item:first-child::after {align-self: flex-end;width: 50%;}#sk-container-id-2 div.sk-parallel-item:last-child::after {align-self: flex-start;width: 50%;}#sk-container-id-2 div.sk-parallel-item:only-child::after {width: 0;}#sk-container-id-2 div.sk-dashed-wrapped {border: 1px dashed gray;margin: 0 0.4em 0.5em 0.4em;box-sizing: border-box;padding-bottom: 0.4em;background-color: white;}#sk-container-id-2 div.sk-label label {font-family: monospace;font-weight: bold;display: inline-block;line-height: 1.2em;}#sk-container-id-2 div.sk-label-container {text-align: center;}#sk-container-id-2 div.sk-container {/* jupyter's `normalize.less` sets `[hidden] { display: none; }` but bootstrap.min.css set `[hidden] { display: none !important; }` so we also need the `!important` here to be able to override the default hidden behavior on the sphinx rendered scikit-learn.org. See: https://github.com/scikit-learn/scikit-learn/issues/21755 */display: inline-block !important;position: relative;}#sk-container-id-2 div.sk-text-repr-fallback {display: none;}</style><div id=\"sk-container-id-2\" class=\"sk-top-container\"><div class=\"sk-text-repr-fallback\"><pre>RandomForestClassifier(max_features=&#x27;log2&#x27;, min_samples_leaf=2,\n",
              "                       min_samples_split=12, n_estimators=70, n_jobs=-1,\n",
              "                       oob_score=True, random_state=1)</pre><b>In a Jupyter environment, please rerun this cell to show the HTML representation or trust the notebook. <br />On GitHub, the HTML representation is unable to render, please try loading this page with nbviewer.org.</b></div><div class=\"sk-container\" hidden><div class=\"sk-item\"><div class=\"sk-estimator sk-toggleable\"><input class=\"sk-toggleable__control sk-hidden--visually\" id=\"sk-estimator-id-2\" type=\"checkbox\" checked><label for=\"sk-estimator-id-2\" class=\"sk-toggleable__label sk-toggleable__label-arrow\">RandomForestClassifier</label><div class=\"sk-toggleable__content\"><pre>RandomForestClassifier(max_features=&#x27;log2&#x27;, min_samples_leaf=2,\n",
              "                       min_samples_split=12, n_estimators=70, n_jobs=-1,\n",
              "                       oob_score=True, random_state=1)</pre></div></div></div></div></div>"
            ]
          },
          "metadata": {},
          "execution_count": 18
        }
      ],
      "source": [
        "semilla_rf = 1\n",
        "\n",
        "# # ----- Buscado por CV -----\n",
        "# parametros_cv_rf = {\n",
        "#       \"criterion\" : [\"gini\", \"entropy\"],\n",
        "#       \"min_samples_leaf\" : np.arange(1, 50, 1),\n",
        "#       \"min_samples_split\" : np.arange(2, 30, 1),\n",
        "#       \"n_estimators\": np.arange(10, 450, 5),\n",
        "\n",
        "# #     # para compatibilidad con la búsqueda manual\n",
        "#      \"max_features\": [\"sqrt\", \"log2\"],\n",
        "#      \"oob_score\": [True],\n",
        "#      \"random_state\": [semilla_rf],\n",
        "#      \"n_jobs\": [-1]\n",
        "#   }\n",
        "\n",
        "# cv_rf = buscar_por_cv(metodo=\"random\",\n",
        "#                         clasificador=RandomForestClassifier(),\n",
        "#                         params_cv=parametros_cv_rf,\n",
        "#                         puntaje=\"f1\",\n",
        "#                         rand_comb=5,\n",
        "#                         folds=5,\n",
        "#                         kfold_estratificado=True,\n",
        "#                         seed=semilla)\n",
        "# cv_rf.fit(X=x_train, y=y_train)\n",
        "\n",
        "# print(f\"{cv_rf.best_params_}\\n\"\n",
        "#         f\"{cv_rf.best_score_}\")\n",
        "# rfc = cv_rf.best_estimator_\n",
        "# # --------------------------\n",
        "\n",
        "# ----- Creado Manualmente -----\n",
        "rfc = RandomForestClassifier(max_features=\"log2\",\n",
        "                             oob_score=True,\n",
        "                             random_state=semilla_rf,\n",
        "                             n_jobs=-1,\n",
        "                             criterion=\"gini\",\n",
        "                             min_samples_leaf=2,\n",
        "                             min_samples_split=12,\n",
        "                             n_estimators=70)\n",
        "\n",
        "rfc.fit(X=x_train,\n",
        "        y=y_train_le)\n",
        "# ------------------------------"
      ]
    },
    {
      "cell_type": "code",
      "execution_count": 19,
      "metadata": {
        "id": "iyO13X3vyXMi"
      },
      "outputs": [],
      "source": [
        "y_pred_rf = le.inverse_transform(rfc.predict(x_test))"
      ]
    },
    {
      "cell_type": "code",
      "execution_count": 20,
      "metadata": {
        "id": "PLfZxX1Fyac-",
        "colab": {
          "base_uri": "https://localhost:8080/",
          "height": 802
        },
        "outputId": "5017fac2-6cc3-43ba-bf1d-3fd35c0d8137"
      },
      "outputs": [
        {
          "output_type": "stream",
          "name": "stdout",
          "text": [
            "Splits Seed:\t3\n",
            "Model Seed:\t\t1\n",
            "Train/Test:\t\t80.0% / 20.0%\n",
            "-\n",
            "Accuracy:\t\t0.8406\n",
            "Recall:\t\t\t0.8516\n",
            "Precision:\t\t0.8332681017612524\n",
            "f1 score:\t\t0.8423343224530169\n",
            "\n",
            "\n",
            "              precision    recall  f1-score   support\n",
            "\n",
            "    negativo       0.85      0.83      0.84      5000\n",
            "    positivo       0.83      0.85      0.84      5000\n",
            "\n",
            "    accuracy                           0.84     10000\n",
            "   macro avg       0.84      0.84      0.84     10000\n",
            "weighted avg       0.84      0.84      0.84     10000\n",
            "\n"
          ]
        },
        {
          "output_type": "display_data",
          "data": {
            "text/plain": [
              "<Figure size 640x480 with 2 Axes>"
            ],
            "image/png": "[encoded data removed]"
          },
          "metadata": {}
        }
      ],
      "source": [
        "evaluar(y_test, y_pred_rf,\n",
        "         seed_splits=semilla,\n",
        "         seed_modelo=semilla_rf,\n",
        "         porcentaje_test=porcentaje_test,\n",
        "         titulo_matriz=\"Matriz de Confusión de Random Forest\")"
      ]
    },
    {
      "cell_type": "markdown",
      "metadata": {
        "id": "x4AHWQSkfNm_"
      },
      "source": [
        "<hr width=\"30%\" align=\"left\" />"
      ]
    },
    {
      "cell_type": "markdown",
      "metadata": {
        "id": "kbIy1_u_fO9V"
      },
      "source": [
        "## _**eXtreme Gradient Boosting**_"
      ]
    },
    {
      "cell_type": "markdown",
      "metadata": {
        "id": "aNw0BYWohckm"
      },
      "source": [
        "Como siempre, los parámetros del _eXtreme Gradient Boosting_ (XGBoost) son bastantes. <br/>\n",
        "Algunos optimizados son:\n",
        "\n",
        "* **n_estimators:** Cuántos árboles utilizar en la clasificación.\n",
        "\n",
        "* **max_depth:** Profundidad máxima que utilizar en cada árbol. _(A diferencia de por ejemplo el AdaBoost, acá los árboles pueden tener más profundidad)_\n",
        "\n",
        "* **max_leaves:** Cantidad de hojas máxima por árbol.\n",
        "\n",
        "* **learning_rate:** El coeficiente con el que ir suavizando los datos para no hacer _overfitting_."
      ]
    },
    {
      "cell_type": "code",
      "execution_count": 21,
      "metadata": {
        "id": "UgIz-gb6fOPB",
        "colab": {
          "base_uri": "https://localhost:8080/",
          "height": 248
        },
        "outputId": "84c88e83-5d58-4993-98f8-fa296a3bdca1"
      },
      "outputs": [
        {
          "output_type": "execute_result",
          "data": {
            "text/plain": [
              "XGBClassifier(base_score=None, booster=None, callbacks=None,\n",
              "              colsample_bylevel=None, colsample_bynode=None,\n",
              "              colsample_bytree=None, device=None, early_stopping_rounds=None,\n",
              "              enable_categorical=False, eval_metric=None, feature_types=None,\n",
              "              gamma=3.673469387755102, grow_policy=None, importance_type=None,\n",
              "              interaction_constraints=None, learning_rate=0.2285714285714286,\n",
              "              max_bin=None, max_cat_threshold=None, max_cat_to_onehot=None,\n",
              "              max_delta_step=None, max_depth=19, max_leaves=0,\n",
              "              min_child_weight=None, missing=nan, monotone_constraints=None,\n",
              "              multi_strategy=None, n_estimators=100, n_jobs=-1,\n",
              "              num_parallel_tree=None, random_state=1, ...)"
            ],
            "text/html": [
              "<style>#sk-container-id-3 {color: black;background-color: white;}#sk-container-id-3 pre{padding: 0;}#sk-container-id-3 div.sk-toggleable {background-color: white;}#sk-container-id-3 label.sk-toggleable__label {cursor: pointer;display: block;width: 100%;margin-bottom: 0;padding: 0.3em;box-sizing: border-box;text-align: center;}#sk-container-id-3 label.sk-toggleable__label-arrow:before {content: \"▸\";float: left;margin-right: 0.25em;color: #696969;}#sk-container-id-3 label.sk-toggleable__label-arrow:hover:before {color: black;}#sk-container-id-3 div.sk-estimator:hover label.sk-toggleable__label-arrow:before {color: black;}#sk-container-id-3 div.sk-toggleable__content {max-height: 0;max-width: 0;overflow: hidden;text-align: left;background-color: #f0f8ff;}#sk-container-id-3 div.sk-toggleable__content pre {margin: 0.2em;color: black;border-radius: 0.25em;background-color: #f0f8ff;}#sk-container-id-3 input.sk-toggleable__control:checked~div.sk-toggleable__content {max-height: 200px;max-width: 100%;overflow: auto;}#sk-container-id-3 input.sk-toggleable__control:checked~label.sk-toggleable__label-arrow:before {content: \"▾\";}#sk-container-id-3 div.sk-estimator input.sk-toggleable__control:checked~label.sk-toggleable__label {background-color: #d4ebff;}#sk-container-id-3 div.sk-label input.sk-toggleable__control:checked~label.sk-toggleable__label {background-color: #d4ebff;}#sk-container-id-3 input.sk-hidden--visually {border: 0;clip: rect(1px 1px 1px 1px);clip: rect(1px, 1px, 1px, 1px);height: 1px;margin: -1px;overflow: hidden;padding: 0;position: absolute;width: 1px;}#sk-container-id-3 div.sk-estimator {font-family: monospace;background-color: #f0f8ff;border: 1px dotted black;border-radius: 0.25em;box-sizing: border-box;margin-bottom: 0.5em;}#sk-container-id-3 div.sk-estimator:hover {background-color: #d4ebff;}#sk-container-id-3 div.sk-parallel-item::after {content: \"\";width: 100%;border-bottom: 1px solid gray;flex-grow: 1;}#sk-container-id-3 div.sk-label:hover label.sk-toggleable__label {background-color: #d4ebff;}#sk-container-id-3 div.sk-serial::before {content: \"\";position: absolute;border-left: 1px solid gray;box-sizing: border-box;top: 0;bottom: 0;left: 50%;z-index: 0;}#sk-container-id-3 div.sk-serial {display: flex;flex-direction: column;align-items: center;background-color: white;padding-right: 0.2em;padding-left: 0.2em;position: relative;}#sk-container-id-3 div.sk-item {position: relative;z-index: 1;}#sk-container-id-3 div.sk-parallel {display: flex;align-items: stretch;justify-content: center;background-color: white;position: relative;}#sk-container-id-3 div.sk-item::before, #sk-container-id-3 div.sk-parallel-item::before {content: \"\";position: absolute;border-left: 1px solid gray;box-sizing: border-box;top: 0;bottom: 0;left: 50%;z-index: -1;}#sk-container-id-3 div.sk-parallel-item {display: flex;flex-direction: column;z-index: 1;position: relative;background-color: white;}#sk-container-id-3 div.sk-parallel-item:first-child::after {align-self: flex-end;width: 50%;}#sk-container-id-3 div.sk-parallel-item:last-child::after {align-self: flex-start;width: 50%;}#sk-container-id-3 div.sk-parallel-item:only-child::after {width: 0;}#sk-container-id-3 div.sk-dashed-wrapped {border: 1px dashed gray;margin: 0 0.4em 0.5em 0.4em;box-sizing: border-box;padding-bottom: 0.4em;background-color: white;}#sk-container-id-3 div.sk-label label {font-family: monospace;font-weight: bold;display: inline-block;line-height: 1.2em;}#sk-container-id-3 div.sk-label-container {text-align: center;}#sk-container-id-3 div.sk-container {/* jupyter's `normalize.less` sets `[hidden] { display: none; }` but bootstrap.min.css set `[hidden] { display: none !important; }` so we also need the `!important` here to be able to override the default hidden behavior on the sphinx rendered scikit-learn.org. See: https://github.com/scikit-learn/scikit-learn/issues/21755 */display: inline-block !important;position: relative;}#sk-container-id-3 div.sk-text-repr-fallback {display: none;}</style><div id=\"sk-container-id-3\" class=\"sk-top-container\"><div class=\"sk-text-repr-fallback\"><pre>XGBClassifier(base_score=None, booster=None, callbacks=None,\n",
              "              colsample_bylevel=None, colsample_bynode=None,\n",
              "              colsample_bytree=None, device=None, early_stopping_rounds=None,\n",
              "              enable_categorical=False, eval_metric=None, feature_types=None,\n",
              "              gamma=3.673469387755102, grow_policy=None, importance_type=None,\n",
              "              interaction_constraints=None, learning_rate=0.2285714285714286,\n",
              "              max_bin=None, max_cat_threshold=None, max_cat_to_onehot=None,\n",
              "              max_delta_step=None, max_depth=19, max_leaves=0,\n",
              "              min_child_weight=None, missing=nan, monotone_constraints=None,\n",
              "              multi_strategy=None, n_estimators=100, n_jobs=-1,\n",
              "              num_parallel_tree=None, random_state=1, ...)</pre><b>In a Jupyter environment, please rerun this cell to show the HTML representation or trust the notebook. <br />On GitHub, the HTML representation is unable to render, please try loading this page with nbviewer.org.</b></div><div class=\"sk-container\" hidden><div class=\"sk-item\"><div class=\"sk-estimator sk-toggleable\"><input class=\"sk-toggleable__control sk-hidden--visually\" id=\"sk-estimator-id-3\" type=\"checkbox\" checked><label for=\"sk-estimator-id-3\" class=\"sk-toggleable__label sk-toggleable__label-arrow\">XGBClassifier</label><div class=\"sk-toggleable__content\"><pre>XGBClassifier(base_score=None, booster=None, callbacks=None,\n",
              "              colsample_bylevel=None, colsample_bynode=None,\n",
              "              colsample_bytree=None, device=None, early_stopping_rounds=None,\n",
              "              enable_categorical=False, eval_metric=None, feature_types=None,\n",
              "              gamma=3.673469387755102, grow_policy=None, importance_type=None,\n",
              "              interaction_constraints=None, learning_rate=0.2285714285714286,\n",
              "              max_bin=None, max_cat_threshold=None, max_cat_to_onehot=None,\n",
              "              max_delta_step=None, max_depth=19, max_leaves=0,\n",
              "              min_child_weight=None, missing=nan, monotone_constraints=None,\n",
              "              multi_strategy=None, n_estimators=100, n_jobs=-1,\n",
              "              num_parallel_tree=None, random_state=1, ...)</pre></div></div></div></div></div>"
            ]
          },
          "metadata": {},
          "execution_count": 21
        }
      ],
      "source": [
        "semilla_xgb = 1\n",
        "\n",
        "# # ----- Buscado por CV -----\n",
        "# parametros_cv_xgb = {\n",
        "#    \"n_estimators\": np.arange(50, 151),\n",
        "#    \"max_depth\": np.arange(0, 20),\n",
        "#    \"max_leaves\": np.arange(0, 30),\n",
        "#    \"gamma\": np.linspace(0.0, 15, 50),\n",
        "#    \"reg_alpha\": np.linspace(0.0, 5, 20),\n",
        "#    \"reg_lambda\": np.linspace(0.0, 5, 20),\n",
        "#    \"learning_rate\": np.linspace(0.0, 0.8, 50),\n",
        "#   \"n_jobs\": [-1],\n",
        "#    \"random_state\": [semilla_xgb]\n",
        "# }\n",
        "# cv_xgb = buscar_por_cv(metodo=\"random\",\n",
        "#                       clasificador=XGBClassifier(),\n",
        "#                       params_cv=parametros_cv_xgb,\n",
        "#                       puntaje=\"f1\",\n",
        "#                       rand_comb=50,\n",
        "#                       folds=10,\n",
        "#                       kfold_estratificado=True,\n",
        "#                       seed=semilla)\n",
        "# cv_xgb.fit(X=x_train, y=y_train_le)\n",
        "\n",
        "# print(f\"{cv_xgb.best_params_}\\n\"\n",
        "#      f\"{cv_xgb.best_score_}\")\n",
        "# xgb = cv_xgb.best_estimator_\n",
        "# # --------------------------\n",
        "\n",
        "# ----- Creado Manualmente -----\n",
        "xgb = XGBClassifier(random_state=semilla_xgb,\n",
        "                   n_jobs=-1,\n",
        "                   n_estimators=100,\n",
        "                   max_leaves=0,\n",
        "                   max_depth=19,\n",
        "                   learning_rate=0.2285714285714286,\n",
        "                   reg_lambda=1.3157894736842104,\n",
        "                   gamma=3.673469387755102,\n",
        "                   reg_alpha=1.0526315789473684)\n",
        "\n",
        "xgb.fit(x_train,\n",
        "        y_train_le)\n",
        "# ------------------------------"
      ]
    },
    {
      "cell_type": "code",
      "execution_count": 22,
      "metadata": {
        "id": "QFd9P0aNgEQD"
      },
      "outputs": [],
      "source": [
        "y_pred_xgb_enc = xgb.predict(x_test)\n",
        "y_pred_xgb = le.inverse_transform(y_pred_xgb_enc)"
      ]
    },
    {
      "cell_type": "code",
      "execution_count": 23,
      "metadata": {
        "id": "3VCSWFqygFlk",
        "colab": {
          "base_uri": "https://localhost:8080/",
          "height": 802
        },
        "outputId": "0ecb7e90-d127-4d93-deab-253f91573988"
      },
      "outputs": [
        {
          "output_type": "stream",
          "name": "stdout",
          "text": [
            "Splits Seed:\t3\n",
            "Model Seed:\t\t1\n",
            "Train/Test:\t\t80.0% / 20.0%\n",
            "-\n",
            "Accuracy:\t\t0.8584\n",
            "Recall:\t\t\t0.8678\n",
            "Precision:\t\t0.8517864153906557\n",
            "f1 score:\t\t0.8597186447394493\n",
            "\n",
            "\n",
            "              precision    recall  f1-score   support\n",
            "\n",
            "    negativo       0.87      0.85      0.86      5000\n",
            "    positivo       0.85      0.87      0.86      5000\n",
            "\n",
            "    accuracy                           0.86     10000\n",
            "   macro avg       0.86      0.86      0.86     10000\n",
            "weighted avg       0.86      0.86      0.86     10000\n",
            "\n"
          ]
        },
        {
          "output_type": "display_data",
          "data": {
            "text/plain": [
              "<Figure size 640x480 with 2 Axes>"
            ],
            "image/png": "[encoded data removed]"
          },
          "metadata": {}
        }
      ],
      "source": [
        "evaluar(y_test, y_pred_xgb,\n",
        "        seed_splits=semilla,\n",
        "        seed_modelo=semilla_xgb,\n",
        "        porcentaje_test=porcentaje_test,\n",
        "        titulo_matriz=\"Matriz de Confusión de XGBoost\")"
      ]
    },
    {
      "cell_type": "markdown",
      "metadata": {
        "id": "kVmkrSVXgzju"
      },
      "source": [
        "<hr width=\"30%\" align=\"left\" />"
      ]
    },
    {
      "cell_type": "markdown",
      "metadata": {
        "id": "vFJ2A60Hgz7E"
      },
      "source": [
        "## **Redes Neuronales**"
      ]
    },
    {
      "cell_type": "markdown",
      "metadata": {
        "id": "_HABSA40lAbi"
      },
      "source": [
        "Primero, una función auxiliar para ayudar a compilar las redes:"
      ]
    },
    {
      "cell_type": "code",
      "execution_count": 24,
      "metadata": {
        "id": "_nRdu3EBk6lG"
      },
      "outputs": [],
      "source": [
        "def crear_red():\n",
        "    \"\"\"\n",
        "    Crea y compila un red neuronal para ser usada más adelante.\n",
        "    \"\"\"\n",
        "\n",
        "    d_in = len(x_train.columns)\n",
        "\n",
        "    red = tf.keras.Sequential([\n",
        "            tf.keras.layers.Dense(150, input_dim=d_in, activation=\"relu\"),\n",
        "            tf.keras.layers.Dense(15, activation=\"relu\"),\n",
        "            tf.keras.layers.Dense(1, activation=\"sigmoid\")\n",
        "        ]\n",
        "    )\n",
        "\n",
        "    red.compile(\n",
        "        optimizer=tf.keras.optimizers.Adagrad(learning_rate=0.001),\n",
        "        loss=\"binary_crossentropy\",\n",
        "        metrics=[\"AUC\"],\n",
        "    )\n",
        "\n",
        "    return red"
      ]
    },
    {
      "cell_type": "markdown",
      "metadata": {
        "id": "lRFlJGamlE_h"
      },
      "source": [
        "Luego ya sí a entrenarlos:"
      ]
    },
    {
      "cell_type": "code",
      "execution_count": 25,
      "metadata": {
        "id": "v_vNatuWlH2O",
        "colab": {
          "base_uri": "https://localhost:8080/"
        },
        "outputId": "cbf82ecc-0b4f-497c-b7a3-9feeb27d91d1"
      },
      "outputs": [
        {
          "output_type": "stream",
          "name": "stdout",
          "text": [
            "Model: \"sequential\"\n",
            "_________________________________________________________________\n",
            " Layer (type)                Output Shape              Param #   \n",
            "=================================================================\n",
            " dense (Dense)               (None, 150)               1852800   \n",
            "                                                                 \n",
            " dense_1 (Dense)             (None, 15)                2265      \n",
            "                                                                 \n",
            " dense_2 (Dense)             (None, 1)                 16        \n",
            "                                                                 \n",
            "=================================================================\n",
            "Total params: 1,855,081\n",
            "Trainable params: 1,855,081\n",
            "Non-trainable params: 0\n",
            "_________________________________________________________________\n"
          ]
        },
        {
          "output_type": "execute_result",
          "data": {
            "text/plain": [
              "<keras.callbacks.History at 0x7d5a994ff3a0>"
            ]
          },
          "metadata": {},
          "execution_count": 25
        }
      ],
      "source": [
        "# # ----- Buscado por CV -----\n",
        "# parametros_cv_red = {\n",
        "#     \"epochs\": np.arange(90, 170),\n",
        "#     \"batch_size\": np.arange(10, 60),\n",
        "#     \"verbose\": [False]\n",
        "# }\n",
        "# cv_red = buscar_por_cv(metodo=\"random\",\n",
        "#                        clasificador=KerasClassifier(model=crear_red),\n",
        "#                        params_cv=parametros_cv_red,\n",
        "#                        puntaje=\"f1\",\n",
        "#                        rand_comb=10,\n",
        "#                        folds=10,\n",
        "#                        kfold_estratificado=True,\n",
        "#                        seed=semilla)\n",
        "# cv_red.fit(X=x_train, y=y_train)\n",
        "\n",
        "# print(f\"{cv_red.best_params_}\\n\"\n",
        "#       f\"{cv_red.best_score_}\")\n",
        "# red = cv_red.best_estimator_\n",
        "# # --------------------------\n",
        "\n",
        "# ----- Creado Manualmente -----\n",
        "red = crear_red()\n",
        "red.summary()\n",
        "red.fit(x_train_norm, y_train_le,\n",
        "        epochs=300, batch_size=100, verbose=False)\n",
        "# ------------------------------"
      ]
    },
    {
      "cell_type": "code",
      "execution_count": 26,
      "metadata": {
        "id": "RVUk3ZgLlRKO",
        "colab": {
          "base_uri": "https://localhost:8080/"
        },
        "outputId": "9a325942-5b0f-4afd-deb7-9e62968cc9fb"
      },
      "outputs": [
        {
          "output_type": "stream",
          "name": "stdout",
          "text": [
            "313/313 [==============================] - 2s 7ms/step\n"
          ]
        }
      ],
      "source": [
        "y_pred_red_sin_redondear = red.predict(x_test_norm)\n",
        "y_pred_red = le.inverse_transform(np.round(y_pred_red_sin_redondear).astype(int))"
      ]
    },
    {
      "cell_type": "code",
      "execution_count": 27,
      "metadata": {
        "id": "SBE03ol9lSxB",
        "colab": {
          "base_uri": "https://localhost:8080/",
          "height": 785
        },
        "outputId": "d04ffa60-475f-4e9e-ead0-f91b85eb80e4"
      },
      "outputs": [
        {
          "output_type": "stream",
          "name": "stdout",
          "text": [
            "Splits Seed:\t3\n",
            "Train/Test:\t\t80.0% / 20.0%\n",
            "-\n",
            "Accuracy:\t\t0.8689\n",
            "Recall:\t\t\t0.868\n",
            "Precision:\t\t0.8695652173913043\n",
            "f1 score:\t\t0.868781903713342\n",
            "\n",
            "\n",
            "              precision    recall  f1-score   support\n",
            "\n",
            "    negativo       0.87      0.87      0.87      5000\n",
            "    positivo       0.87      0.87      0.87      5000\n",
            "\n",
            "    accuracy                           0.87     10000\n",
            "   macro avg       0.87      0.87      0.87     10000\n",
            "weighted avg       0.87      0.87      0.87     10000\n",
            "\n"
          ]
        },
        {
          "output_type": "display_data",
          "data": {
            "text/plain": [
              "<Figure size 640x480 with 2 Axes>"
            ],
            "image/png": "[encoded data removed]"
          },
          "metadata": {}
        }
      ],
      "source": [
        "evaluar(y_test, y_pred_red,\n",
        "        seed_splits=semilla,\n",
        "        porcentaje_test=porcentaje_test,\n",
        "        titulo_matriz=\"Matriz de Confusión de Red Neuronal\")"
      ]
    },
    {
      "cell_type": "markdown",
      "source": [
        "<hr width=\"30%\" align=\"left\" />"
      ],
      "metadata": {
        "id": "d2IkZatdot-2"
      }
    },
    {
      "cell_type": "markdown",
      "source": [
        "## **Ensambles**"
      ],
      "metadata": {
        "id": "NNdTzE56ouk1"
      }
    },
    {
      "cell_type": "markdown",
      "source": [
        "Como los modelos se entrenan de nuevo cuando se ensamblan, crearemos copias de los modelos ya entrenados para que no dependan entre sí. <br/>\n",
        "Utilizaremos los modelos de _Random Forest_, _XGBoost_ y la red neuronal ya entrenadas, más unos ejemplos adicionales con otros parámetros."
      ],
      "metadata": {
        "id": "AS7rCbPNozIm"
      }
    },
    {
      "cell_type": "code",
      "source": [
        "def crear_red_extra():\n",
        "    \"\"\"\n",
        "    Crea y compila un red neuronal especialmente para los ensambles.\n",
        "    \"\"\"\n",
        "\n",
        "    d_in = len(x_train.columns)\n",
        "\n",
        "    red = tf.keras.Sequential([\n",
        "            tf.keras.layers.Dense(130, input_dim=d_in, activation=\"relu\"),\n",
        "            tf.keras.layers.Dense(10, activation=\"relu\"),\n",
        "            tf.keras.layers.Dense(1, activation=\"sigmoid\")\n",
        "        ]\n",
        "    )\n",
        "\n",
        "    red.compile(\n",
        "        optimizer=tf.keras.optimizers.Adagrad(learning_rate=0.001),\n",
        "        loss=\"binary_crossentropy\",\n",
        "        metrics=[\"AUC\"],\n",
        "    )\n",
        "\n",
        "    return red\n",
        "\n",
        "# ----- Creando Modelos -----\n",
        "rf_1 = RandomForestClassifier(max_features=\"log2\",\n",
        "                             oob_score=True,\n",
        "                             random_state=semilla_rf,\n",
        "                             n_jobs=-1,\n",
        "                             criterion=\"gini\",\n",
        "                             min_samples_leaf=2,\n",
        "                             min_samples_split=12,\n",
        "                             n_estimators=70)\n",
        "xgb_1 = XGBClassifier(random_state=semilla_xgb,\n",
        "                      n_jobs=-1,\n",
        "                      n_estimators=100,\n",
        "                      max_leaves=0,\n",
        "                      max_depth=19,\n",
        "                      learning_rate=0.2285714285714286,\n",
        "                      reg_lambda=1.3157894736842104,\n",
        "                      gamma=3.673469387755102,\n",
        "                      reg_alpha=1.0526315789473684)\n",
        "red_1 = KerasClassifier(model=crear_red, epochs=150, batch_size=100, verbose=0)\n",
        "rf_2 = RandomForestClassifier(max_features=\"log2\",\n",
        "                              oob_score=True,\n",
        "                              random_state=semilla_rf + 1,\n",
        "                              n_jobs=-1,\n",
        "                              criterion=\"gini\",\n",
        "                              min_samples_leaf=2,\n",
        "                              min_samples_split=13,\n",
        "                              n_estimators=115)\n",
        "xgb_2 = xgb = XGBClassifier(random_state=semilla_xgb,\n",
        "                            n_jobs=-1,\n",
        "                            n_estimators=137,\n",
        "                            max_leaves=0,\n",
        "                            max_depth=20,\n",
        "                            learning_rate=0.3285714285714286,\n",
        "                            reg_lambda=1.5157894736842104,\n",
        "                            gamma=2.173469387755102,\n",
        "                            reg_alpha=0.9526315789473684)\n",
        "red_2 = KerasClassifier(model=crear_red_extra, epochs=176, batch_size=117, verbose=0)\n",
        "# ---------------------------"
      ],
      "metadata": {
        "id": "BklrBczCo37C"
      },
      "execution_count": null,
      "outputs": []
    },
    {
      "cell_type": "code",
      "source": [
        "modelos = [\n",
        "    (\"rf_1\", rf_1),\n",
        "    (\"xgb_1\", xgb_1),\n",
        "    (\"red_1\", red_1),\n",
        "    (\"rf_2\", rf_2),\n",
        "    (\"xgb_2\", xgb_2),\n",
        "    (\"red_2\", red_2)\n",
        "]"
      ],
      "metadata": {
        "id": "VjBjoBZ1scLN"
      },
      "execution_count": null,
      "outputs": []
    },
    {
      "cell_type": "markdown",
      "source": [
        "<hr width=\"20%\" align=\"left\" />"
      ],
      "metadata": {
        "id": "q5rvENwyst6x"
      }
    },
    {
      "cell_type": "markdown",
      "source": [
        "### **Ensamble tipo _Voting_**"
      ],
      "metadata": {
        "id": "t27xnSTqsufJ"
      }
    },
    {
      "cell_type": "markdown",
      "source": [
        "Este ensamble decide con los votos individuales de cada modelo. <br/>\n",
        "Parámetros importantes son:\n",
        "\n",
        "* **estimators:** Todos los clasificadores a utilizar.\n",
        "\n",
        "* **voting:** La estrategia de voto:\n",
        "    - _hard:_ Elige el valor dado por mayoría estricta.\n",
        "    - _soft:_ Pondera con cálculos como el promedio, etc."
      ],
      "metadata": {
        "id": "DKk_ATIYtJNu"
      }
    },
    {
      "cell_type": "code",
      "source": [
        "voting = VotingClassifier(estimators=modelos,\n",
        "                          voting=\"soft\",\n",
        "                          n_jobs=-1)\n",
        "voting.fit(X=x_train_norm,\n",
        "           y=y_train_le)"
      ],
      "metadata": {
        "id": "1l0IzioLtncK",
        "colab": {
          "base_uri": "https://localhost:8080/",
          "height": 109
        },
        "outputId": "f1fc4d66-67c6-4f43-da13-4887d8b18450"
      },
      "execution_count": null,
      "outputs": [
        {
          "output_type": "execute_result",
          "data": {
            "text/plain": [
              "VotingClassifier(estimators=[('rf_1',\n",
              "                              RandomForestClassifier(max_features='log2',\n",
              "                                                     min_samples_leaf=2,\n",
              "                                                     min_samples_split=12,\n",
              "                                                     n_estimators=70, n_jobs=-1,\n",
              "                                                     oob_score=True,\n",
              "                                                     random_state=1)),\n",
              "                             ('xgb_1',\n",
              "                              XGBClassifier(base_score=None, booster=None,\n",
              "                                            callbacks=None,\n",
              "                                            colsample_bylevel=None,\n",
              "                                            colsample_bynode=None,\n",
              "                                            colsample_bytree=None, device=None,\n",
              "                                            early_stopping_rounds=None...\n",
              "                                            max_cat_to_onehot=None,\n",
              "                                            max_delta_step=None, max_depth=20,\n",
              "                                            max_leaves=0, min_child_weight=None,\n",
              "                                            missing=nan,\n",
              "                                            monotone_constraints=None,\n",
              "                                            multi_strategy=None,\n",
              "                                            n_estimators=137, n_jobs=-1,\n",
              "                                            num_parallel_tree=None,\n",
              "                                            random_state=1, ...)),\n",
              "                             ('red_2',\n",
              "                              KerasClassifier(batch_size=117, epochs=176, model=<function crear_red_extra at 0x7e323d2e9480>, verbose=0))],\n",
              "                 n_jobs=-1, voting='soft')"
            ],
            "text/html": [
              "<style>#sk-container-id-3 {color: black;background-color: white;}#sk-container-id-3 pre{padding: 0;}#sk-container-id-3 div.sk-toggleable {background-color: white;}#sk-container-id-3 label.sk-toggleable__label {cursor: pointer;display: block;width: 100%;margin-bottom: 0;padding: 0.3em;box-sizing: border-box;text-align: center;}#sk-container-id-3 label.sk-toggleable__label-arrow:before {content: \"▸\";float: left;margin-right: 0.25em;color: #696969;}#sk-container-id-3 label.sk-toggleable__label-arrow:hover:before {color: black;}#sk-container-id-3 div.sk-estimator:hover label.sk-toggleable__label-arrow:before {color: black;}#sk-container-id-3 div.sk-toggleable__content {max-height: 0;max-width: 0;overflow: hidden;text-align: left;background-color: #f0f8ff;}#sk-container-id-3 div.sk-toggleable__content pre {margin: 0.2em;color: black;border-radius: 0.25em;background-color: #f0f8ff;}#sk-container-id-3 input.sk-toggleable__control:checked~div.sk-toggleable__content {max-height: 200px;max-width: 100%;overflow: auto;}#sk-container-id-3 input.sk-toggleable__control:checked~label.sk-toggleable__label-arrow:before {content: \"▾\";}#sk-container-id-3 div.sk-estimator input.sk-toggleable__control:checked~label.sk-toggleable__label {background-color: #d4ebff;}#sk-container-id-3 div.sk-label input.sk-toggleable__control:checked~label.sk-toggleable__label {background-color: #d4ebff;}#sk-container-id-3 input.sk-hidden--visually {border: 0;clip: rect(1px 1px 1px 1px);clip: rect(1px, 1px, 1px, 1px);height: 1px;margin: -1px;overflow: hidden;padding: 0;position: absolute;width: 1px;}#sk-container-id-3 div.sk-estimator {font-family: monospace;background-color: #f0f8ff;border: 1px dotted black;border-radius: 0.25em;box-sizing: border-box;margin-bottom: 0.5em;}#sk-container-id-3 div.sk-estimator:hover {background-color: #d4ebff;}#sk-container-id-3 div.sk-parallel-item::after {content: \"\";width: 100%;border-bottom: 1px solid gray;flex-grow: 1;}#sk-container-id-3 div.sk-label:hover label.sk-toggleable__label {background-color: #d4ebff;}#sk-container-id-3 div.sk-serial::before {content: \"\";position: absolute;border-left: 1px solid gray;box-sizing: border-box;top: 0;bottom: 0;left: 50%;z-index: 0;}#sk-container-id-3 div.sk-serial {display: flex;flex-direction: column;align-items: center;background-color: white;padding-right: 0.2em;padding-left: 0.2em;position: relative;}#sk-container-id-3 div.sk-item {position: relative;z-index: 1;}#sk-container-id-3 div.sk-parallel {display: flex;align-items: stretch;justify-content: center;background-color: white;position: relative;}#sk-container-id-3 div.sk-item::before, #sk-container-id-3 div.sk-parallel-item::before {content: \"\";position: absolute;border-left: 1px solid gray;box-sizing: border-box;top: 0;bottom: 0;left: 50%;z-index: -1;}#sk-container-id-3 div.sk-parallel-item {display: flex;flex-direction: column;z-index: 1;position: relative;background-color: white;}#sk-container-id-3 div.sk-parallel-item:first-child::after {align-self: flex-end;width: 50%;}#sk-container-id-3 div.sk-parallel-item:last-child::after {align-self: flex-start;width: 50%;}#sk-container-id-3 div.sk-parallel-item:only-child::after {width: 0;}#sk-container-id-3 div.sk-dashed-wrapped {border: 1px dashed gray;margin: 0 0.4em 0.5em 0.4em;box-sizing: border-box;padding-bottom: 0.4em;background-color: white;}#sk-container-id-3 div.sk-label label {font-family: monospace;font-weight: bold;display: inline-block;line-height: 1.2em;}#sk-container-id-3 div.sk-label-container {text-align: center;}#sk-container-id-3 div.sk-container {/* jupyter's `normalize.less` sets `[hidden] { display: none; }` but bootstrap.min.css set `[hidden] { display: none !important; }` so we also need the `!important` here to be able to override the default hidden behavior on the sphinx rendered scikit-learn.org. See: https://github.com/scikit-learn/scikit-learn/issues/21755 */display: inline-block !important;position: relative;}#sk-container-id-3 div.sk-text-repr-fallback {display: none;}</style><div id=\"sk-container-id-3\" class=\"sk-top-container\"><div class=\"sk-text-repr-fallback\"><pre>VotingClassifier(estimators=[(&#x27;rf_1&#x27;,\n",
              "                              RandomForestClassifier(max_features=&#x27;log2&#x27;,\n",
              "                                                     min_samples_leaf=2,\n",
              "                                                     min_samples_split=12,\n",
              "                                                     n_estimators=70, n_jobs=-1,\n",
              "                                                     oob_score=True,\n",
              "                                                     random_state=1)),\n",
              "                             (&#x27;xgb_1&#x27;,\n",
              "                              XGBClassifier(base_score=None, booster=None,\n",
              "                                            callbacks=None,\n",
              "                                            colsample_bylevel=None,\n",
              "                                            colsample_bynode=None,\n",
              "                                            colsample_bytree=None, device=None,\n",
              "                                            early_stopping_rounds=None...\n",
              "                                            max_cat_to_onehot=None,\n",
              "                                            max_delta_step=None, max_depth=20,\n",
              "                                            max_leaves=0, min_child_weight=None,\n",
              "                                            missing=nan,\n",
              "                                            monotone_constraints=None,\n",
              "                                            multi_strategy=None,\n",
              "                                            n_estimators=137, n_jobs=-1,\n",
              "                                            num_parallel_tree=None,\n",
              "                                            random_state=1, ...)),\n",
              "                             (&#x27;red_2&#x27;,\n",
              "                              KerasClassifier(batch_size=117, epochs=176, model=&lt;function crear_red_extra at 0x7e323d2e9480&gt;, verbose=0))],\n",
              "                 n_jobs=-1, voting=&#x27;soft&#x27;)</pre><b>In a Jupyter environment, please rerun this cell to show the HTML representation or trust the notebook. <br />On GitHub, the HTML representation is unable to render, please try loading this page with nbviewer.org.</b></div><div class=\"sk-container\" hidden><div class=\"sk-item sk-dashed-wrapped\"><div class=\"sk-label-container\"><div class=\"sk-label sk-toggleable\"><input class=\"sk-toggleable__control sk-hidden--visually\" id=\"sk-estimator-id-15\" type=\"checkbox\" ><label for=\"sk-estimator-id-15\" class=\"sk-toggleable__label sk-toggleable__label-arrow\">VotingClassifier</label><div class=\"sk-toggleable__content\"><pre>VotingClassifier(estimators=[(&#x27;rf_1&#x27;,\n",
              "                              RandomForestClassifier(max_features=&#x27;log2&#x27;,\n",
              "                                                     min_samples_leaf=2,\n",
              "                                                     min_samples_split=12,\n",
              "                                                     n_estimators=70, n_jobs=-1,\n",
              "                                                     oob_score=True,\n",
              "                                                     random_state=1)),\n",
              "                             (&#x27;xgb_1&#x27;,\n",
              "                              XGBClassifier(base_score=None, booster=None,\n",
              "                                            callbacks=None,\n",
              "                                            colsample_bylevel=None,\n",
              "                                            colsample_bynode=None,\n",
              "                                            colsample_bytree=None, device=None,\n",
              "                                            early_stopping_rounds=None...\n",
              "                                            max_cat_to_onehot=None,\n",
              "                                            max_delta_step=None, max_depth=20,\n",
              "                                            max_leaves=0, min_child_weight=None,\n",
              "                                            missing=nan,\n",
              "                                            monotone_constraints=None,\n",
              "                                            multi_strategy=None,\n",
              "                                            n_estimators=137, n_jobs=-1,\n",
              "                                            num_parallel_tree=None,\n",
              "                                            random_state=1, ...)),\n",
              "                             (&#x27;red_2&#x27;,\n",
              "                              KerasClassifier(batch_size=117, epochs=176, model=&lt;function crear_red_extra at 0x7e323d2e9480&gt;, verbose=0))],\n",
              "                 n_jobs=-1, voting=&#x27;soft&#x27;)</pre></div></div></div><div class=\"sk-parallel\"><div class=\"sk-parallel-item\"><div class=\"sk-item\"><div class=\"sk-label-container\"><div class=\"sk-label sk-toggleable\"><label>rf_1</label></div></div><div class=\"sk-serial\"><div class=\"sk-item\"><div class=\"sk-estimator sk-toggleable\"><input class=\"sk-toggleable__control sk-hidden--visually\" id=\"sk-estimator-id-16\" type=\"checkbox\" ><label for=\"sk-estimator-id-16\" class=\"sk-toggleable__label sk-toggleable__label-arrow\">RandomForestClassifier</label><div class=\"sk-toggleable__content\"><pre>RandomForestClassifier(max_features=&#x27;log2&#x27;, min_samples_leaf=2,\n",
              "                       min_samples_split=12, n_estimators=70, n_jobs=-1,\n",
              "                       oob_score=True, random_state=1)</pre></div></div></div></div></div></div><div class=\"sk-parallel-item\"><div class=\"sk-item\"><div class=\"sk-label-container\"><div class=\"sk-label sk-toggleable\"><label>xgb_1</label></div></div><div class=\"sk-serial\"><div class=\"sk-item\"><div class=\"sk-estimator sk-toggleable\"><input class=\"sk-toggleable__control sk-hidden--visually\" id=\"sk-estimator-id-17\" type=\"checkbox\" ><label for=\"sk-estimator-id-17\" class=\"sk-toggleable__label sk-toggleable__label-arrow\">XGBClassifier</label><div class=\"sk-toggleable__content\"><pre>XGBClassifier(base_score=None, booster=None, callbacks=None,\n",
              "              colsample_bylevel=None, colsample_bynode=None,\n",
              "              colsample_bytree=None, device=None, early_stopping_rounds=None,\n",
              "              enable_categorical=False, eval_metric=None, feature_types=None,\n",
              "              gamma=3.673469387755102, grow_policy=None, importance_type=None,\n",
              "              interaction_constraints=None, learning_rate=0.2285714285714286,\n",
              "              max_bin=None, max_cat_threshold=None, max_cat_to_onehot=None,\n",
              "              max_delta_step=None, max_depth=19, max_leaves=0,\n",
              "              min_child_weight=None, missing=nan, monotone_constraints=None,\n",
              "              multi_strategy=None, n_estimators=100, n_jobs=-1,\n",
              "              num_parallel_tree=None, random_state=1, ...)</pre></div></div></div></div></div></div><div class=\"sk-parallel-item\"><div class=\"sk-item\"><div class=\"sk-label-container\"><div class=\"sk-label sk-toggleable\"><label>red_1</label></div></div><div class=\"sk-serial\"><div class=\"sk-item\"><div class=\"sk-estimator sk-toggleable\"><input class=\"sk-toggleable__control sk-hidden--visually\" id=\"sk-estimator-id-18\" type=\"checkbox\" ><label for=\"sk-estimator-id-18\" class=\"sk-toggleable__label sk-toggleable__label-arrow\">KerasClassifier</label><div class=\"sk-toggleable__content\"><pre>KerasClassifier(\n",
              "\tmodel=&lt;function crear_red at 0x7e323d2e96c0&gt;\n",
              "\tbuild_fn=None\n",
              "\twarm_start=False\n",
              "\trandom_state=None\n",
              "\toptimizer=rmsprop\n",
              "\tloss=None\n",
              "\tmetrics=None\n",
              "\tbatch_size=100\n",
              "\tvalidation_batch_size=None\n",
              "\tverbose=0\n",
              "\tcallbacks=None\n",
              "\tvalidation_split=0.0\n",
              "\tshuffle=True\n",
              "\trun_eagerly=False\n",
              "\tepochs=150\n",
              "\tclass_weight=None\n",
              ")</pre></div></div></div></div></div></div><div class=\"sk-parallel-item\"><div class=\"sk-item\"><div class=\"sk-label-container\"><div class=\"sk-label sk-toggleable\"><label>rf_2</label></div></div><div class=\"sk-serial\"><div class=\"sk-item\"><div class=\"sk-estimator sk-toggleable\"><input class=\"sk-toggleable__control sk-hidden--visually\" id=\"sk-estimator-id-19\" type=\"checkbox\" ><label for=\"sk-estimator-id-19\" class=\"sk-toggleable__label sk-toggleable__label-arrow\">RandomForestClassifier</label><div class=\"sk-toggleable__content\"><pre>RandomForestClassifier(max_features=&#x27;log2&#x27;, min_samples_leaf=2,\n",
              "                       min_samples_split=13, n_estimators=115, n_jobs=-1,\n",
              "                       oob_score=True, random_state=2)</pre></div></div></div></div></div></div><div class=\"sk-parallel-item\"><div class=\"sk-item\"><div class=\"sk-label-container\"><div class=\"sk-label sk-toggleable\"><label>xgb_2</label></div></div><div class=\"sk-serial\"><div class=\"sk-item\"><div class=\"sk-estimator sk-toggleable\"><input class=\"sk-toggleable__control sk-hidden--visually\" id=\"sk-estimator-id-20\" type=\"checkbox\" ><label for=\"sk-estimator-id-20\" class=\"sk-toggleable__label sk-toggleable__label-arrow\">XGBClassifier</label><div class=\"sk-toggleable__content\"><pre>XGBClassifier(base_score=None, booster=None, callbacks=None,\n",
              "              colsample_bylevel=None, colsample_bynode=None,\n",
              "              colsample_bytree=None, device=None, early_stopping_rounds=None,\n",
              "              enable_categorical=False, eval_metric=None, feature_types=None,\n",
              "              gamma=2.173469387755102, grow_policy=None, importance_type=None,\n",
              "              interaction_constraints=None, learning_rate=0.3285714285714286,\n",
              "              max_bin=None, max_cat_threshold=None, max_cat_to_onehot=None,\n",
              "              max_delta_step=None, max_depth=20, max_leaves=0,\n",
              "              min_child_weight=None, missing=nan, monotone_constraints=None,\n",
              "              multi_strategy=None, n_estimators=137, n_jobs=-1,\n",
              "              num_parallel_tree=None, random_state=1, ...)</pre></div></div></div></div></div></div><div class=\"sk-parallel-item\"><div class=\"sk-item\"><div class=\"sk-label-container\"><div class=\"sk-label sk-toggleable\"><label>red_2</label></div></div><div class=\"sk-serial\"><div class=\"sk-item\"><div class=\"sk-estimator sk-toggleable\"><input class=\"sk-toggleable__control sk-hidden--visually\" id=\"sk-estimator-id-21\" type=\"checkbox\" ><label for=\"sk-estimator-id-21\" class=\"sk-toggleable__label sk-toggleable__label-arrow\">KerasClassifier</label><div class=\"sk-toggleable__content\"><pre>KerasClassifier(\n",
              "\tmodel=&lt;function crear_red_extra at 0x7e323d2e9480&gt;\n",
              "\tbuild_fn=None\n",
              "\twarm_start=False\n",
              "\trandom_state=None\n",
              "\toptimizer=rmsprop\n",
              "\tloss=None\n",
              "\tmetrics=None\n",
              "\tbatch_size=117\n",
              "\tvalidation_batch_size=None\n",
              "\tverbose=0\n",
              "\tcallbacks=None\n",
              "\tvalidation_split=0.0\n",
              "\tshuffle=True\n",
              "\trun_eagerly=False\n",
              "\tepochs=176\n",
              "\tclass_weight=None\n",
              ")</pre></div></div></div></div></div></div></div></div></div></div>"
            ]
          },
          "metadata": {},
          "execution_count": 42
        }
      ]
    },
    {
      "cell_type": "code",
      "source": [
        "y_pred_voting_enc = voting.predict(x_test_norm)\n",
        "y_pred_voting = le.inverse_transform(y_pred_voting_enc)"
      ],
      "metadata": {
        "id": "zWoyw_emtqtF"
      },
      "execution_count": null,
      "outputs": []
    },
    {
      "cell_type": "code",
      "source": [
        "evaluar(y_test, y_pred_voting,\n",
        "        seed_splits=semilla,\n",
        "        porcentaje_test=porcentaje_test,\n",
        "        titulo_matriz=\"Matriz de Confusión de Ensamble (Voting)\")"
      ],
      "metadata": {
        "id": "VjL7QgRFtq6p",
        "colab": {
          "base_uri": "https://localhost:8080/",
          "height": 785
        },
        "outputId": "66d750b0-6071-4225-985a-e1a5b1331eee"
      },
      "execution_count": null,
      "outputs": [
        {
          "output_type": "stream",
          "name": "stdout",
          "text": [
            "Splits Seed:\t3\n",
            "Train/Test:\t\t80.0% / 20.0%\n",
            "-\n",
            "Accuracy:\t\t0.8829\n",
            "Recall:\t\t\t0.8888\n",
            "Precision:\t\t0.8784344732160506\n",
            "f1 score:\t\t0.883586837657819\n",
            "\n",
            "\n",
            "              precision    recall  f1-score   support\n",
            "\n",
            "    negativo       0.89      0.88      0.88      5000\n",
            "    positivo       0.88      0.89      0.88      5000\n",
            "\n",
            "    accuracy                           0.88     10000\n",
            "   macro avg       0.88      0.88      0.88     10000\n",
            "weighted avg       0.88      0.88      0.88     10000\n",
            "\n"
          ]
        },
        {
          "output_type": "display_data",
          "data": {
            "text/plain": [
              "<Figure size 640x480 with 2 Axes>"
            ],
            "image/png": "[encoded data removed]"
          },
          "metadata": {}
        }
      ]
    },
    {
      "cell_type": "markdown",
      "source": [
        "<hr width=\"20%\" align=\"left\" />"
      ],
      "metadata": {
        "id": "AMWzb-DSVMgk"
      }
    },
    {
      "cell_type": "markdown",
      "source": [
        "### **Ensamble tipo _Stacking_**"
      ],
      "metadata": {
        "id": "zcWEBkhpVO38"
      }
    },
    {
      "cell_type": "markdown",
      "source": [
        "Este ensamble hace uso de un \"meta-modelo\" para decidir con qué modelo predecir. <br/>\n",
        "Los parámetros son:\n",
        "\n",
        "* **estimators:** Todos los clasificadores a utilizar.\n",
        "\n",
        "* **final_estimator:** El \"meta-modelo\" que decide qué modelo de **estimators** utilizar.\n",
        "\n",
        "* **passtrough:** Si el meta-modelo se entrena también con los datos de entrenamiento, y no sólo las predicciones hechas."
      ],
      "metadata": {
        "id": "6178zGRuVVmN"
      }
    },
    {
      "cell_type": "markdown",
      "source": [
        "Creemos entonces primero el meta-modelo:"
      ],
      "metadata": {
        "id": "cOmDEc25VoAz"
      }
    },
    {
      "cell_type": "code",
      "source": [
        "meta_modelo = LogisticRegressionCV()"
      ],
      "metadata": {
        "id": "iMFgn6lHVtbm"
      },
      "execution_count": null,
      "outputs": []
    },
    {
      "cell_type": "code",
      "source": [
        "stacking = StackingClassifier(estimators=modelos,\n",
        "                              final_estimator=meta_modelo,\n",
        "                              passthrough=True,\n",
        "                              cv=KFold(n_splits=5),\n",
        "                              n_jobs=-1,\n",
        "                              verbose=2)\n",
        "stacking.fit(X=x_train_norm,\n",
        "             y=y_train_le)"
      ],
      "metadata": {
        "colab": {
          "base_uri": "https://localhost:8080/",
          "height": 161
        },
        "id": "9uJpgfkYVtt9",
        "outputId": "19545eed-bbda-4f09-c142-d2150ecd65f5"
      },
      "execution_count": null,
      "outputs": [
        {
          "output_type": "execute_result",
          "data": {
            "text/plain": [
              "StackingClassifier(cv=KFold(n_splits=5, random_state=RandomState(MT19937) at 0x7E32001CC740,\n",
              "   shuffle=False),\n",
              "                   estimators=[('rf_1',\n",
              "                                RandomForestClassifier(max_features='log2',\n",
              "                                                       min_samples_leaf=2,\n",
              "                                                       min_samples_split=12,\n",
              "                                                       n_estimators=70,\n",
              "                                                       n_jobs=-1,\n",
              "                                                       oob_score=True,\n",
              "                                                       random_state=1)),\n",
              "                               ('xgb_1',\n",
              "                                XGBClassifier(base_score=None, booster=None,\n",
              "                                              callbacks=None,\n",
              "                                              colsample_bylevel=...\n",
              "                                              max_leaves=0,\n",
              "                                              min_child_weight=None,\n",
              "                                              missing=nan,\n",
              "                                              monotone_constraints=None,\n",
              "                                              multi_strategy=None,\n",
              "                                              n_estimators=137, n_jobs=-1,\n",
              "                                              num_parallel_tree=None,\n",
              "                                              random_state=1, ...)),\n",
              "                               ('red_2',\n",
              "                                KerasClassifier(batch_size=117, epochs=176, model=<function crear_red_extra at 0x7e323d2e9480>, verbose=0))],\n",
              "                   final_estimator=LogisticRegressionCV(), n_jobs=-1,\n",
              "                   passthrough=True, verbose=2)"
            ],
            "text/html": [
              "<style>#sk-container-id-4 {color: black;background-color: white;}#sk-container-id-4 pre{padding: 0;}#sk-container-id-4 div.sk-toggleable {background-color: white;}#sk-container-id-4 label.sk-toggleable__label {cursor: pointer;display: block;width: 100%;margin-bottom: 0;padding: 0.3em;box-sizing: border-box;text-align: center;}#sk-container-id-4 label.sk-toggleable__label-arrow:before {content: \"▸\";float: left;margin-right: 0.25em;color: #696969;}#sk-container-id-4 label.sk-toggleable__label-arrow:hover:before {color: black;}#sk-container-id-4 div.sk-estimator:hover label.sk-toggleable__label-arrow:before {color: black;}#sk-container-id-4 div.sk-toggleable__content {max-height: 0;max-width: 0;overflow: hidden;text-align: left;background-color: #f0f8ff;}#sk-container-id-4 div.sk-toggleable__content pre {margin: 0.2em;color: black;border-radius: 0.25em;background-color: #f0f8ff;}#sk-container-id-4 input.sk-toggleable__control:checked~div.sk-toggleable__content {max-height: 200px;max-width: 100%;overflow: auto;}#sk-container-id-4 input.sk-toggleable__control:checked~label.sk-toggleable__label-arrow:before {content: \"▾\";}#sk-container-id-4 div.sk-estimator input.sk-toggleable__control:checked~label.sk-toggleable__label {background-color: #d4ebff;}#sk-container-id-4 div.sk-label input.sk-toggleable__control:checked~label.sk-toggleable__label {background-color: #d4ebff;}#sk-container-id-4 input.sk-hidden--visually {border: 0;clip: rect(1px 1px 1px 1px);clip: rect(1px, 1px, 1px, 1px);height: 1px;margin: -1px;overflow: hidden;padding: 0;position: absolute;width: 1px;}#sk-container-id-4 div.sk-estimator {font-family: monospace;background-color: #f0f8ff;border: 1px dotted black;border-radius: 0.25em;box-sizing: border-box;margin-bottom: 0.5em;}#sk-container-id-4 div.sk-estimator:hover {background-color: #d4ebff;}#sk-container-id-4 div.sk-parallel-item::after {content: \"\";width: 100%;border-bottom: 1px solid gray;flex-grow: 1;}#sk-container-id-4 div.sk-label:hover label.sk-toggleable__label {background-color: #d4ebff;}#sk-container-id-4 div.sk-serial::before {content: \"\";position: absolute;border-left: 1px solid gray;box-sizing: border-box;top: 0;bottom: 0;left: 50%;z-index: 0;}#sk-container-id-4 div.sk-serial {display: flex;flex-direction: column;align-items: center;background-color: white;padding-right: 0.2em;padding-left: 0.2em;position: relative;}#sk-container-id-4 div.sk-item {position: relative;z-index: 1;}#sk-container-id-4 div.sk-parallel {display: flex;align-items: stretch;justify-content: center;background-color: white;position: relative;}#sk-container-id-4 div.sk-item::before, #sk-container-id-4 div.sk-parallel-item::before {content: \"\";position: absolute;border-left: 1px solid gray;box-sizing: border-box;top: 0;bottom: 0;left: 50%;z-index: -1;}#sk-container-id-4 div.sk-parallel-item {display: flex;flex-direction: column;z-index: 1;position: relative;background-color: white;}#sk-container-id-4 div.sk-parallel-item:first-child::after {align-self: flex-end;width: 50%;}#sk-container-id-4 div.sk-parallel-item:last-child::after {align-self: flex-start;width: 50%;}#sk-container-id-4 div.sk-parallel-item:only-child::after {width: 0;}#sk-container-id-4 div.sk-dashed-wrapped {border: 1px dashed gray;margin: 0 0.4em 0.5em 0.4em;box-sizing: border-box;padding-bottom: 0.4em;background-color: white;}#sk-container-id-4 div.sk-label label {font-family: monospace;font-weight: bold;display: inline-block;line-height: 1.2em;}#sk-container-id-4 div.sk-label-container {text-align: center;}#sk-container-id-4 div.sk-container {/* jupyter's `normalize.less` sets `[hidden] { display: none; }` but bootstrap.min.css set `[hidden] { display: none !important; }` so we also need the `!important` here to be able to override the default hidden behavior on the sphinx rendered scikit-learn.org. See: https://github.com/scikit-learn/scikit-learn/issues/21755 */display: inline-block !important;position: relative;}#sk-container-id-4 div.sk-text-repr-fallback {display: none;}</style><div id=\"sk-container-id-4\" class=\"sk-top-container\"><div class=\"sk-text-repr-fallback\"><pre>StackingClassifier(cv=KFold(n_splits=5, random_state=RandomState(MT19937) at 0x7E32001CC740,\n",
              "   shuffle=False),\n",
              "                   estimators=[(&#x27;rf_1&#x27;,\n",
              "                                RandomForestClassifier(max_features=&#x27;log2&#x27;,\n",
              "                                                       min_samples_leaf=2,\n",
              "                                                       min_samples_split=12,\n",
              "                                                       n_estimators=70,\n",
              "                                                       n_jobs=-1,\n",
              "                                                       oob_score=True,\n",
              "                                                       random_state=1)),\n",
              "                               (&#x27;xgb_1&#x27;,\n",
              "                                XGBClassifier(base_score=None, booster=None,\n",
              "                                              callbacks=None,\n",
              "                                              colsample_bylevel=...\n",
              "                                              max_leaves=0,\n",
              "                                              min_child_weight=None,\n",
              "                                              missing=nan,\n",
              "                                              monotone_constraints=None,\n",
              "                                              multi_strategy=None,\n",
              "                                              n_estimators=137, n_jobs=-1,\n",
              "                                              num_parallel_tree=None,\n",
              "                                              random_state=1, ...)),\n",
              "                               (&#x27;red_2&#x27;,\n",
              "                                KerasClassifier(batch_size=117, epochs=176, model=&lt;function crear_red_extra at 0x7e323d2e9480&gt;, verbose=0))],\n",
              "                   final_estimator=LogisticRegressionCV(), n_jobs=-1,\n",
              "                   passthrough=True, verbose=2)</pre><b>In a Jupyter environment, please rerun this cell to show the HTML representation or trust the notebook. <br />On GitHub, the HTML representation is unable to render, please try loading this page with nbviewer.org.</b></div><div class=\"sk-container\" hidden><div class=\"sk-item sk-dashed-wrapped\"><div class=\"sk-label-container\"><div class=\"sk-label sk-toggleable\"><input class=\"sk-toggleable__control sk-hidden--visually\" id=\"sk-estimator-id-22\" type=\"checkbox\" ><label for=\"sk-estimator-id-22\" class=\"sk-toggleable__label sk-toggleable__label-arrow\">StackingClassifier</label><div class=\"sk-toggleable__content\"><pre>StackingClassifier(cv=KFold(n_splits=5, random_state=RandomState(MT19937) at 0x7E32001CC740,\n",
              "   shuffle=False),\n",
              "                   estimators=[(&#x27;rf_1&#x27;,\n",
              "                                RandomForestClassifier(max_features=&#x27;log2&#x27;,\n",
              "                                                       min_samples_leaf=2,\n",
              "                                                       min_samples_split=12,\n",
              "                                                       n_estimators=70,\n",
              "                                                       n_jobs=-1,\n",
              "                                                       oob_score=True,\n",
              "                                                       random_state=1)),\n",
              "                               (&#x27;xgb_1&#x27;,\n",
              "                                XGBClassifier(base_score=None, booster=None,\n",
              "                                              callbacks=None,\n",
              "                                              colsample_bylevel=...\n",
              "                                              max_leaves=0,\n",
              "                                              min_child_weight=None,\n",
              "                                              missing=nan,\n",
              "                                              monotone_constraints=None,\n",
              "                                              multi_strategy=None,\n",
              "                                              n_estimators=137, n_jobs=-1,\n",
              "                                              num_parallel_tree=None,\n",
              "                                              random_state=1, ...)),\n",
              "                               (&#x27;red_2&#x27;,\n",
              "                                KerasClassifier(batch_size=117, epochs=176, model=&lt;function crear_red_extra at 0x7e323d2e9480&gt;, verbose=0))],\n",
              "                   final_estimator=LogisticRegressionCV(), n_jobs=-1,\n",
              "                   passthrough=True, verbose=2)</pre></div></div></div><div class=\"sk-serial\"><div class=\"sk-item\"><div class=\"sk-parallel\"><div class=\"sk-parallel-item\"><div class=\"sk-item\"><div class=\"sk-label-container\"><div class=\"sk-label sk-toggleable\"><label>rf_1</label></div></div><div class=\"sk-serial\"><div class=\"sk-item\"><div class=\"sk-estimator sk-toggleable\"><input class=\"sk-toggleable__control sk-hidden--visually\" id=\"sk-estimator-id-23\" type=\"checkbox\" ><label for=\"sk-estimator-id-23\" class=\"sk-toggleable__label sk-toggleable__label-arrow\">RandomForestClassifier</label><div class=\"sk-toggleable__content\"><pre>RandomForestClassifier(max_features=&#x27;log2&#x27;, min_samples_leaf=2,\n",
              "                       min_samples_split=12, n_estimators=70, n_jobs=-1,\n",
              "                       oob_score=True, random_state=1)</pre></div></div></div></div></div></div><div class=\"sk-parallel-item\"><div class=\"sk-item\"><div class=\"sk-label-container\"><div class=\"sk-label sk-toggleable\"><label>xgb_1</label></div></div><div class=\"sk-serial\"><div class=\"sk-item\"><div class=\"sk-estimator sk-toggleable\"><input class=\"sk-toggleable__control sk-hidden--visually\" id=\"sk-estimator-id-24\" type=\"checkbox\" ><label for=\"sk-estimator-id-24\" class=\"sk-toggleable__label sk-toggleable__label-arrow\">XGBClassifier</label><div class=\"sk-toggleable__content\"><pre>XGBClassifier(base_score=None, booster=None, callbacks=None,\n",
              "              colsample_bylevel=None, colsample_bynode=None,\n",
              "              colsample_bytree=None, device=None, early_stopping_rounds=None,\n",
              "              enable_categorical=False, eval_metric=None, feature_types=None,\n",
              "              gamma=3.673469387755102, grow_policy=None, importance_type=None,\n",
              "              interaction_constraints=None, learning_rate=0.2285714285714286,\n",
              "              max_bin=None, max_cat_threshold=None, max_cat_to_onehot=None,\n",
              "              max_delta_step=None, max_depth=19, max_leaves=0,\n",
              "              min_child_weight=None, missing=nan, monotone_constraints=None,\n",
              "              multi_strategy=None, n_estimators=100, n_jobs=-1,\n",
              "              num_parallel_tree=None, random_state=1, ...)</pre></div></div></div></div></div></div><div class=\"sk-parallel-item\"><div class=\"sk-item\"><div class=\"sk-label-container\"><div class=\"sk-label sk-toggleable\"><label>red_1</label></div></div><div class=\"sk-serial\"><div class=\"sk-item\"><div class=\"sk-estimator sk-toggleable\"><input class=\"sk-toggleable__control sk-hidden--visually\" id=\"sk-estimator-id-25\" type=\"checkbox\" ><label for=\"sk-estimator-id-25\" class=\"sk-toggleable__label sk-toggleable__label-arrow\">KerasClassifier</label><div class=\"sk-toggleable__content\"><pre>KerasClassifier(\n",
              "\tmodel=&lt;function crear_red at 0x7e323d2e96c0&gt;\n",
              "\tbuild_fn=None\n",
              "\twarm_start=False\n",
              "\trandom_state=None\n",
              "\toptimizer=rmsprop\n",
              "\tloss=None\n",
              "\tmetrics=None\n",
              "\tbatch_size=100\n",
              "\tvalidation_batch_size=None\n",
              "\tverbose=0\n",
              "\tcallbacks=None\n",
              "\tvalidation_split=0.0\n",
              "\tshuffle=True\n",
              "\trun_eagerly=False\n",
              "\tepochs=150\n",
              "\tclass_weight=None\n",
              ")</pre></div></div></div></div></div></div><div class=\"sk-parallel-item\"><div class=\"sk-item\"><div class=\"sk-label-container\"><div class=\"sk-label sk-toggleable\"><label>rf_2</label></div></div><div class=\"sk-serial\"><div class=\"sk-item\"><div class=\"sk-estimator sk-toggleable\"><input class=\"sk-toggleable__control sk-hidden--visually\" id=\"sk-estimator-id-26\" type=\"checkbox\" ><label for=\"sk-estimator-id-26\" class=\"sk-toggleable__label sk-toggleable__label-arrow\">RandomForestClassifier</label><div class=\"sk-toggleable__content\"><pre>RandomForestClassifier(max_features=&#x27;log2&#x27;, min_samples_leaf=2,\n",
              "                       min_samples_split=13, n_estimators=115, n_jobs=-1,\n",
              "                       oob_score=True, random_state=2)</pre></div></div></div></div></div></div><div class=\"sk-parallel-item\"><div class=\"sk-item\"><div class=\"sk-label-container\"><div class=\"sk-label sk-toggleable\"><label>xgb_2</label></div></div><div class=\"sk-serial\"><div class=\"sk-item\"><div class=\"sk-estimator sk-toggleable\"><input class=\"sk-toggleable__control sk-hidden--visually\" id=\"sk-estimator-id-27\" type=\"checkbox\" ><label for=\"sk-estimator-id-27\" class=\"sk-toggleable__label sk-toggleable__label-arrow\">XGBClassifier</label><div class=\"sk-toggleable__content\"><pre>XGBClassifier(base_score=None, booster=None, callbacks=None,\n",
              "              colsample_bylevel=None, colsample_bynode=None,\n",
              "              colsample_bytree=None, device=None, early_stopping_rounds=None,\n",
              "              enable_categorical=False, eval_metric=None, feature_types=None,\n",
              "              gamma=2.173469387755102, grow_policy=None, importance_type=None,\n",
              "              interaction_constraints=None, learning_rate=0.3285714285714286,\n",
              "              max_bin=None, max_cat_threshold=None, max_cat_to_onehot=None,\n",
              "              max_delta_step=None, max_depth=20, max_leaves=0,\n",
              "              min_child_weight=None, missing=nan, monotone_constraints=None,\n",
              "              multi_strategy=None, n_estimators=137, n_jobs=-1,\n",
              "              num_parallel_tree=None, random_state=1, ...)</pre></div></div></div></div></div></div><div class=\"sk-parallel-item\"><div class=\"sk-item\"><div class=\"sk-label-container\"><div class=\"sk-label sk-toggleable\"><label>red_2</label></div></div><div class=\"sk-serial\"><div class=\"sk-item\"><div class=\"sk-estimator sk-toggleable\"><input class=\"sk-toggleable__control sk-hidden--visually\" id=\"sk-estimator-id-28\" type=\"checkbox\" ><label for=\"sk-estimator-id-28\" class=\"sk-toggleable__label sk-toggleable__label-arrow\">KerasClassifier</label><div class=\"sk-toggleable__content\"><pre>KerasClassifier(\n",
              "\tmodel=&lt;function crear_red_extra at 0x7e323d2e9480&gt;\n",
              "\tbuild_fn=None\n",
              "\twarm_start=False\n",
              "\trandom_state=None\n",
              "\toptimizer=rmsprop\n",
              "\tloss=None\n",
              "\tmetrics=None\n",
              "\tbatch_size=117\n",
              "\tvalidation_batch_size=None\n",
              "\tverbose=0\n",
              "\tcallbacks=None\n",
              "\tvalidation_split=0.0\n",
              "\tshuffle=True\n",
              "\trun_eagerly=False\n",
              "\tepochs=176\n",
              "\tclass_weight=None\n",
              ")</pre></div></div></div></div></div></div></div></div><div class=\"sk-item\"><div class=\"sk-parallel\"><div class=\"sk-parallel-item\"><div class=\"sk-item\"><div class=\"sk-label-container\"><div class=\"sk-label sk-toggleable\"><label>final_estimator</label></div></div><div class=\"sk-serial\"><div class=\"sk-item\"><div class=\"sk-estimator sk-toggleable\"><input class=\"sk-toggleable__control sk-hidden--visually\" id=\"sk-estimator-id-29\" type=\"checkbox\" ><label for=\"sk-estimator-id-29\" class=\"sk-toggleable__label sk-toggleable__label-arrow\">LogisticRegressionCV</label><div class=\"sk-toggleable__content\"><pre>LogisticRegressionCV()</pre></div></div></div></div></div></div></div></div></div></div></div></div>"
            ]
          },
          "metadata": {},
          "execution_count": 50
        }
      ]
    },
    {
      "cell_type": "code",
      "source": [
        "y_pred_stacking_enc = stacking.predict(x_test_norm)\n",
        "y_pred_stacking = le.inverse_transform(y_pred_stacking_enc)"
      ],
      "metadata": {
        "id": "u82AgZBTV69j"
      },
      "execution_count": null,
      "outputs": []
    },
    {
      "cell_type": "code",
      "source": [
        "evaluar(y_test, y_pred_stacking,\n",
        "        seed_splits=semilla,\n",
        "        porcentaje_test=porcentaje_test,\n",
        "        titulo_matriz=\"Matriz de Confusión de Ensamble (Stacking)\")"
      ],
      "metadata": {
        "colab": {
          "base_uri": "https://localhost:8080/",
          "height": 785
        },
        "id": "4tMFHYixWGQ7",
        "outputId": "12c94d36-6ff4-425e-98f6-5c2c1ead945b"
      },
      "execution_count": null,
      "outputs": [
        {
          "output_type": "stream",
          "name": "stdout",
          "text": [
            "Splits Seed:\t3\n",
            "Train/Test:\t\t80.0% / 20.0%\n",
            "-\n",
            "Accuracy:\t\t0.8888\n",
            "Recall:\t\t\t0.8996\n",
            "Precision:\t\t0.8805794831636649\n",
            "f1 score:\t\t0.8899881282152751\n",
            "\n",
            "\n",
            "              precision    recall  f1-score   support\n",
            "\n",
            "    negativo       0.90      0.88      0.89      5000\n",
            "    positivo       0.88      0.90      0.89      5000\n",
            "\n",
            "    accuracy                           0.89     10000\n",
            "   macro avg       0.89      0.89      0.89     10000\n",
            "weighted avg       0.89      0.89      0.89     10000\n",
            "\n"
          ]
        },
        {
          "output_type": "display_data",
          "data": {
            "text/plain": [
              "<Figure size 640x480 with 2 Axes>"
            ],
            "image/png": "[encoded data removed]"
          },
          "metadata": {}
        }
      ]
    },
    {
      "cell_type": "markdown",
      "metadata": {
        "id": "F-PtrkHKBdl7"
      },
      "source": [
        "<hr/>"
      ]
    },
    {
      "cell_type": "markdown",
      "metadata": {
        "id": "-yELSZ_BBfNr"
      },
      "source": [
        "# **Exportando Predicciones**"
      ]
    },
    {
      "cell_type": "code",
      "execution_count": null,
      "metadata": {
        "id": "oeUXmASwDRky"
      },
      "outputs": [],
      "source": [
        "def generar_predicciones(df_test: pd.DataFrame,\n",
        "                         *,\n",
        "                         modelo,\n",
        "                         vectorizador: Union[CountVectorizer, TfidfVectorizer, None]=None,\n",
        "                         normalizar_splits: bool=False,\n",
        "                         escalador: Literal[\"std\", \"minmax\"]=\"std\",\n",
        "                         encodeador: Optional[LabelEncoder]=None,\n",
        "                         redondear: bool=False) -> np.ndarray:\n",
        "    \"\"\"\n",
        "    Toma un  dataset de testeo, y genera las predicciones para ese modelo.\n",
        "    -\n",
        "    'df_test': El dataset de testeo.\n",
        "\n",
        "    'modelo': El modelo de predicción, ya entrenado.\n",
        "\n",
        "    'vectorizador': El objeto que vectoriza las palabras del dataset de testeo.\n",
        "\n",
        "    'normalizar_splits': Los splits, donde sea posible, serán normalizados con un escalador.\n",
        "\n",
        "    'escalador': El escalador con el que normalizar los splits:\n",
        "                 - 'std' utiliza `sklearn.preprocessing.StandardScaler`.\n",
        "                 - 'minmax' utiliza `sklearn.preprocessing.MinMaxScaler`.\n",
        "\n",
        "    'redondear': Normalmente utilizada con redes neuronales, este parámetro indica si se\n",
        "                 deben redondear los valores al entero más cercano, y castearlos a `int`s.\n",
        "\n",
        "    'encodeador': Si el output fue encodeado (por ejemplo con `sklearn.LabelEncoder()`),\n",
        "                  desencodear los resultado mediante `encoder.inverse_transform()`.\n",
        "                  Dicho encodeador ya debe haber fitteado al menos una vez.\n",
        "                  Como esto tiene en cuenta enteros, es preferible que si se trabaja con floats\n",
        "                  se especifique `redondear=True`.\n",
        "    \"\"\"\n",
        "\n",
        "    if escalador not in (\"std\", \"minmax\"):\n",
        "        raise ValueError(f\"Argumento escalador='{escalador}' no válido. Debe ser 'std' o 'minmax'.\")\n",
        "\n",
        "    test_vect = vectorizar_palabras(df_test, vectorizador=vectorizador)\n",
        "    test_x, _ = split_in_axes(test_vect)\n",
        "\n",
        "    if normalizar_splits:\n",
        "        if escalador == \"std\":\n",
        "            scaler = StandardScaler(with_mean=False)\n",
        "        elif escalador == \"minmax\":\n",
        "            scaler = MinMaxScaler()\n",
        "\n",
        "        x_a_predecir = scaler.fit_transform(test_x)\n",
        "\n",
        "    else:\n",
        "        x_a_predecir = test_x\n",
        "\n",
        "    predicciones = modelo.predict(x_a_predecir)\n",
        "\n",
        "    if redondear:\n",
        "        predicciones = np.round(predicciones).astype(int)\n",
        "\n",
        "    if encodeador is not None:\n",
        "        predicciones = encodeador.inverse_transform(predicciones)\n",
        "\n",
        "    return predicciones"
      ]
    },
    {
      "cell_type": "code",
      "execution_count": null,
      "metadata": {
        "id": "SBM5xmWHBkVi"
      },
      "outputs": [],
      "source": [
        "def exportar_predicciones(df_test: pd.DataFrame, predicciones: np.ndarray,\n",
        "                          *,\n",
        "                          target: str=\"sentimiento\",\n",
        "                          nombre: \"PathLike\", # Más bien que se parezca a un nombre de archivo con extensión\n",
        "                          ruta: \"PathLike\"=\"./drive/MyDrive/Colab Notebooks/predictions\") -> None:\n",
        "    \"\"\"\n",
        "    Intenta guardar las predicciones en una ruta en Google Drive, para uso interno. Normalmente\n",
        "    como forma temporal para después subirlo a kaggle.\n",
        "    Se presupone que el drive ya fue montado junto con los imports.\n",
        "    -\n",
        "    'df_test': El DataFrame de los datos a predecir. De acá sacamos la columna 'id'.\n",
        "\n",
        "    'predicciones': Un `numpy.ndarray` (o lo que salga de `model.predict()`). Estos son los valores\n",
        "                    que han de llenar la columna del target.\n",
        "\n",
        "    'target': El nombre de la columna del target. A efectos de este TP2 siempre debería\n",
        "              ser `\"sentimiento\"`.\n",
        "\n",
        "    'nombre': El nombre del archivo en cuestión, de formato `.csv`. Ejemplo: `\"predicted1.csv\"`.\n",
        "\n",
        "    'ruta': Ruta del directorio en Drive donde el archivo será guardado.\n",
        "    \"\"\"\n",
        "\n",
        "    path = Path(ruta) / nombre\n",
        "    df_a_exportar = pd.DataFrame()\n",
        "\n",
        "    df_a_exportar.insert(loc=0, column=\"ID\", value=df_test[\"ID\"])\n",
        "    df_a_exportar.insert(loc=1, column=target, value=predicciones)\n",
        "\n",
        "    df_a_exportar.to_csv(path, index=False)"
      ]
    },
    {
      "cell_type": "code",
      "execution_count": null,
      "metadata": {
        "id": "8TQkX8-jCHI8"
      },
      "outputs": [],
      "source": [
        "# predicciones = generar_predicciones(test, vectorizador=vect, modelo=stacking,\n",
        "#                                     normalizar_splits=True,\n",
        "#                                     encodeador=le, redondear=False)\n",
        "# exportar_predicciones(test, predicciones,\n",
        "#                       nombre=\"predicciones_ensamble_stacking.csv\")"
      ]
    }
  ],
  "metadata": {
    "colab": {
      "provenance": []
    },
    "kernelspec": {
      "display_name": "Python 3",
      "name": "python3"
    },
    "language_info": {
      "name": "python"
    }
  },
  "nbformat": 4,
  "nbformat_minor": 0
}